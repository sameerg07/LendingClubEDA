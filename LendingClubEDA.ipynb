{
 "cells": [
  {
   "cell_type": "code",
   "execution_count": 1,
   "id": "3a182345",
   "metadata": {},
   "outputs": [],
   "source": [
    "import pandas as pd\n",
    "import numpy as np\n",
    "import seaborn as sns\n",
    "import matplotlib.pyplot as plt"
   ]
  },
  {
   "cell_type": "code",
   "execution_count": 2,
   "id": "c5756032",
   "metadata": {},
   "outputs": [
    {
     "name": "stdout",
     "output_type": "stream",
     "text": [
      "Shape of the dataset is:  (39717, 111)\n"
     ]
    },
    {
     "name": "stderr",
     "output_type": "stream",
     "text": [
      "C:\\Users\\Sameer\\Anaconda3\\lib\\site-packages\\IPython\\core\\interactiveshell.py:2785: DtypeWarning: Columns (47) have mixed types. Specify dtype option on import or set low_memory=False.\n",
      "  interactivity=interactivity, compiler=compiler, result=result)\n"
     ]
    },
    {
     "data": {
      "text/html": [
       "<div>\n",
       "<style scoped>\n",
       "    .dataframe tbody tr th:only-of-type {\n",
       "        vertical-align: middle;\n",
       "    }\n",
       "\n",
       "    .dataframe tbody tr th {\n",
       "        vertical-align: top;\n",
       "    }\n",
       "\n",
       "    .dataframe thead th {\n",
       "        text-align: right;\n",
       "    }\n",
       "</style>\n",
       "<table border=\"1\" class=\"dataframe\">\n",
       "  <thead>\n",
       "    <tr style=\"text-align: right;\">\n",
       "      <th></th>\n",
       "      <th>id</th>\n",
       "      <th>member_id</th>\n",
       "      <th>loan_amnt</th>\n",
       "      <th>funded_amnt</th>\n",
       "      <th>funded_amnt_inv</th>\n",
       "      <th>term</th>\n",
       "      <th>int_rate</th>\n",
       "      <th>installment</th>\n",
       "      <th>grade</th>\n",
       "      <th>sub_grade</th>\n",
       "      <th>...</th>\n",
       "      <th>num_tl_90g_dpd_24m</th>\n",
       "      <th>num_tl_op_past_12m</th>\n",
       "      <th>pct_tl_nvr_dlq</th>\n",
       "      <th>percent_bc_gt_75</th>\n",
       "      <th>pub_rec_bankruptcies</th>\n",
       "      <th>tax_liens</th>\n",
       "      <th>tot_hi_cred_lim</th>\n",
       "      <th>total_bal_ex_mort</th>\n",
       "      <th>total_bc_limit</th>\n",
       "      <th>total_il_high_credit_limit</th>\n",
       "    </tr>\n",
       "  </thead>\n",
       "  <tbody>\n",
       "    <tr>\n",
       "      <th>0</th>\n",
       "      <td>1077501</td>\n",
       "      <td>1296599</td>\n",
       "      <td>5000</td>\n",
       "      <td>5000</td>\n",
       "      <td>4975.0</td>\n",
       "      <td>36 months</td>\n",
       "      <td>10.65%</td>\n",
       "      <td>162.87</td>\n",
       "      <td>B</td>\n",
       "      <td>B2</td>\n",
       "      <td>...</td>\n",
       "      <td>NaN</td>\n",
       "      <td>NaN</td>\n",
       "      <td>NaN</td>\n",
       "      <td>NaN</td>\n",
       "      <td>0.0</td>\n",
       "      <td>0.0</td>\n",
       "      <td>NaN</td>\n",
       "      <td>NaN</td>\n",
       "      <td>NaN</td>\n",
       "      <td>NaN</td>\n",
       "    </tr>\n",
       "    <tr>\n",
       "      <th>1</th>\n",
       "      <td>1077430</td>\n",
       "      <td>1314167</td>\n",
       "      <td>2500</td>\n",
       "      <td>2500</td>\n",
       "      <td>2500.0</td>\n",
       "      <td>60 months</td>\n",
       "      <td>15.27%</td>\n",
       "      <td>59.83</td>\n",
       "      <td>C</td>\n",
       "      <td>C4</td>\n",
       "      <td>...</td>\n",
       "      <td>NaN</td>\n",
       "      <td>NaN</td>\n",
       "      <td>NaN</td>\n",
       "      <td>NaN</td>\n",
       "      <td>0.0</td>\n",
       "      <td>0.0</td>\n",
       "      <td>NaN</td>\n",
       "      <td>NaN</td>\n",
       "      <td>NaN</td>\n",
       "      <td>NaN</td>\n",
       "    </tr>\n",
       "    <tr>\n",
       "      <th>2</th>\n",
       "      <td>1077175</td>\n",
       "      <td>1313524</td>\n",
       "      <td>2400</td>\n",
       "      <td>2400</td>\n",
       "      <td>2400.0</td>\n",
       "      <td>36 months</td>\n",
       "      <td>15.96%</td>\n",
       "      <td>84.33</td>\n",
       "      <td>C</td>\n",
       "      <td>C5</td>\n",
       "      <td>...</td>\n",
       "      <td>NaN</td>\n",
       "      <td>NaN</td>\n",
       "      <td>NaN</td>\n",
       "      <td>NaN</td>\n",
       "      <td>0.0</td>\n",
       "      <td>0.0</td>\n",
       "      <td>NaN</td>\n",
       "      <td>NaN</td>\n",
       "      <td>NaN</td>\n",
       "      <td>NaN</td>\n",
       "    </tr>\n",
       "    <tr>\n",
       "      <th>3</th>\n",
       "      <td>1076863</td>\n",
       "      <td>1277178</td>\n",
       "      <td>10000</td>\n",
       "      <td>10000</td>\n",
       "      <td>10000.0</td>\n",
       "      <td>36 months</td>\n",
       "      <td>13.49%</td>\n",
       "      <td>339.31</td>\n",
       "      <td>C</td>\n",
       "      <td>C1</td>\n",
       "      <td>...</td>\n",
       "      <td>NaN</td>\n",
       "      <td>NaN</td>\n",
       "      <td>NaN</td>\n",
       "      <td>NaN</td>\n",
       "      <td>0.0</td>\n",
       "      <td>0.0</td>\n",
       "      <td>NaN</td>\n",
       "      <td>NaN</td>\n",
       "      <td>NaN</td>\n",
       "      <td>NaN</td>\n",
       "    </tr>\n",
       "    <tr>\n",
       "      <th>4</th>\n",
       "      <td>1075358</td>\n",
       "      <td>1311748</td>\n",
       "      <td>3000</td>\n",
       "      <td>3000</td>\n",
       "      <td>3000.0</td>\n",
       "      <td>60 months</td>\n",
       "      <td>12.69%</td>\n",
       "      <td>67.79</td>\n",
       "      <td>B</td>\n",
       "      <td>B5</td>\n",
       "      <td>...</td>\n",
       "      <td>NaN</td>\n",
       "      <td>NaN</td>\n",
       "      <td>NaN</td>\n",
       "      <td>NaN</td>\n",
       "      <td>0.0</td>\n",
       "      <td>0.0</td>\n",
       "      <td>NaN</td>\n",
       "      <td>NaN</td>\n",
       "      <td>NaN</td>\n",
       "      <td>NaN</td>\n",
       "    </tr>\n",
       "  </tbody>\n",
       "</table>\n",
       "<p>5 rows × 111 columns</p>\n",
       "</div>"
      ],
      "text/plain": [
       "        id  member_id  loan_amnt  funded_amnt  funded_amnt_inv        term  \\\n",
       "0  1077501    1296599       5000         5000           4975.0   36 months   \n",
       "1  1077430    1314167       2500         2500           2500.0   60 months   \n",
       "2  1077175    1313524       2400         2400           2400.0   36 months   \n",
       "3  1076863    1277178      10000        10000          10000.0   36 months   \n",
       "4  1075358    1311748       3000         3000           3000.0   60 months   \n",
       "\n",
       "  int_rate  installment grade sub_grade            ...              \\\n",
       "0   10.65%       162.87     B        B2            ...               \n",
       "1   15.27%        59.83     C        C4            ...               \n",
       "2   15.96%        84.33     C        C5            ...               \n",
       "3   13.49%       339.31     C        C1            ...               \n",
       "4   12.69%        67.79     B        B5            ...               \n",
       "\n",
       "  num_tl_90g_dpd_24m num_tl_op_past_12m pct_tl_nvr_dlq  percent_bc_gt_75  \\\n",
       "0                NaN                NaN            NaN               NaN   \n",
       "1                NaN                NaN            NaN               NaN   \n",
       "2                NaN                NaN            NaN               NaN   \n",
       "3                NaN                NaN            NaN               NaN   \n",
       "4                NaN                NaN            NaN               NaN   \n",
       "\n",
       "  pub_rec_bankruptcies tax_liens tot_hi_cred_lim total_bal_ex_mort  \\\n",
       "0                  0.0       0.0             NaN               NaN   \n",
       "1                  0.0       0.0             NaN               NaN   \n",
       "2                  0.0       0.0             NaN               NaN   \n",
       "3                  0.0       0.0             NaN               NaN   \n",
       "4                  0.0       0.0             NaN               NaN   \n",
       "\n",
       "  total_bc_limit total_il_high_credit_limit  \n",
       "0            NaN                        NaN  \n",
       "1            NaN                        NaN  \n",
       "2            NaN                        NaN  \n",
       "3            NaN                        NaN  \n",
       "4            NaN                        NaN  \n",
       "\n",
       "[5 rows x 111 columns]"
      ]
     },
     "execution_count": 2,
     "metadata": {},
     "output_type": "execute_result"
    }
   ],
   "source": [
    "#load dataset\n",
    "df = pd.read_csv(\"Data/loan.csv\")\n",
    "shape = df.shape\n",
    "print(\"Shape of the dataset is: \", shape)\n",
    "df.head()"
   ]
  },
  {
   "cell_type": "markdown",
   "id": "8e96417b",
   "metadata": {},
   "source": [
    "- There are 111 columns in the given dataset"
   ]
  },
  {
   "cell_type": "markdown",
   "id": "77f07720",
   "metadata": {},
   "source": [
    "## 1. Data Cleaning"
   ]
  },
  {
   "cell_type": "code",
   "execution_count": 3,
   "id": "92d8f506",
   "metadata": {},
   "outputs": [
    {
     "data": {
      "text/plain": [
       "(54, 1)"
      ]
     },
     "execution_count": 3,
     "metadata": {},
     "output_type": "execute_result"
    }
   ],
   "source": [
    "##find columns with 100% missing values\n",
    "missing = 100*(df.isnull().sum()/df.shape[0]).to_frame()\n",
    "missing = missing[missing[0]==100]\n",
    "missing.shape"
   ]
  },
  {
   "cell_type": "code",
   "execution_count": 4,
   "id": "adefa762",
   "metadata": {},
   "outputs": [
    {
     "data": {
      "text/plain": [
       "['mths_since_last_major_derog',\n",
       " 'annual_inc_joint',\n",
       " 'dti_joint',\n",
       " 'verification_status_joint',\n",
       " 'tot_coll_amt',\n",
       " 'tot_cur_bal',\n",
       " 'open_acc_6m',\n",
       " 'open_il_6m',\n",
       " 'open_il_12m',\n",
       " 'open_il_24m',\n",
       " 'mths_since_rcnt_il',\n",
       " 'total_bal_il',\n",
       " 'il_util',\n",
       " 'open_rv_12m',\n",
       " 'open_rv_24m',\n",
       " 'max_bal_bc',\n",
       " 'all_util',\n",
       " 'total_rev_hi_lim',\n",
       " 'inq_fi',\n",
       " 'total_cu_tl',\n",
       " 'inq_last_12m',\n",
       " 'acc_open_past_24mths',\n",
       " 'avg_cur_bal',\n",
       " 'bc_open_to_buy',\n",
       " 'bc_util',\n",
       " 'mo_sin_old_il_acct',\n",
       " 'mo_sin_old_rev_tl_op',\n",
       " 'mo_sin_rcnt_rev_tl_op',\n",
       " 'mo_sin_rcnt_tl',\n",
       " 'mort_acc',\n",
       " 'mths_since_recent_bc',\n",
       " 'mths_since_recent_bc_dlq',\n",
       " 'mths_since_recent_inq',\n",
       " 'mths_since_recent_revol_delinq',\n",
       " 'num_accts_ever_120_pd',\n",
       " 'num_actv_bc_tl',\n",
       " 'num_actv_rev_tl',\n",
       " 'num_bc_sats',\n",
       " 'num_bc_tl',\n",
       " 'num_il_tl',\n",
       " 'num_op_rev_tl',\n",
       " 'num_rev_accts',\n",
       " 'num_rev_tl_bal_gt_0',\n",
       " 'num_sats',\n",
       " 'num_tl_120dpd_2m',\n",
       " 'num_tl_30dpd',\n",
       " 'num_tl_90g_dpd_24m',\n",
       " 'num_tl_op_past_12m',\n",
       " 'pct_tl_nvr_dlq',\n",
       " 'percent_bc_gt_75',\n",
       " 'tot_hi_cred_lim',\n",
       " 'total_bal_ex_mort',\n",
       " 'total_bc_limit',\n",
       " 'total_il_high_credit_limit']"
      ]
     },
     "execution_count": 4,
     "metadata": {},
     "output_type": "execute_result"
    }
   ],
   "source": [
    "## names of above 54 columns\n",
    "list(missing.index)"
   ]
  },
  {
   "cell_type": "code",
   "execution_count": 5,
   "id": "ca6ba718",
   "metadata": {},
   "outputs": [],
   "source": [
    "#drop the above columns\n",
    "df.drop(columns=list(missing.index),inplace=True)"
   ]
  },
  {
   "cell_type": "code",
   "execution_count": 6,
   "id": "24844184",
   "metadata": {},
   "outputs": [
    {
     "data": {
      "text/plain": [
       "57"
      ]
     },
     "execution_count": 6,
     "metadata": {},
     "output_type": "execute_result"
    }
   ],
   "source": [
    "#remaining columns\n",
    "len(df.columns)"
   ]
  },
  {
   "cell_type": "markdown",
   "id": "43a87332",
   "metadata": {},
   "source": [
    "- We are now left with 57 columns after dropping 54 of columns with no data"
   ]
  },
  {
   "cell_type": "code",
   "execution_count": 7,
   "id": "2cb258fc",
   "metadata": {},
   "outputs": [
    {
     "data": {
      "text/html": [
       "<div>\n",
       "<style scoped>\n",
       "    .dataframe tbody tr th:only-of-type {\n",
       "        vertical-align: middle;\n",
       "    }\n",
       "\n",
       "    .dataframe tbody tr th {\n",
       "        vertical-align: top;\n",
       "    }\n",
       "\n",
       "    .dataframe thead th {\n",
       "        text-align: right;\n",
       "    }\n",
       "</style>\n",
       "<table border=\"1\" class=\"dataframe\">\n",
       "  <thead>\n",
       "    <tr style=\"text-align: right;\">\n",
       "      <th></th>\n",
       "      <th>0</th>\n",
       "    </tr>\n",
       "  </thead>\n",
       "  <tbody>\n",
       "    <tr>\n",
       "      <th>next_pymnt_d</th>\n",
       "      <td>97.129693</td>\n",
       "    </tr>\n",
       "    <tr>\n",
       "      <th>mths_since_last_record</th>\n",
       "      <td>92.985372</td>\n",
       "    </tr>\n",
       "    <tr>\n",
       "      <th>mths_since_last_delinq</th>\n",
       "      <td>64.662487</td>\n",
       "    </tr>\n",
       "    <tr>\n",
       "      <th>desc</th>\n",
       "      <td>32.580507</td>\n",
       "    </tr>\n",
       "    <tr>\n",
       "      <th>emp_title</th>\n",
       "      <td>6.191303</td>\n",
       "    </tr>\n",
       "    <tr>\n",
       "      <th>emp_length</th>\n",
       "      <td>2.706650</td>\n",
       "    </tr>\n",
       "    <tr>\n",
       "      <th>pub_rec_bankruptcies</th>\n",
       "      <td>1.754916</td>\n",
       "    </tr>\n",
       "    <tr>\n",
       "      <th>last_pymnt_d</th>\n",
       "      <td>0.178765</td>\n",
       "    </tr>\n",
       "    <tr>\n",
       "      <th>chargeoff_within_12_mths</th>\n",
       "      <td>0.140998</td>\n",
       "    </tr>\n",
       "    <tr>\n",
       "      <th>collections_12_mths_ex_med</th>\n",
       "      <td>0.140998</td>\n",
       "    </tr>\n",
       "    <tr>\n",
       "      <th>revol_util</th>\n",
       "      <td>0.125891</td>\n",
       "    </tr>\n",
       "    <tr>\n",
       "      <th>tax_liens</th>\n",
       "      <td>0.098195</td>\n",
       "    </tr>\n",
       "    <tr>\n",
       "      <th>title</th>\n",
       "      <td>0.027696</td>\n",
       "    </tr>\n",
       "    <tr>\n",
       "      <th>last_credit_pull_d</th>\n",
       "      <td>0.005036</td>\n",
       "    </tr>\n",
       "    <tr>\n",
       "      <th>home_ownership</th>\n",
       "      <td>0.000000</td>\n",
       "    </tr>\n",
       "    <tr>\n",
       "      <th>int_rate</th>\n",
       "      <td>0.000000</td>\n",
       "    </tr>\n",
       "    <tr>\n",
       "      <th>out_prncp_inv</th>\n",
       "      <td>0.000000</td>\n",
       "    </tr>\n",
       "    <tr>\n",
       "      <th>total_pymnt</th>\n",
       "      <td>0.000000</td>\n",
       "    </tr>\n",
       "    <tr>\n",
       "      <th>total_pymnt_inv</th>\n",
       "      <td>0.000000</td>\n",
       "    </tr>\n",
       "    <tr>\n",
       "      <th>total_rec_prncp</th>\n",
       "      <td>0.000000</td>\n",
       "    </tr>\n",
       "    <tr>\n",
       "      <th>total_rec_int</th>\n",
       "      <td>0.000000</td>\n",
       "    </tr>\n",
       "    <tr>\n",
       "      <th>total_rec_late_fee</th>\n",
       "      <td>0.000000</td>\n",
       "    </tr>\n",
       "    <tr>\n",
       "      <th>recoveries</th>\n",
       "      <td>0.000000</td>\n",
       "    </tr>\n",
       "    <tr>\n",
       "      <th>collection_recovery_fee</th>\n",
       "      <td>0.000000</td>\n",
       "    </tr>\n",
       "    <tr>\n",
       "      <th>term</th>\n",
       "      <td>0.000000</td>\n",
       "    </tr>\n",
       "    <tr>\n",
       "      <th>last_pymnt_amnt</th>\n",
       "      <td>0.000000</td>\n",
       "    </tr>\n",
       "    <tr>\n",
       "      <th>initial_list_status</th>\n",
       "      <td>0.000000</td>\n",
       "    </tr>\n",
       "    <tr>\n",
       "      <th>funded_amnt_inv</th>\n",
       "      <td>0.000000</td>\n",
       "    </tr>\n",
       "    <tr>\n",
       "      <th>policy_code</th>\n",
       "      <td>0.000000</td>\n",
       "    </tr>\n",
       "    <tr>\n",
       "      <th>application_type</th>\n",
       "      <td>0.000000</td>\n",
       "    </tr>\n",
       "    <tr>\n",
       "      <th>acc_now_delinq</th>\n",
       "      <td>0.000000</td>\n",
       "    </tr>\n",
       "    <tr>\n",
       "      <th>funded_amnt</th>\n",
       "      <td>0.000000</td>\n",
       "    </tr>\n",
       "    <tr>\n",
       "      <th>delinq_amnt</th>\n",
       "      <td>0.000000</td>\n",
       "    </tr>\n",
       "    <tr>\n",
       "      <th>loan_amnt</th>\n",
       "      <td>0.000000</td>\n",
       "    </tr>\n",
       "    <tr>\n",
       "      <th>out_prncp</th>\n",
       "      <td>0.000000</td>\n",
       "    </tr>\n",
       "    <tr>\n",
       "      <th>total_acc</th>\n",
       "      <td>0.000000</td>\n",
       "    </tr>\n",
       "    <tr>\n",
       "      <th>annual_inc</th>\n",
       "      <td>0.000000</td>\n",
       "    </tr>\n",
       "    <tr>\n",
       "      <th>addr_state</th>\n",
       "      <td>0.000000</td>\n",
       "    </tr>\n",
       "    <tr>\n",
       "      <th>verification_status</th>\n",
       "      <td>0.000000</td>\n",
       "    </tr>\n",
       "    <tr>\n",
       "      <th>issue_d</th>\n",
       "      <td>0.000000</td>\n",
       "    </tr>\n",
       "    <tr>\n",
       "      <th>loan_status</th>\n",
       "      <td>0.000000</td>\n",
       "    </tr>\n",
       "    <tr>\n",
       "      <th>pymnt_plan</th>\n",
       "      <td>0.000000</td>\n",
       "    </tr>\n",
       "    <tr>\n",
       "      <th>url</th>\n",
       "      <td>0.000000</td>\n",
       "    </tr>\n",
       "    <tr>\n",
       "      <th>sub_grade</th>\n",
       "      <td>0.000000</td>\n",
       "    </tr>\n",
       "    <tr>\n",
       "      <th>purpose</th>\n",
       "      <td>0.000000</td>\n",
       "    </tr>\n",
       "    <tr>\n",
       "      <th>zip_code</th>\n",
       "      <td>0.000000</td>\n",
       "    </tr>\n",
       "    <tr>\n",
       "      <th>dti</th>\n",
       "      <td>0.000000</td>\n",
       "    </tr>\n",
       "    <tr>\n",
       "      <th>installment</th>\n",
       "      <td>0.000000</td>\n",
       "    </tr>\n",
       "    <tr>\n",
       "      <th>delinq_2yrs</th>\n",
       "      <td>0.000000</td>\n",
       "    </tr>\n",
       "    <tr>\n",
       "      <th>earliest_cr_line</th>\n",
       "      <td>0.000000</td>\n",
       "    </tr>\n",
       "    <tr>\n",
       "      <th>inq_last_6mths</th>\n",
       "      <td>0.000000</td>\n",
       "    </tr>\n",
       "    <tr>\n",
       "      <th>member_id</th>\n",
       "      <td>0.000000</td>\n",
       "    </tr>\n",
       "    <tr>\n",
       "      <th>grade</th>\n",
       "      <td>0.000000</td>\n",
       "    </tr>\n",
       "    <tr>\n",
       "      <th>open_acc</th>\n",
       "      <td>0.000000</td>\n",
       "    </tr>\n",
       "    <tr>\n",
       "      <th>pub_rec</th>\n",
       "      <td>0.000000</td>\n",
       "    </tr>\n",
       "    <tr>\n",
       "      <th>revol_bal</th>\n",
       "      <td>0.000000</td>\n",
       "    </tr>\n",
       "    <tr>\n",
       "      <th>id</th>\n",
       "      <td>0.000000</td>\n",
       "    </tr>\n",
       "  </tbody>\n",
       "</table>\n",
       "</div>"
      ],
      "text/plain": [
       "                                    0\n",
       "next_pymnt_d                97.129693\n",
       "mths_since_last_record      92.985372\n",
       "mths_since_last_delinq      64.662487\n",
       "desc                        32.580507\n",
       "emp_title                    6.191303\n",
       "emp_length                   2.706650\n",
       "pub_rec_bankruptcies         1.754916\n",
       "last_pymnt_d                 0.178765\n",
       "chargeoff_within_12_mths     0.140998\n",
       "collections_12_mths_ex_med   0.140998\n",
       "revol_util                   0.125891\n",
       "tax_liens                    0.098195\n",
       "title                        0.027696\n",
       "last_credit_pull_d           0.005036\n",
       "home_ownership               0.000000\n",
       "int_rate                     0.000000\n",
       "out_prncp_inv                0.000000\n",
       "total_pymnt                  0.000000\n",
       "total_pymnt_inv              0.000000\n",
       "total_rec_prncp              0.000000\n",
       "total_rec_int                0.000000\n",
       "total_rec_late_fee           0.000000\n",
       "recoveries                   0.000000\n",
       "collection_recovery_fee      0.000000\n",
       "term                         0.000000\n",
       "last_pymnt_amnt              0.000000\n",
       "initial_list_status          0.000000\n",
       "funded_amnt_inv              0.000000\n",
       "policy_code                  0.000000\n",
       "application_type             0.000000\n",
       "acc_now_delinq               0.000000\n",
       "funded_amnt                  0.000000\n",
       "delinq_amnt                  0.000000\n",
       "loan_amnt                    0.000000\n",
       "out_prncp                    0.000000\n",
       "total_acc                    0.000000\n",
       "annual_inc                   0.000000\n",
       "addr_state                   0.000000\n",
       "verification_status          0.000000\n",
       "issue_d                      0.000000\n",
       "loan_status                  0.000000\n",
       "pymnt_plan                   0.000000\n",
       "url                          0.000000\n",
       "sub_grade                    0.000000\n",
       "purpose                      0.000000\n",
       "zip_code                     0.000000\n",
       "dti                          0.000000\n",
       "installment                  0.000000\n",
       "delinq_2yrs                  0.000000\n",
       "earliest_cr_line             0.000000\n",
       "inq_last_6mths               0.000000\n",
       "member_id                    0.000000\n",
       "grade                        0.000000\n",
       "open_acc                     0.000000\n",
       "pub_rec                      0.000000\n",
       "revol_bal                    0.000000\n",
       "id                           0.000000"
      ]
     },
     "execution_count": 7,
     "metadata": {},
     "output_type": "execute_result"
    }
   ],
   "source": [
    "## lets see the missing values within the left out columns\n",
    "missing = (100* df.isnull().sum()/df.shape[0]).to_frame()\n",
    "missing.sort_values(0,ascending=False)"
   ]
  },
  {
   "cell_type": "markdown",
   "id": "c51a7f14",
   "metadata": {},
   "source": [
    "### Dropping below columns:\n",
    "- Cannot predict next_payment_date, so it's better to drop the column which has 97.129693% of missing data\n",
    "- Months since last record, this field has 92.985372% of missing data. We do not know what NA means here. So dropping it.\n",
    "- mths_since_last_delinq has 65% of missing data, and this field isn't that relevant to work with only 35% available data.\n",
    "- desc, its just description/reason for the loan.\n",
    "- emp_title is not relevant here so dropping it"
   ]
  },
  {
   "cell_type": "code",
   "execution_count": 8,
   "id": "73e4f47d",
   "metadata": {},
   "outputs": [],
   "source": [
    "df.drop(columns=[\"next_pymnt_d\",\"mths_since_last_record\",\"mths_since_last_delinq\",\"mths_since_last_record\",\"desc\",\"emp_title\"],inplace=True)"
   ]
  },
  {
   "cell_type": "code",
   "execution_count": 9,
   "id": "88708fb9",
   "metadata": {},
   "outputs": [
    {
     "data": {
      "text/html": [
       "<div>\n",
       "<style scoped>\n",
       "    .dataframe tbody tr th:only-of-type {\n",
       "        vertical-align: middle;\n",
       "    }\n",
       "\n",
       "    .dataframe tbody tr th {\n",
       "        vertical-align: top;\n",
       "    }\n",
       "\n",
       "    .dataframe thead th {\n",
       "        text-align: right;\n",
       "    }\n",
       "</style>\n",
       "<table border=\"1\" class=\"dataframe\">\n",
       "  <thead>\n",
       "    <tr style=\"text-align: right;\">\n",
       "      <th></th>\n",
       "      <th>0</th>\n",
       "    </tr>\n",
       "  </thead>\n",
       "  <tbody>\n",
       "    <tr>\n",
       "      <th>emp_length</th>\n",
       "      <td>2.706650</td>\n",
       "    </tr>\n",
       "    <tr>\n",
       "      <th>pub_rec_bankruptcies</th>\n",
       "      <td>1.754916</td>\n",
       "    </tr>\n",
       "    <tr>\n",
       "      <th>last_pymnt_d</th>\n",
       "      <td>0.178765</td>\n",
       "    </tr>\n",
       "    <tr>\n",
       "      <th>chargeoff_within_12_mths</th>\n",
       "      <td>0.140998</td>\n",
       "    </tr>\n",
       "    <tr>\n",
       "      <th>collections_12_mths_ex_med</th>\n",
       "      <td>0.140998</td>\n",
       "    </tr>\n",
       "    <tr>\n",
       "      <th>revol_util</th>\n",
       "      <td>0.125891</td>\n",
       "    </tr>\n",
       "    <tr>\n",
       "      <th>tax_liens</th>\n",
       "      <td>0.098195</td>\n",
       "    </tr>\n",
       "    <tr>\n",
       "      <th>title</th>\n",
       "      <td>0.027696</td>\n",
       "    </tr>\n",
       "    <tr>\n",
       "      <th>last_credit_pull_d</th>\n",
       "      <td>0.005036</td>\n",
       "    </tr>\n",
       "    <tr>\n",
       "      <th>total_rec_prncp</th>\n",
       "      <td>0.000000</td>\n",
       "    </tr>\n",
       "    <tr>\n",
       "      <th>total_acc</th>\n",
       "      <td>0.000000</td>\n",
       "    </tr>\n",
       "    <tr>\n",
       "      <th>initial_list_status</th>\n",
       "      <td>0.000000</td>\n",
       "    </tr>\n",
       "    <tr>\n",
       "      <th>out_prncp</th>\n",
       "      <td>0.000000</td>\n",
       "    </tr>\n",
       "    <tr>\n",
       "      <th>out_prncp_inv</th>\n",
       "      <td>0.000000</td>\n",
       "    </tr>\n",
       "    <tr>\n",
       "      <th>total_pymnt</th>\n",
       "      <td>0.000000</td>\n",
       "    </tr>\n",
       "    <tr>\n",
       "      <th>total_pymnt_inv</th>\n",
       "      <td>0.000000</td>\n",
       "    </tr>\n",
       "    <tr>\n",
       "      <th>collection_recovery_fee</th>\n",
       "      <td>0.000000</td>\n",
       "    </tr>\n",
       "    <tr>\n",
       "      <th>total_rec_int</th>\n",
       "      <td>0.000000</td>\n",
       "    </tr>\n",
       "    <tr>\n",
       "      <th>total_rec_late_fee</th>\n",
       "      <td>0.000000</td>\n",
       "    </tr>\n",
       "    <tr>\n",
       "      <th>recoveries</th>\n",
       "      <td>0.000000</td>\n",
       "    </tr>\n",
       "    <tr>\n",
       "      <th>pub_rec</th>\n",
       "      <td>0.000000</td>\n",
       "    </tr>\n",
       "    <tr>\n",
       "      <th>last_pymnt_amnt</th>\n",
       "      <td>0.000000</td>\n",
       "    </tr>\n",
       "    <tr>\n",
       "      <th>policy_code</th>\n",
       "      <td>0.000000</td>\n",
       "    </tr>\n",
       "    <tr>\n",
       "      <th>application_type</th>\n",
       "      <td>0.000000</td>\n",
       "    </tr>\n",
       "    <tr>\n",
       "      <th>acc_now_delinq</th>\n",
       "      <td>0.000000</td>\n",
       "    </tr>\n",
       "    <tr>\n",
       "      <th>delinq_amnt</th>\n",
       "      <td>0.000000</td>\n",
       "    </tr>\n",
       "    <tr>\n",
       "      <th>revol_bal</th>\n",
       "      <td>0.000000</td>\n",
       "    </tr>\n",
       "    <tr>\n",
       "      <th>id</th>\n",
       "      <td>0.000000</td>\n",
       "    </tr>\n",
       "    <tr>\n",
       "      <th>member_id</th>\n",
       "      <td>0.000000</td>\n",
       "    </tr>\n",
       "    <tr>\n",
       "      <th>inq_last_6mths</th>\n",
       "      <td>0.000000</td>\n",
       "    </tr>\n",
       "    <tr>\n",
       "      <th>loan_amnt</th>\n",
       "      <td>0.000000</td>\n",
       "    </tr>\n",
       "    <tr>\n",
       "      <th>funded_amnt</th>\n",
       "      <td>0.000000</td>\n",
       "    </tr>\n",
       "    <tr>\n",
       "      <th>funded_amnt_inv</th>\n",
       "      <td>0.000000</td>\n",
       "    </tr>\n",
       "    <tr>\n",
       "      <th>term</th>\n",
       "      <td>0.000000</td>\n",
       "    </tr>\n",
       "    <tr>\n",
       "      <th>int_rate</th>\n",
       "      <td>0.000000</td>\n",
       "    </tr>\n",
       "    <tr>\n",
       "      <th>installment</th>\n",
       "      <td>0.000000</td>\n",
       "    </tr>\n",
       "    <tr>\n",
       "      <th>grade</th>\n",
       "      <td>0.000000</td>\n",
       "    </tr>\n",
       "    <tr>\n",
       "      <th>sub_grade</th>\n",
       "      <td>0.000000</td>\n",
       "    </tr>\n",
       "    <tr>\n",
       "      <th>home_ownership</th>\n",
       "      <td>0.000000</td>\n",
       "    </tr>\n",
       "    <tr>\n",
       "      <th>annual_inc</th>\n",
       "      <td>0.000000</td>\n",
       "    </tr>\n",
       "    <tr>\n",
       "      <th>verification_status</th>\n",
       "      <td>0.000000</td>\n",
       "    </tr>\n",
       "    <tr>\n",
       "      <th>issue_d</th>\n",
       "      <td>0.000000</td>\n",
       "    </tr>\n",
       "    <tr>\n",
       "      <th>loan_status</th>\n",
       "      <td>0.000000</td>\n",
       "    </tr>\n",
       "    <tr>\n",
       "      <th>pymnt_plan</th>\n",
       "      <td>0.000000</td>\n",
       "    </tr>\n",
       "    <tr>\n",
       "      <th>url</th>\n",
       "      <td>0.000000</td>\n",
       "    </tr>\n",
       "    <tr>\n",
       "      <th>purpose</th>\n",
       "      <td>0.000000</td>\n",
       "    </tr>\n",
       "    <tr>\n",
       "      <th>zip_code</th>\n",
       "      <td>0.000000</td>\n",
       "    </tr>\n",
       "    <tr>\n",
       "      <th>addr_state</th>\n",
       "      <td>0.000000</td>\n",
       "    </tr>\n",
       "    <tr>\n",
       "      <th>dti</th>\n",
       "      <td>0.000000</td>\n",
       "    </tr>\n",
       "    <tr>\n",
       "      <th>delinq_2yrs</th>\n",
       "      <td>0.000000</td>\n",
       "    </tr>\n",
       "    <tr>\n",
       "      <th>earliest_cr_line</th>\n",
       "      <td>0.000000</td>\n",
       "    </tr>\n",
       "    <tr>\n",
       "      <th>open_acc</th>\n",
       "      <td>0.000000</td>\n",
       "    </tr>\n",
       "  </tbody>\n",
       "</table>\n",
       "</div>"
      ],
      "text/plain": [
       "                                   0\n",
       "emp_length                  2.706650\n",
       "pub_rec_bankruptcies        1.754916\n",
       "last_pymnt_d                0.178765\n",
       "chargeoff_within_12_mths    0.140998\n",
       "collections_12_mths_ex_med  0.140998\n",
       "revol_util                  0.125891\n",
       "tax_liens                   0.098195\n",
       "title                       0.027696\n",
       "last_credit_pull_d          0.005036\n",
       "total_rec_prncp             0.000000\n",
       "total_acc                   0.000000\n",
       "initial_list_status         0.000000\n",
       "out_prncp                   0.000000\n",
       "out_prncp_inv               0.000000\n",
       "total_pymnt                 0.000000\n",
       "total_pymnt_inv             0.000000\n",
       "collection_recovery_fee     0.000000\n",
       "total_rec_int               0.000000\n",
       "total_rec_late_fee          0.000000\n",
       "recoveries                  0.000000\n",
       "pub_rec                     0.000000\n",
       "last_pymnt_amnt             0.000000\n",
       "policy_code                 0.000000\n",
       "application_type            0.000000\n",
       "acc_now_delinq              0.000000\n",
       "delinq_amnt                 0.000000\n",
       "revol_bal                   0.000000\n",
       "id                          0.000000\n",
       "member_id                   0.000000\n",
       "inq_last_6mths              0.000000\n",
       "loan_amnt                   0.000000\n",
       "funded_amnt                 0.000000\n",
       "funded_amnt_inv             0.000000\n",
       "term                        0.000000\n",
       "int_rate                    0.000000\n",
       "installment                 0.000000\n",
       "grade                       0.000000\n",
       "sub_grade                   0.000000\n",
       "home_ownership              0.000000\n",
       "annual_inc                  0.000000\n",
       "verification_status         0.000000\n",
       "issue_d                     0.000000\n",
       "loan_status                 0.000000\n",
       "pymnt_plan                  0.000000\n",
       "url                         0.000000\n",
       "purpose                     0.000000\n",
       "zip_code                    0.000000\n",
       "addr_state                  0.000000\n",
       "dti                         0.000000\n",
       "delinq_2yrs                 0.000000\n",
       "earliest_cr_line            0.000000\n",
       "open_acc                    0.000000"
      ]
     },
     "execution_count": 9,
     "metadata": {},
     "output_type": "execute_result"
    }
   ],
   "source": [
    "## lets see the missing values within the left out columns\n",
    "missing = (100* df.isnull().sum()/df.shape[0]).to_frame()\n",
    "missing.sort_values(0,ascending=False)"
   ]
  },
  {
   "cell_type": "code",
   "execution_count": 10,
   "id": "83eacac1",
   "metadata": {},
   "outputs": [
    {
     "data": {
      "text/plain": [
       "10+ years    8879\n",
       "< 1 year     4583\n",
       "2 years      4388\n",
       "3 years      4095\n",
       "4 years      3436\n",
       "5 years      3282\n",
       "1 year       3240\n",
       "6 years      2229\n",
       "7 years      1773\n",
       "8 years      1479\n",
       "9 years      1258\n",
       "Name: emp_length, dtype: int64"
      ]
     },
     "execution_count": 10,
     "metadata": {},
     "output_type": "execute_result"
    }
   ],
   "source": [
    "df.emp_length.value_counts()"
   ]
  },
  {
   "cell_type": "code",
   "execution_count": 11,
   "id": "00ba5c6f",
   "metadata": {},
   "outputs": [],
   "source": [
    "## creating a new category for missing values of employment experience\n",
    "df.emp_length.fillna(\"Not Available\",inplace=True)"
   ]
  },
  {
   "cell_type": "code",
   "execution_count": 12,
   "id": "b8b07f1d",
   "metadata": {},
   "outputs": [
    {
     "data": {
      "text/html": [
       "<div>\n",
       "<style scoped>\n",
       "    .dataframe tbody tr th:only-of-type {\n",
       "        vertical-align: middle;\n",
       "    }\n",
       "\n",
       "    .dataframe tbody tr th {\n",
       "        vertical-align: top;\n",
       "    }\n",
       "\n",
       "    .dataframe thead th {\n",
       "        text-align: right;\n",
       "    }\n",
       "</style>\n",
       "<table border=\"1\" class=\"dataframe\">\n",
       "  <thead>\n",
       "    <tr style=\"text-align: right;\">\n",
       "      <th></th>\n",
       "      <th>pub_rec_bankruptcies</th>\n",
       "      <th>loan_status</th>\n",
       "    </tr>\n",
       "  </thead>\n",
       "  <tbody>\n",
       "    <tr>\n",
       "      <th>0</th>\n",
       "      <td>0.0</td>\n",
       "      <td>Fully Paid</td>\n",
       "    </tr>\n",
       "    <tr>\n",
       "      <th>1</th>\n",
       "      <td>0.0</td>\n",
       "      <td>Charged Off</td>\n",
       "    </tr>\n",
       "    <tr>\n",
       "      <th>2</th>\n",
       "      <td>0.0</td>\n",
       "      <td>Fully Paid</td>\n",
       "    </tr>\n",
       "    <tr>\n",
       "      <th>3</th>\n",
       "      <td>0.0</td>\n",
       "      <td>Fully Paid</td>\n",
       "    </tr>\n",
       "    <tr>\n",
       "      <th>4</th>\n",
       "      <td>0.0</td>\n",
       "      <td>Current</td>\n",
       "    </tr>\n",
       "  </tbody>\n",
       "</table>\n",
       "</div>"
      ],
      "text/plain": [
       "   pub_rec_bankruptcies  loan_status\n",
       "0                   0.0   Fully Paid\n",
       "1                   0.0  Charged Off\n",
       "2                   0.0   Fully Paid\n",
       "3                   0.0   Fully Paid\n",
       "4                   0.0      Current"
      ]
     },
     "execution_count": 12,
     "metadata": {},
     "output_type": "execute_result"
    }
   ],
   "source": [
    "## bankruptcies vs loan_status to impute missing values, we assume if NA in pub_rec_bankruptcies then we will check \n",
    "## if the person has fully paid the loan or is paying we replace with 0, else drop, because though he is a defaulter he can still have 0 bankruptcies\n",
    "temp = df.loc[:,[\"pub_rec_bankruptcies\",\"loan_status\"]]\n",
    "temp.head()"
   ]
  },
  {
   "cell_type": "code",
   "execution_count": 13,
   "id": "7f609e65",
   "metadata": {},
   "outputs": [
    {
     "data": {
      "text/plain": [
       "Fully Paid     579\n",
       "Charged Off    118\n",
       "Name: loan_status, dtype: int64"
      ]
     },
     "execution_count": 13,
     "metadata": {},
     "output_type": "execute_result"
    }
   ],
   "source": [
    "## checking the categories in missing bankrupties\n",
    "temp[temp.pub_rec_bankruptcies.isnull()].loan_status.value_counts()"
   ]
  },
  {
   "cell_type": "code",
   "execution_count": 14,
   "id": "c1e4a4c2",
   "metadata": {},
   "outputs": [
    {
     "data": {
      "text/plain": [
       "pub_rec_bankruptcies\n",
       "0.0    37339\n",
       "1.0     1674\n",
       "2.0        7\n",
       "Name: pub_rec_bankruptcies, dtype: int64"
      ]
     },
     "execution_count": 14,
     "metadata": {},
     "output_type": "execute_result"
    }
   ],
   "source": [
    "temp.groupby(\"pub_rec_bankruptcies\")[\"pub_rec_bankruptcies\"].count()"
   ]
  },
  {
   "cell_type": "code",
   "execution_count": 15,
   "id": "5ea62cab",
   "metadata": {},
   "outputs": [
    {
     "data": {
      "text/plain": [
       "<matplotlib.axes._subplots.AxesSubplot at 0x2393b846908>"
      ]
     },
     "execution_count": 15,
     "metadata": {},
     "output_type": "execute_result"
    },
    {
     "data": {
      "image/png": "[encoded data removed]",
      "text/plain": [
       "<Figure size 432x288 with 1 Axes>"
      ]
     },
     "metadata": {},
     "output_type": "display_data"
    }
   ],
   "source": [
    "temp.groupby(\"pub_rec_bankruptcies\")[\"pub_rec_bankruptcies\"].count().plot.bar()"
   ]
  },
  {
   "cell_type": "code",
   "execution_count": 16,
   "id": "8ce38afb",
   "metadata": {},
   "outputs": [
    {
     "data": {
      "text/plain": [
       "Fully Paid     1274\n",
       "Charged Off     368\n",
       "Current          39\n",
       "Name: loan_status, dtype: int64"
      ]
     },
     "execution_count": 16,
     "metadata": {},
     "output_type": "execute_result"
    }
   ],
   "source": [
    "## checking the number of fully paid people with respect to their bankruptcies\n",
    "temp[(temp.pub_rec_bankruptcies == 1) | (temp.pub_rec_bankruptcies == 2)].loan_status.value_counts()"
   ]
  },
  {
   "cell_type": "code",
   "execution_count": 17,
   "id": "a6a9d276",
   "metadata": {},
   "outputs": [
    {
     "data": {
      "text/plain": [
       "Fully Paid     31097\n",
       "Charged Off     5141\n",
       "Current         1101\n",
       "Name: loan_status, dtype: int64"
      ]
     },
     "execution_count": 17,
     "metadata": {},
     "output_type": "execute_result"
    }
   ],
   "source": [
    "## can 0 be replaced for NAs if they have fully paid the loans? Get the count of majority\n",
    "temp[(temp.pub_rec_bankruptcies == 0)].loan_status.value_counts()"
   ]
  },
  {
   "cell_type": "markdown",
   "id": "8078345d",
   "metadata": {},
   "source": [
    "- We will now replace NAs where they have fully paid , with 0 bankrupties as we saw above that majority of them with 0 bankrupties have paid their loans\n",
    "- We will drop the missing NAs in pub_rec_bankruptcies if they have been charged_off for their loans. This is because, we dont want to deal with such data as there are no evident proofs to impute right values in pub_rec_bankruptcies."
   ]
  },
  {
   "cell_type": "code",
   "execution_count": 18,
   "id": "5afec356",
   "metadata": {},
   "outputs": [
    {
     "name": "stdout",
     "output_type": "stream",
     "text": [
      "pub_rec_bankruptcies\n",
      "0.0    37918\n",
      "1.0     1674\n",
      "2.0        7\n",
      "Name: pub_rec_bankruptcies, dtype: int64\n"
     ]
    }
   ],
   "source": [
    "## Replace/Drop based on above assumptions\n",
    "def replace_na_pub_rec_bankruptcies(x,y):\n",
    "    if np.isnan(y):\n",
    "        if x == \"Fully Paid\":\n",
    "            return 0\n",
    "        else:\n",
    "            return y\n",
    "    else:\n",
    "        return y\n",
    "\n",
    "\n",
    "df_temp = df\n",
    "\n",
    "##replace values\n",
    "df_temp[\"pub_rec_bankruptcies\"] = df_temp.apply(lambda x: replace_na_pub_rec_bankruptcies(x.loan_status,x.pub_rec_bankruptcies),axis=1)\n",
    "print(df_temp.groupby(\"pub_rec_bankruptcies\")[\"pub_rec_bankruptcies\"].count())\n",
    "\n",
    "##drop remaining\n",
    "df_temp = df_temp[~df_temp.pub_rec_bankruptcies.isnull()]\n",
    "\n",
    "df = df_temp\n"
   ]
  },
  {
   "cell_type": "code",
   "execution_count": 19,
   "id": "dafdd3b2",
   "metadata": {},
   "outputs": [
    {
     "data": {
      "text/html": [
       "<div>\n",
       "<style scoped>\n",
       "    .dataframe tbody tr th:only-of-type {\n",
       "        vertical-align: middle;\n",
       "    }\n",
       "\n",
       "    .dataframe tbody tr th {\n",
       "        vertical-align: top;\n",
       "    }\n",
       "\n",
       "    .dataframe thead th {\n",
       "        text-align: right;\n",
       "    }\n",
       "</style>\n",
       "<table border=\"1\" class=\"dataframe\">\n",
       "  <thead>\n",
       "    <tr style=\"text-align: right;\">\n",
       "      <th></th>\n",
       "      <th>0</th>\n",
       "    </tr>\n",
       "  </thead>\n",
       "  <tbody>\n",
       "    <tr>\n",
       "      <th>last_pymnt_d</th>\n",
       "      <td>0.179297</td>\n",
       "    </tr>\n",
       "    <tr>\n",
       "      <th>chargeoff_within_12_mths</th>\n",
       "      <td>0.128791</td>\n",
       "    </tr>\n",
       "    <tr>\n",
       "      <th>collections_12_mths_ex_med</th>\n",
       "      <td>0.128791</td>\n",
       "    </tr>\n",
       "    <tr>\n",
       "      <th>revol_util</th>\n",
       "      <td>0.126266</td>\n",
       "    </tr>\n",
       "    <tr>\n",
       "      <th>tax_liens</th>\n",
       "      <td>0.095962</td>\n",
       "    </tr>\n",
       "    <tr>\n",
       "      <th>title</th>\n",
       "      <td>0.027778</td>\n",
       "    </tr>\n",
       "    <tr>\n",
       "      <th>last_credit_pull_d</th>\n",
       "      <td>0.005051</td>\n",
       "    </tr>\n",
       "    <tr>\n",
       "      <th>total_rec_int</th>\n",
       "      <td>0.000000</td>\n",
       "    </tr>\n",
       "    <tr>\n",
       "      <th>total_acc</th>\n",
       "      <td>0.000000</td>\n",
       "    </tr>\n",
       "    <tr>\n",
       "      <th>initial_list_status</th>\n",
       "      <td>0.000000</td>\n",
       "    </tr>\n",
       "    <tr>\n",
       "      <th>out_prncp</th>\n",
       "      <td>0.000000</td>\n",
       "    </tr>\n",
       "    <tr>\n",
       "      <th>out_prncp_inv</th>\n",
       "      <td>0.000000</td>\n",
       "    </tr>\n",
       "    <tr>\n",
       "      <th>total_pymnt</th>\n",
       "      <td>0.000000</td>\n",
       "    </tr>\n",
       "    <tr>\n",
       "      <th>total_pymnt_inv</th>\n",
       "      <td>0.000000</td>\n",
       "    </tr>\n",
       "    <tr>\n",
       "      <th>total_rec_prncp</th>\n",
       "      <td>0.000000</td>\n",
       "    </tr>\n",
       "    <tr>\n",
       "      <th>recoveries</th>\n",
       "      <td>0.000000</td>\n",
       "    </tr>\n",
       "    <tr>\n",
       "      <th>total_rec_late_fee</th>\n",
       "      <td>0.000000</td>\n",
       "    </tr>\n",
       "    <tr>\n",
       "      <th>pub_rec</th>\n",
       "      <td>0.000000</td>\n",
       "    </tr>\n",
       "    <tr>\n",
       "      <th>collection_recovery_fee</th>\n",
       "      <td>0.000000</td>\n",
       "    </tr>\n",
       "    <tr>\n",
       "      <th>last_pymnt_amnt</th>\n",
       "      <td>0.000000</td>\n",
       "    </tr>\n",
       "    <tr>\n",
       "      <th>policy_code</th>\n",
       "      <td>0.000000</td>\n",
       "    </tr>\n",
       "    <tr>\n",
       "      <th>application_type</th>\n",
       "      <td>0.000000</td>\n",
       "    </tr>\n",
       "    <tr>\n",
       "      <th>acc_now_delinq</th>\n",
       "      <td>0.000000</td>\n",
       "    </tr>\n",
       "    <tr>\n",
       "      <th>delinq_amnt</th>\n",
       "      <td>0.000000</td>\n",
       "    </tr>\n",
       "    <tr>\n",
       "      <th>pub_rec_bankruptcies</th>\n",
       "      <td>0.000000</td>\n",
       "    </tr>\n",
       "    <tr>\n",
       "      <th>revol_bal</th>\n",
       "      <td>0.000000</td>\n",
       "    </tr>\n",
       "    <tr>\n",
       "      <th>id</th>\n",
       "      <td>0.000000</td>\n",
       "    </tr>\n",
       "    <tr>\n",
       "      <th>member_id</th>\n",
       "      <td>0.000000</td>\n",
       "    </tr>\n",
       "    <tr>\n",
       "      <th>annual_inc</th>\n",
       "      <td>0.000000</td>\n",
       "    </tr>\n",
       "    <tr>\n",
       "      <th>loan_amnt</th>\n",
       "      <td>0.000000</td>\n",
       "    </tr>\n",
       "    <tr>\n",
       "      <th>funded_amnt</th>\n",
       "      <td>0.000000</td>\n",
       "    </tr>\n",
       "    <tr>\n",
       "      <th>funded_amnt_inv</th>\n",
       "      <td>0.000000</td>\n",
       "    </tr>\n",
       "    <tr>\n",
       "      <th>term</th>\n",
       "      <td>0.000000</td>\n",
       "    </tr>\n",
       "    <tr>\n",
       "      <th>int_rate</th>\n",
       "      <td>0.000000</td>\n",
       "    </tr>\n",
       "    <tr>\n",
       "      <th>installment</th>\n",
       "      <td>0.000000</td>\n",
       "    </tr>\n",
       "    <tr>\n",
       "      <th>grade</th>\n",
       "      <td>0.000000</td>\n",
       "    </tr>\n",
       "    <tr>\n",
       "      <th>sub_grade</th>\n",
       "      <td>0.000000</td>\n",
       "    </tr>\n",
       "    <tr>\n",
       "      <th>emp_length</th>\n",
       "      <td>0.000000</td>\n",
       "    </tr>\n",
       "    <tr>\n",
       "      <th>home_ownership</th>\n",
       "      <td>0.000000</td>\n",
       "    </tr>\n",
       "    <tr>\n",
       "      <th>verification_status</th>\n",
       "      <td>0.000000</td>\n",
       "    </tr>\n",
       "    <tr>\n",
       "      <th>inq_last_6mths</th>\n",
       "      <td>0.000000</td>\n",
       "    </tr>\n",
       "    <tr>\n",
       "      <th>issue_d</th>\n",
       "      <td>0.000000</td>\n",
       "    </tr>\n",
       "    <tr>\n",
       "      <th>loan_status</th>\n",
       "      <td>0.000000</td>\n",
       "    </tr>\n",
       "    <tr>\n",
       "      <th>pymnt_plan</th>\n",
       "      <td>0.000000</td>\n",
       "    </tr>\n",
       "    <tr>\n",
       "      <th>url</th>\n",
       "      <td>0.000000</td>\n",
       "    </tr>\n",
       "    <tr>\n",
       "      <th>purpose</th>\n",
       "      <td>0.000000</td>\n",
       "    </tr>\n",
       "    <tr>\n",
       "      <th>zip_code</th>\n",
       "      <td>0.000000</td>\n",
       "    </tr>\n",
       "    <tr>\n",
       "      <th>addr_state</th>\n",
       "      <td>0.000000</td>\n",
       "    </tr>\n",
       "    <tr>\n",
       "      <th>dti</th>\n",
       "      <td>0.000000</td>\n",
       "    </tr>\n",
       "    <tr>\n",
       "      <th>delinq_2yrs</th>\n",
       "      <td>0.000000</td>\n",
       "    </tr>\n",
       "    <tr>\n",
       "      <th>earliest_cr_line</th>\n",
       "      <td>0.000000</td>\n",
       "    </tr>\n",
       "    <tr>\n",
       "      <th>open_acc</th>\n",
       "      <td>0.000000</td>\n",
       "    </tr>\n",
       "  </tbody>\n",
       "</table>\n",
       "</div>"
      ],
      "text/plain": [
       "                                   0\n",
       "last_pymnt_d                0.179297\n",
       "chargeoff_within_12_mths    0.128791\n",
       "collections_12_mths_ex_med  0.128791\n",
       "revol_util                  0.126266\n",
       "tax_liens                   0.095962\n",
       "title                       0.027778\n",
       "last_credit_pull_d          0.005051\n",
       "total_rec_int               0.000000\n",
       "total_acc                   0.000000\n",
       "initial_list_status         0.000000\n",
       "out_prncp                   0.000000\n",
       "out_prncp_inv               0.000000\n",
       "total_pymnt                 0.000000\n",
       "total_pymnt_inv             0.000000\n",
       "total_rec_prncp             0.000000\n",
       "recoveries                  0.000000\n",
       "total_rec_late_fee          0.000000\n",
       "pub_rec                     0.000000\n",
       "collection_recovery_fee     0.000000\n",
       "last_pymnt_amnt             0.000000\n",
       "policy_code                 0.000000\n",
       "application_type            0.000000\n",
       "acc_now_delinq              0.000000\n",
       "delinq_amnt                 0.000000\n",
       "pub_rec_bankruptcies        0.000000\n",
       "revol_bal                   0.000000\n",
       "id                          0.000000\n",
       "member_id                   0.000000\n",
       "annual_inc                  0.000000\n",
       "loan_amnt                   0.000000\n",
       "funded_amnt                 0.000000\n",
       "funded_amnt_inv             0.000000\n",
       "term                        0.000000\n",
       "int_rate                    0.000000\n",
       "installment                 0.000000\n",
       "grade                       0.000000\n",
       "sub_grade                   0.000000\n",
       "emp_length                  0.000000\n",
       "home_ownership              0.000000\n",
       "verification_status         0.000000\n",
       "inq_last_6mths              0.000000\n",
       "issue_d                     0.000000\n",
       "loan_status                 0.000000\n",
       "pymnt_plan                  0.000000\n",
       "url                         0.000000\n",
       "purpose                     0.000000\n",
       "zip_code                    0.000000\n",
       "addr_state                  0.000000\n",
       "dti                         0.000000\n",
       "delinq_2yrs                 0.000000\n",
       "earliest_cr_line            0.000000\n",
       "open_acc                    0.000000"
      ]
     },
     "execution_count": 19,
     "metadata": {},
     "output_type": "execute_result"
    }
   ],
   "source": [
    "## lets see the missing values within the left out columns\n",
    "missing = (100* df.isnull().sum()/df.shape[0]).to_frame()\n",
    "missing.sort_values(0,ascending=False)"
   ]
  },
  {
   "cell_type": "code",
   "execution_count": 20,
   "id": "47cb138f",
   "metadata": {},
   "outputs": [],
   "source": [
    " #Remove all the rows with missing last payment due\n",
    "df = df[~df.last_pymnt_d.isnull()]"
   ]
  },
  {
   "cell_type": "code",
   "execution_count": 21,
   "id": "4c03a3d3",
   "metadata": {},
   "outputs": [
    {
     "data": {
      "text/plain": [
       "0.0    39477\n",
       "Name: chargeoff_within_12_mths, dtype: int64"
      ]
     },
     "execution_count": 21,
     "metadata": {},
     "output_type": "execute_result"
    }
   ],
   "source": [
    "## types of values in chargeoff_within_12_mths \n",
    "df.chargeoff_within_12_mths.value_counts()"
   ]
  },
  {
   "cell_type": "code",
   "execution_count": 22,
   "id": "3097e09c",
   "metadata": {},
   "outputs": [
    {
     "data": {
      "text/plain": [
       "0.0    39477\n",
       "Name: collections_12_mths_ex_med, dtype: int64"
      ]
     },
     "execution_count": 22,
     "metadata": {},
     "output_type": "execute_result"
    }
   ],
   "source": [
    "## types of values in chargeoff_within_12_mths \n",
    "df.collections_12_mths_ex_med.value_counts()"
   ]
  },
  {
   "cell_type": "code",
   "execution_count": 23,
   "id": "7571f671",
   "metadata": {},
   "outputs": [
    {
     "name": "stderr",
     "output_type": "stream",
     "text": [
      "C:\\Users\\Sameer\\Anaconda3\\lib\\site-packages\\pandas\\core\\frame.py:3694: SettingWithCopyWarning: \n",
      "A value is trying to be set on a copy of a slice from a DataFrame\n",
      "\n",
      "See the caveats in the documentation: http://pandas.pydata.org/pandas-docs/stable/indexing.html#indexing-view-versus-copy\n",
      "  errors=errors)\n"
     ]
    }
   ],
   "source": [
    "#Dropping the above two column as it has only 0's \n",
    "df.drop(columns=[\"chargeoff_within_12_mths\"],inplace=True)"
   ]
  },
  {
   "cell_type": "code",
   "execution_count": 24,
   "id": "137c9965",
   "metadata": {},
   "outputs": [
    {
     "name": "stderr",
     "output_type": "stream",
     "text": [
      "C:\\Users\\Sameer\\Anaconda3\\lib\\site-packages\\pandas\\core\\frame.py:3694: SettingWithCopyWarning: \n",
      "A value is trying to be set on a copy of a slice from a DataFrame\n",
      "\n",
      "See the caveats in the documentation: http://pandas.pydata.org/pandas-docs/stable/indexing.html#indexing-view-versus-copy\n",
      "  errors=errors)\n"
     ]
    }
   ],
   "source": [
    "df.drop(columns=[\"collections_12_mths_ex_med\"],inplace=True)"
   ]
  },
  {
   "cell_type": "code",
   "execution_count": 25,
   "id": "1f7cadeb",
   "metadata": {},
   "outputs": [
    {
     "name": "stdout",
     "output_type": "stream",
     "text": [
      "Values in charged off:  0%        140\n",
      "66.60%     17\n",
      "63.70%     15\n",
      "89.40%     15\n",
      "73.40%     14\n",
      "66.30%     14\n",
      "45.10%     14\n",
      "77.60%     14\n",
      "89.90%     13\n",
      "72.70%     13\n",
      "66.70%     13\n",
      "80.60%     13\n",
      "71.70%     13\n",
      "94.60%     12\n",
      "81.60%     12\n",
      "32%        12\n",
      "80.30%     12\n",
      "57.70%     12\n",
      "72.40%     12\n",
      "75.50%     12\n",
      "89.50%     12\n",
      "70.80%     12\n",
      "57.40%     12\n",
      "99%        11\n",
      "59.60%     11\n",
      "73.80%     11\n",
      "82.60%     11\n",
      "42%        11\n",
      "76%        11\n",
      "97.50%     11\n",
      "         ... \n",
      "9.60%       1\n",
      "24.89%      1\n",
      "1.88%       1\n",
      "6.20%       1\n",
      "13.30%      1\n",
      "31.90%      1\n",
      "15.40%      1\n",
      "24.40%      1\n",
      "12.40%      1\n",
      "77.63%      1\n",
      "10.40%      1\n",
      "16.80%      1\n",
      "4.30%       1\n",
      "25.40%      1\n",
      "12.50%      1\n",
      "8.60%       1\n",
      "10.80%      1\n",
      "17.20%      1\n",
      "2.80%       1\n",
      "8.46%       1\n",
      "99.70%      1\n",
      "30%         1\n",
      "7.90%       1\n",
      "6.90%       1\n",
      "4.90%       1\n",
      "6.30%       1\n",
      "7.80%       1\n",
      "2.10%       1\n",
      "3.30%       1\n",
      "5.50%       1\n",
      "Name: revol_util, Length: 995, dtype: int64 \n",
      "\n",
      "Values in current:  0%        23\n",
      "73%        5\n",
      "66.10%     5\n",
      "88.20%     5\n",
      "51.50%     5\n",
      "73.10%     5\n",
      "54.10%     5\n",
      "92.10%     5\n",
      "35.70%     5\n",
      "64%        5\n",
      "40.60%     4\n",
      "63.30%     4\n",
      "70.10%     4\n",
      "41.80%     4\n",
      "70.30%     4\n",
      "94.50%     4\n",
      "66.90%     4\n",
      "84.70%     4\n",
      "20.50%     4\n",
      "8.70%      4\n",
      "87.60%     4\n",
      "32.60%     4\n",
      "87.30%     4\n",
      "71.40%     4\n",
      "65.10%     4\n",
      "27.30%     4\n",
      "73.90%     4\n",
      "93.90%     4\n",
      "82.70%     4\n",
      "57.50%     4\n",
      "          ..\n",
      "52.40%     1\n",
      "86.90%     1\n",
      "37.50%     1\n",
      "67.40%     1\n",
      "42.90%     1\n",
      "60.20%     1\n",
      "55.30%     1\n",
      "28.20%     1\n",
      "24.40%     1\n",
      "3.10%      1\n",
      "20.80%     1\n",
      "35.80%     1\n",
      "20.70%     1\n",
      "72.10%     1\n",
      "6.20%      1\n",
      "12.20%     1\n",
      "30.10%     1\n",
      "94.20%     1\n",
      "0.40%      1\n",
      "26.90%     1\n",
      "22.30%     1\n",
      "96.40%     1\n",
      "68.80%     1\n",
      "85.40%     1\n",
      "67.90%     1\n",
      "45.60%     1\n",
      "52.80%     1\n",
      "49.70%     1\n",
      "18%        1\n",
      "96.50%     1\n",
      "Name: revol_util, Length: 657, dtype: int64 \n",
      "\n",
      "values in fully paid: 0%        810\n",
      "63%        54\n",
      "40.70%     54\n",
      "37.60%     52\n",
      "0.20%      51\n",
      "70.40%     50\n",
      "61%        50\n",
      "0.10%      49\n",
      "31.20%     49\n",
      "64.80%     49\n",
      "27.20%     49\n",
      "35.30%     48\n",
      "46.60%     48\n",
      "54.60%     48\n",
      "68.70%     48\n",
      "65.90%     48\n",
      "33.70%     47\n",
      "46.40%     47\n",
      "49.10%     47\n",
      "44.70%     47\n",
      "72.10%     47\n",
      "55.40%     47\n",
      "78.70%     47\n",
      "48.20%     46\n",
      "62%        46\n",
      "41.60%     46\n",
      "52.30%     46\n",
      "36.50%     46\n",
      "49.80%     46\n",
      "33.80%     46\n",
      "         ... \n",
      "88.48%      1\n",
      "58.19%      1\n",
      "36.88%      1\n",
      "0.46%       1\n",
      "60.69%      1\n",
      "29.53%      1\n",
      "6.75%       1\n",
      "11.62%      1\n",
      "5.33%       1\n",
      "28.41%      1\n",
      "12.42%      1\n",
      "70.94%      1\n",
      "43.61%      1\n",
      "0.16%       1\n",
      "16.02%      1\n",
      "13.56%      1\n",
      "18.82%      1\n",
      "10.17%      1\n",
      "25.33%      1\n",
      "33.14%      1\n",
      "33.39%      1\n",
      "24.65%      1\n",
      "7.28%       1\n",
      "37.63%      1\n",
      "0.01%       1\n",
      "8.58%       1\n",
      "69.98%      1\n",
      "0.04%       1\n",
      "24.66%      1\n",
      "11.63%      1\n",
      "Name: revol_util, Length: 1077, dtype: int64 \n",
      "\n"
     ]
    }
   ],
   "source": [
    "charged_off = df[df.loan_status == \"Charged Off\" ]\n",
    "current = df[df.loan_status == \"Current\"]\n",
    "fully_paid = df[df.loan_status == \"Fully Paid\"]\n",
    "print(\"Values in charged off: \" , charged_off.revol_util.value_counts(),\"\\n\")\n",
    "print(\"Values in current: \", current.revol_util.value_counts(),\"\\n\")\n",
    "print(\"values in fully paid:\" , fully_paid.revol_util.value_counts(),\"\\n\")"
   ]
  },
  {
   "cell_type": "code",
   "execution_count": 26,
   "id": "73baf61e",
   "metadata": {},
   "outputs": [
    {
     "name": "stderr",
     "output_type": "stream",
     "text": [
      "C:\\Users\\Sameer\\Anaconda3\\lib\\site-packages\\pandas\\core\\generic.py:4401: SettingWithCopyWarning: \n",
      "A value is trying to be set on a copy of a slice from a DataFrame.\n",
      "Try using .loc[row_indexer,col_indexer] = value instead\n",
      "\n",
      "See the caveats in the documentation: http://pandas.pydata.org/pandas-docs/stable/indexing.html#indexing-view-versus-copy\n",
      "  self[name] = value\n"
     ]
    }
   ],
   "source": [
    "temp = df[~df.revol_util.isnull()]\n",
    "temp.revol_util = temp.revol_util.apply(lambda x: float(x[:-1]))\n"
   ]
  },
  {
   "cell_type": "code",
   "execution_count": 27,
   "id": "453af57a",
   "metadata": {},
   "outputs": [
    {
     "data": {
      "text/plain": [
       "count    39482.000000\n",
       "mean        48.831837\n",
       "std         28.330776\n",
       "min          0.000000\n",
       "25%         25.400000\n",
       "50%         49.300000\n",
       "75%         72.300000\n",
       "max         99.900000\n",
       "Name: revol_util, dtype: float64"
      ]
     },
     "execution_count": 27,
     "metadata": {},
     "output_type": "execute_result"
    }
   ],
   "source": [
    "temp.revol_util.describe()"
   ]
  },
  {
   "cell_type": "markdown",
   "id": "19e5f6a1",
   "metadata": {},
   "source": [
    "#### revol_util\n",
    "- AS we see above that the std is very high , we cannot replace the nulls with median\n",
    "- We can still replace the values with mean, but since its just 0.1% data we can choose drop those rows"
   ]
  },
  {
   "cell_type": "code",
   "execution_count": 28,
   "id": "a39f5768",
   "metadata": {},
   "outputs": [
    {
     "data": {
      "text/plain": [
       "<matplotlib.axes._subplots.AxesSubplot at 0x2393c3f3668>"
      ]
     },
     "execution_count": 28,
     "metadata": {},
     "output_type": "execute_result"
    },
    {
     "data": {
      "image/png": "[encoded data removed]",
      "text/plain": [
       "<Figure size 432x288 with 1 Axes>"
      ]
     },
     "metadata": {},
     "output_type": "display_data"
    }
   ],
   "source": [
    "sns.boxplot(temp.revol_util)"
   ]
  },
  {
   "cell_type": "code",
   "execution_count": 29,
   "id": "854d3c52",
   "metadata": {},
   "outputs": [],
   "source": [
    "##remove missing rows of revol_util\n",
    "df = df[~df.revol_util.isnull()]"
   ]
  },
  {
   "cell_type": "code",
   "execution_count": 30,
   "id": "6389443b",
   "metadata": {},
   "outputs": [
    {
     "data": {
      "text/plain": [
       "0.0    39444\n",
       "Name: tax_liens, dtype: int64"
      ]
     },
     "execution_count": 30,
     "metadata": {},
     "output_type": "execute_result"
    }
   ],
   "source": [
    "df.tax_liens.value_counts()"
   ]
  },
  {
   "cell_type": "markdown",
   "id": "32bd5249",
   "metadata": {},
   "source": [
    "- tax liens has only 0's and NAs, we can drop that column\n",
    "- Title and last_credit_pull_d missing valued rows are dropped as they are around 0.1% and 0.05%"
   ]
  },
  {
   "cell_type": "code",
   "execution_count": 31,
   "id": "345f2e43",
   "metadata": {},
   "outputs": [],
   "source": [
    "##drop tax_liens column\n",
    "df.drop(columns=[\"tax_liens\"],inplace=True)\n",
    "\n",
    "## remove rows where title and last_credit_pull_d\n",
    "df = df[~df.title.isnull()]\n",
    "df = df[~df.last_credit_pull_d.isnull()]"
   ]
  },
  {
   "cell_type": "code",
   "execution_count": 32,
   "id": "2f5c8cc9",
   "metadata": {},
   "outputs": [
    {
     "data": {
      "text/html": [
       "<div>\n",
       "<style scoped>\n",
       "    .dataframe tbody tr th:only-of-type {\n",
       "        vertical-align: middle;\n",
       "    }\n",
       "\n",
       "    .dataframe tbody tr th {\n",
       "        vertical-align: top;\n",
       "    }\n",
       "\n",
       "    .dataframe thead th {\n",
       "        text-align: right;\n",
       "    }\n",
       "</style>\n",
       "<table border=\"1\" class=\"dataframe\">\n",
       "  <thead>\n",
       "    <tr style=\"text-align: right;\">\n",
       "      <th></th>\n",
       "      <th>0</th>\n",
       "    </tr>\n",
       "  </thead>\n",
       "  <tbody>\n",
       "    <tr>\n",
       "      <th>id</th>\n",
       "      <td>0.0</td>\n",
       "    </tr>\n",
       "    <tr>\n",
       "      <th>inq_last_6mths</th>\n",
       "      <td>0.0</td>\n",
       "    </tr>\n",
       "    <tr>\n",
       "      <th>pub_rec</th>\n",
       "      <td>0.0</td>\n",
       "    </tr>\n",
       "    <tr>\n",
       "      <th>revol_bal</th>\n",
       "      <td>0.0</td>\n",
       "    </tr>\n",
       "    <tr>\n",
       "      <th>revol_util</th>\n",
       "      <td>0.0</td>\n",
       "    </tr>\n",
       "    <tr>\n",
       "      <th>total_acc</th>\n",
       "      <td>0.0</td>\n",
       "    </tr>\n",
       "    <tr>\n",
       "      <th>initial_list_status</th>\n",
       "      <td>0.0</td>\n",
       "    </tr>\n",
       "    <tr>\n",
       "      <th>out_prncp</th>\n",
       "      <td>0.0</td>\n",
       "    </tr>\n",
       "    <tr>\n",
       "      <th>out_prncp_inv</th>\n",
       "      <td>0.0</td>\n",
       "    </tr>\n",
       "    <tr>\n",
       "      <th>total_pymnt</th>\n",
       "      <td>0.0</td>\n",
       "    </tr>\n",
       "    <tr>\n",
       "      <th>total_pymnt_inv</th>\n",
       "      <td>0.0</td>\n",
       "    </tr>\n",
       "    <tr>\n",
       "      <th>total_rec_prncp</th>\n",
       "      <td>0.0</td>\n",
       "    </tr>\n",
       "    <tr>\n",
       "      <th>total_rec_int</th>\n",
       "      <td>0.0</td>\n",
       "    </tr>\n",
       "    <tr>\n",
       "      <th>total_rec_late_fee</th>\n",
       "      <td>0.0</td>\n",
       "    </tr>\n",
       "    <tr>\n",
       "      <th>recoveries</th>\n",
       "      <td>0.0</td>\n",
       "    </tr>\n",
       "    <tr>\n",
       "      <th>collection_recovery_fee</th>\n",
       "      <td>0.0</td>\n",
       "    </tr>\n",
       "    <tr>\n",
       "      <th>last_pymnt_d</th>\n",
       "      <td>0.0</td>\n",
       "    </tr>\n",
       "    <tr>\n",
       "      <th>last_pymnt_amnt</th>\n",
       "      <td>0.0</td>\n",
       "    </tr>\n",
       "    <tr>\n",
       "      <th>last_credit_pull_d</th>\n",
       "      <td>0.0</td>\n",
       "    </tr>\n",
       "    <tr>\n",
       "      <th>policy_code</th>\n",
       "      <td>0.0</td>\n",
       "    </tr>\n",
       "    <tr>\n",
       "      <th>application_type</th>\n",
       "      <td>0.0</td>\n",
       "    </tr>\n",
       "    <tr>\n",
       "      <th>acc_now_delinq</th>\n",
       "      <td>0.0</td>\n",
       "    </tr>\n",
       "    <tr>\n",
       "      <th>delinq_amnt</th>\n",
       "      <td>0.0</td>\n",
       "    </tr>\n",
       "    <tr>\n",
       "      <th>open_acc</th>\n",
       "      <td>0.0</td>\n",
       "    </tr>\n",
       "    <tr>\n",
       "      <th>earliest_cr_line</th>\n",
       "      <td>0.0</td>\n",
       "    </tr>\n",
       "    <tr>\n",
       "      <th>member_id</th>\n",
       "      <td>0.0</td>\n",
       "    </tr>\n",
       "    <tr>\n",
       "      <th>delinq_2yrs</th>\n",
       "      <td>0.0</td>\n",
       "    </tr>\n",
       "    <tr>\n",
       "      <th>loan_amnt</th>\n",
       "      <td>0.0</td>\n",
       "    </tr>\n",
       "    <tr>\n",
       "      <th>funded_amnt</th>\n",
       "      <td>0.0</td>\n",
       "    </tr>\n",
       "    <tr>\n",
       "      <th>funded_amnt_inv</th>\n",
       "      <td>0.0</td>\n",
       "    </tr>\n",
       "    <tr>\n",
       "      <th>term</th>\n",
       "      <td>0.0</td>\n",
       "    </tr>\n",
       "    <tr>\n",
       "      <th>int_rate</th>\n",
       "      <td>0.0</td>\n",
       "    </tr>\n",
       "    <tr>\n",
       "      <th>installment</th>\n",
       "      <td>0.0</td>\n",
       "    </tr>\n",
       "    <tr>\n",
       "      <th>grade</th>\n",
       "      <td>0.0</td>\n",
       "    </tr>\n",
       "    <tr>\n",
       "      <th>sub_grade</th>\n",
       "      <td>0.0</td>\n",
       "    </tr>\n",
       "    <tr>\n",
       "      <th>emp_length</th>\n",
       "      <td>0.0</td>\n",
       "    </tr>\n",
       "    <tr>\n",
       "      <th>home_ownership</th>\n",
       "      <td>0.0</td>\n",
       "    </tr>\n",
       "    <tr>\n",
       "      <th>annual_inc</th>\n",
       "      <td>0.0</td>\n",
       "    </tr>\n",
       "    <tr>\n",
       "      <th>verification_status</th>\n",
       "      <td>0.0</td>\n",
       "    </tr>\n",
       "    <tr>\n",
       "      <th>issue_d</th>\n",
       "      <td>0.0</td>\n",
       "    </tr>\n",
       "    <tr>\n",
       "      <th>loan_status</th>\n",
       "      <td>0.0</td>\n",
       "    </tr>\n",
       "    <tr>\n",
       "      <th>pymnt_plan</th>\n",
       "      <td>0.0</td>\n",
       "    </tr>\n",
       "    <tr>\n",
       "      <th>url</th>\n",
       "      <td>0.0</td>\n",
       "    </tr>\n",
       "    <tr>\n",
       "      <th>purpose</th>\n",
       "      <td>0.0</td>\n",
       "    </tr>\n",
       "    <tr>\n",
       "      <th>title</th>\n",
       "      <td>0.0</td>\n",
       "    </tr>\n",
       "    <tr>\n",
       "      <th>zip_code</th>\n",
       "      <td>0.0</td>\n",
       "    </tr>\n",
       "    <tr>\n",
       "      <th>addr_state</th>\n",
       "      <td>0.0</td>\n",
       "    </tr>\n",
       "    <tr>\n",
       "      <th>dti</th>\n",
       "      <td>0.0</td>\n",
       "    </tr>\n",
       "    <tr>\n",
       "      <th>pub_rec_bankruptcies</th>\n",
       "      <td>0.0</td>\n",
       "    </tr>\n",
       "  </tbody>\n",
       "</table>\n",
       "</div>"
      ],
      "text/plain": [
       "                           0\n",
       "id                       0.0\n",
       "inq_last_6mths           0.0\n",
       "pub_rec                  0.0\n",
       "revol_bal                0.0\n",
       "revol_util               0.0\n",
       "total_acc                0.0\n",
       "initial_list_status      0.0\n",
       "out_prncp                0.0\n",
       "out_prncp_inv            0.0\n",
       "total_pymnt              0.0\n",
       "total_pymnt_inv          0.0\n",
       "total_rec_prncp          0.0\n",
       "total_rec_int            0.0\n",
       "total_rec_late_fee       0.0\n",
       "recoveries               0.0\n",
       "collection_recovery_fee  0.0\n",
       "last_pymnt_d             0.0\n",
       "last_pymnt_amnt          0.0\n",
       "last_credit_pull_d       0.0\n",
       "policy_code              0.0\n",
       "application_type         0.0\n",
       "acc_now_delinq           0.0\n",
       "delinq_amnt              0.0\n",
       "open_acc                 0.0\n",
       "earliest_cr_line         0.0\n",
       "member_id                0.0\n",
       "delinq_2yrs              0.0\n",
       "loan_amnt                0.0\n",
       "funded_amnt              0.0\n",
       "funded_amnt_inv          0.0\n",
       "term                     0.0\n",
       "int_rate                 0.0\n",
       "installment              0.0\n",
       "grade                    0.0\n",
       "sub_grade                0.0\n",
       "emp_length               0.0\n",
       "home_ownership           0.0\n",
       "annual_inc               0.0\n",
       "verification_status      0.0\n",
       "issue_d                  0.0\n",
       "loan_status              0.0\n",
       "pymnt_plan               0.0\n",
       "url                      0.0\n",
       "purpose                  0.0\n",
       "title                    0.0\n",
       "zip_code                 0.0\n",
       "addr_state               0.0\n",
       "dti                      0.0\n",
       "pub_rec_bankruptcies     0.0"
      ]
     },
     "execution_count": 32,
     "metadata": {},
     "output_type": "execute_result"
    }
   ],
   "source": [
    "## lets see the missing values within the left out columns\n",
    "missing = (100* df.isnull().sum()/df.shape[0]).to_frame()\n",
    "missing.sort_values(0,ascending=False)"
   ]
  },
  {
   "cell_type": "code",
   "execution_count": 33,
   "id": "cae813c9",
   "metadata": {},
   "outputs": [
    {
     "data": {
      "text/plain": [
       "f    39469\n",
       "Name: initial_list_status, dtype: int64"
      ]
     },
     "execution_count": 33,
     "metadata": {},
     "output_type": "execute_result"
    }
   ],
   "source": [
    "#checking no. of value_counts for column\n",
    "df.initial_list_status.value_counts()"
   ]
  },
  {
   "cell_type": "code",
   "execution_count": 34,
   "id": "f2814ef9",
   "metadata": {},
   "outputs": [
    {
     "data": {
      "text/plain": [
       "1    39469\n",
       "Name: policy_code, dtype: int64"
      ]
     },
     "execution_count": 34,
     "metadata": {},
     "output_type": "execute_result"
    }
   ],
   "source": [
    "#checking no. of value_counts for policy_code column\n",
    "df.policy_code.value_counts()"
   ]
  },
  {
   "cell_type": "code",
   "execution_count": 35,
   "id": "99664ed6",
   "metadata": {},
   "outputs": [
    {
     "data": {
      "text/plain": [
       "INDIVIDUAL    39469\n",
       "Name: application_type, dtype: int64"
      ]
     },
     "execution_count": 35,
     "metadata": {},
     "output_type": "execute_result"
    }
   ],
   "source": [
    "#checking no. of value_counts for application_type column\n",
    "df.application_type.value_counts()"
   ]
  },
  {
   "cell_type": "code",
   "execution_count": 36,
   "id": "c9b6892f",
   "metadata": {},
   "outputs": [
    {
     "data": {
      "text/plain": [
       "0    39469\n",
       "Name: acc_now_delinq, dtype: int64"
      ]
     },
     "execution_count": 36,
     "metadata": {},
     "output_type": "execute_result"
    }
   ],
   "source": [
    "#checking no. of value_counts for acc_now_delinq column\n",
    "df.acc_now_delinq.value_counts()"
   ]
  },
  {
   "cell_type": "code",
   "execution_count": 37,
   "id": "982f10f4",
   "metadata": {},
   "outputs": [
    {
     "data": {
      "text/plain": [
       "0    39469\n",
       "Name: delinq_amnt, dtype: int64"
      ]
     },
     "execution_count": 37,
     "metadata": {},
     "output_type": "execute_result"
    }
   ],
   "source": [
    "#checking no. of value_counts for delinq_amnt column\n",
    "df.delinq_amnt.value_counts()"
   ]
  },
  {
   "cell_type": "code",
   "execution_count": 38,
   "id": "1ffc8445",
   "metadata": {},
   "outputs": [
    {
     "data": {
      "text/plain": [
       "n    39469\n",
       "Name: pymnt_plan, dtype: int64"
      ]
     },
     "execution_count": 38,
     "metadata": {},
     "output_type": "execute_result"
    }
   ],
   "source": [
    "#checking no. of value_counts for pymnt_plan column\n",
    "df.pymnt_plan.value_counts()"
   ]
  },
  {
   "cell_type": "code",
   "execution_count": 39,
   "id": "85178342",
   "metadata": {},
   "outputs": [
    {
     "data": {
      "text/html": [
       "<div>\n",
       "<style scoped>\n",
       "    .dataframe tbody tr th:only-of-type {\n",
       "        vertical-align: middle;\n",
       "    }\n",
       "\n",
       "    .dataframe tbody tr th {\n",
       "        vertical-align: top;\n",
       "    }\n",
       "\n",
       "    .dataframe thead th {\n",
       "        text-align: right;\n",
       "    }\n",
       "</style>\n",
       "<table border=\"1\" class=\"dataframe\">\n",
       "  <thead>\n",
       "    <tr style=\"text-align: right;\">\n",
       "      <th></th>\n",
       "      <th>out_prncp</th>\n",
       "      <th>out_prncp_inv</th>\n",
       "    </tr>\n",
       "  </thead>\n",
       "  <tbody>\n",
       "    <tr>\n",
       "      <th>out_prncp</th>\n",
       "      <td>1.000000</td>\n",
       "      <td>0.999827</td>\n",
       "    </tr>\n",
       "    <tr>\n",
       "      <th>out_prncp_inv</th>\n",
       "      <td>0.999827</td>\n",
       "      <td>1.000000</td>\n",
       "    </tr>\n",
       "  </tbody>\n",
       "</table>\n",
       "</div>"
      ],
      "text/plain": [
       "               out_prncp  out_prncp_inv\n",
       "out_prncp       1.000000       0.999827\n",
       "out_prncp_inv   0.999827       1.000000"
      ]
     },
     "execution_count": 39,
     "metadata": {},
     "output_type": "execute_result"
    }
   ],
   "source": [
    "#lets find out co-relation between out_prncp and out_prncp_inv columns\n",
    "df[['out_prncp','out_prncp_inv']].corr(method='pearson')\n",
    "#we can see that these two columns are highly co-related with 99% positive co-relation. So we can drop any one column"
   ]
  },
  {
   "cell_type": "code",
   "execution_count": 40,
   "id": "de4ede7d",
   "metadata": {},
   "outputs": [
    {
     "data": {
      "text/html": [
       "<div>\n",
       "<style scoped>\n",
       "    .dataframe tbody tr th:only-of-type {\n",
       "        vertical-align: middle;\n",
       "    }\n",
       "\n",
       "    .dataframe tbody tr th {\n",
       "        vertical-align: top;\n",
       "    }\n",
       "\n",
       "    .dataframe thead th {\n",
       "        text-align: right;\n",
       "    }\n",
       "</style>\n",
       "<table border=\"1\" class=\"dataframe\">\n",
       "  <thead>\n",
       "    <tr style=\"text-align: right;\">\n",
       "      <th></th>\n",
       "      <th>total_pymnt</th>\n",
       "      <th>total_pymnt_inv</th>\n",
       "    </tr>\n",
       "  </thead>\n",
       "  <tbody>\n",
       "    <tr>\n",
       "      <th>total_pymnt</th>\n",
       "      <td>1.000000</td>\n",
       "      <td>0.971624</td>\n",
       "    </tr>\n",
       "    <tr>\n",
       "      <th>total_pymnt_inv</th>\n",
       "      <td>0.971624</td>\n",
       "      <td>1.000000</td>\n",
       "    </tr>\n",
       "  </tbody>\n",
       "</table>\n",
       "</div>"
      ],
      "text/plain": [
       "                 total_pymnt  total_pymnt_inv\n",
       "total_pymnt         1.000000         0.971624\n",
       "total_pymnt_inv     0.971624         1.000000"
      ]
     },
     "execution_count": 40,
     "metadata": {},
     "output_type": "execute_result"
    }
   ],
   "source": [
    "#lets find out co-relation between total_pymnt and total_pymnt_inv columns\n",
    "df[['total_pymnt','total_pymnt_inv']].corr(method='pearson')\n",
    "#we can see that these two columns are highly co-related with 97% positive co-relation. So we can drop any one column\n",
    "\n"
   ]
  },
  {
   "cell_type": "code",
   "execution_count": 41,
   "id": "ac4900a2",
   "metadata": {},
   "outputs": [
    {
     "data": {
      "text/html": [
       "<div>\n",
       "<style scoped>\n",
       "    .dataframe tbody tr th:only-of-type {\n",
       "        vertical-align: middle;\n",
       "    }\n",
       "\n",
       "    .dataframe tbody tr th {\n",
       "        vertical-align: top;\n",
       "    }\n",
       "\n",
       "    .dataframe thead th {\n",
       "        text-align: right;\n",
       "    }\n",
       "</style>\n",
       "<table border=\"1\" class=\"dataframe\">\n",
       "  <thead>\n",
       "    <tr style=\"text-align: right;\">\n",
       "      <th></th>\n",
       "      <th>funded_amnt</th>\n",
       "      <th>funded_amnt_inv</th>\n",
       "    </tr>\n",
       "  </thead>\n",
       "  <tbody>\n",
       "    <tr>\n",
       "      <th>funded_amnt</th>\n",
       "      <td>1.000000</td>\n",
       "      <td>0.962914</td>\n",
       "    </tr>\n",
       "    <tr>\n",
       "      <th>funded_amnt_inv</th>\n",
       "      <td>0.962914</td>\n",
       "      <td>1.000000</td>\n",
       "    </tr>\n",
       "  </tbody>\n",
       "</table>\n",
       "</div>"
      ],
      "text/plain": [
       "                 funded_amnt  funded_amnt_inv\n",
       "funded_amnt         1.000000         0.962914\n",
       "funded_amnt_inv     0.962914         1.000000"
      ]
     },
     "execution_count": 41,
     "metadata": {},
     "output_type": "execute_result"
    }
   ],
   "source": [
    "#lets find out co-relation between funded_amnt and funded_amnt_inv columns\n",
    "df[['funded_amnt','funded_amnt_inv']].corr(method='pearson')\n",
    "#we can see that these two columns are highly co-related with 96% positive co-relation. So we can drop any one column"
   ]
  },
  {
   "cell_type": "markdown",
   "id": "07797175",
   "metadata": {},
   "source": [
    "#### list of columns to keep based on assumptions below\n",
    "- id : loan_id\n",
    "- pub_rec: We can analyze effect of loan status on derogatry public record.\n",
    "- revol_bal: we can check credit effect on loan_defaulters\n",
    "- revol_util: we can check whether deafulters behaviour toward credit utilization\n",
    "- total_acc: we are expecting negative co-relation between defaulters and  total number of credit lines\n",
    "- out_prncp : co-relation between out_prncp_inv and out_prncp is very high. So keeping out_prncp.\n",
    "- total_pymnt : co-relation between total_pymnt_inv and total_pymnt is very high. So keeping total_pymnt.\n",
    "- term : loans are given in two terms i.e. 3years or 5years. So, we can analyse effect of loan terms on defaulters\n",
    "- int_rate : it is key factor in any loans purchase.\n",
    "- installment : it is also key factor in any loan process\n",
    "- total_rec_prncp : it is also key factor in any loan process\n",
    "- total_rec_int : it is also key factor in any loan process\n",
    "- total_rec_late_fee : it is also known key factor in any loan process\n",
    "- last_pymnt_d : we can derive another column using issue_d and last_pymnt_d to get probable time period of defaulting \n",
    "- issue_d : important for above requirement\n",
    "- open_acc : to check if credit lines are affecting default rate\n",
    "- earliest_cr_line : We can find how quick a person is to default after he is given a credit line\n",
    "- delinq_2yrs : We can see behaviour of a defaulter in the last two years over his alloted credit  \n",
    "- loan_amnt: Main criteria to decide the defaulting rate\n",
    "- funded_amnt : amount of loan amount committed when approved at that time. Can check loan_amount v/s funded amount\n",
    "- grade: We can check the relation between level of loan given and the defaulting behaviour\n",
    "- sub_grade: We can check the relation between subgrade of LC and the defaulting behaviour. And also which subgrades within a grade are more susciptable for defaulting\n",
    "- emp_length : Will help in work experience v/s defaulting comparision\n",
    "- home_ownership: The home ownership usually gives confidence to get a loan. Good metric for comparision\n",
    "- annual_inc : Good metric to evaluate on this front.\n",
    "- verification_status : income verification plays a key role in defaulting behaviour usually.\n",
    "- loan_status: A kind of target variable for this EDA\n",
    "- purpose: good metric to see the reason of loan and eventual defaulting behavior if any.\n",
    "- state: origin state behaviour on defaulting can be checked\n",
    "- dti - debt to income is a ratio if more , chances of defaulting are more. But we will indulge later based on data for this.\n",
    "- pub_rec_bankruptcies: relation between this and defaulting is an intersting insight."
   ]
  },
  {
   "cell_type": "markdown",
   "id": "c0f36a3f",
   "metadata": {},
   "source": [
    "#### list of columns to drop\n",
    "- inq_last_6mths : Since person's enquiry process is what we are not concerned about.\n",
    "- initial_list_status : There is only one value in entire column.\n",
    "- out_prncp_inv : co-relation between out_prncp_inv and out_prncp is very high. So dropping out_prncp_inv.\n",
    "- total_pymnt_inv : co-relation between total_pymnt_inv and total_pymnt is very high. So dropping total_pymnt_inv\n",
    "- recoveries : since this is post loan application process, we are not concerned about it.\n",
    "- collection_recovery_fee : this column values amount to recovery fees required for collection through third party agencies or any other means. So, we can ignore this column as it is post charge off process.\n",
    "- last_pymnt_amnt: As this amount refers to last month's payment, no insight can be drawn from this column. It is better to drop it.\n",
    "- last_credit_pull_d : This colum values are last month's credit line pulled for this loan. So, not much meaningful insight can be drawn from it.\n",
    "- policy_code : There is only one value throught column. Hence we can drop it.\n",
    "- application_type : There is only one value throught column. Hence we can drop it. \n",
    "- acc_now_delinq : There is only one value throught column. Hence we can drop it.\n",
    "- delinq_amnt : There is only one value throught column. Hence we can drop it.\n",
    "- member_id: we can eliminate, just keeping id is enough because both were unique\n",
    "- funded_amnt_inv : co-relation between funded_amnt_inv and funded_amnt is very high. So dropping funded_amnt_inv\n",
    "- pymnt_plan: There is only one value throught column. Hence we can drop it.\n",
    "- url: We can remove this as its the url of the loan which looks like https://lendingclub.com/browse/loanDetail.action?loan_id=1077501 and we are anyways keeping the id column.\n",
    "- title: we can ignore this column, as we are looking at purpose column. Going indepth for this column requires more processing like clustering etc..\n",
    "- zip_code :  Doesn't have significant value to decide defaulter behaviour based on his origin place, doing on state level is better\n",
    " \n",
    "    [\"inq_last_6mths\", \"initial_list_status\" , \"out_prncp_inv\" , \"total_pymnt_inv\" , \"recoveries\", \"collection_recovery_fee\" ,\"last_pymnt_amnt\", \"last_credit_pull_d\" , \"policy_code\" , \"application_type\",\"member_id\",\"funded_amnt_inv\",\"pymnt_plan\",\"url\",\"title\",\"zip_code\",\"acc_now_delinq\",\"delinq_amnt\"]"
   ]
  },
  {
   "cell_type": "code",
   "execution_count": 42,
   "id": "413b9e82",
   "metadata": {},
   "outputs": [],
   "source": [
    "df = df.drop(columns = [\"inq_last_6mths\", \"initial_list_status\" , \"out_prncp_inv\" , \"total_pymnt_inv\" , \"recoveries\", \"collection_recovery_fee\" ,\"last_pymnt_amnt\", \"last_credit_pull_d\" , \"policy_code\" , \"application_type\",\"member_id\",\"funded_amnt_inv\",\"pymnt_plan\",\"url\",\"title\",\"zip_code\",\"acc_now_delinq\",\"delinq_amnt\"])"
   ]
  },
  {
   "cell_type": "code",
   "execution_count": 43,
   "id": "42e9152b",
   "metadata": {},
   "outputs": [
    {
     "data": {
      "text/plain": [
       "(39469, 31)"
      ]
     },
     "execution_count": 43,
     "metadata": {},
     "output_type": "execute_result"
    }
   ],
   "source": [
    "after_dropping = df.shape\n",
    "after_dropping"
   ]
  },
  {
   "cell_type": "code",
   "execution_count": 44,
   "id": "df4e2885",
   "metadata": {},
   "outputs": [
    {
     "name": "stdout",
     "output_type": "stream",
     "text": [
      "Number of rows dropped: 248(0.6244177556210188%)\n",
      "Number of columns dropped: 80(72.07207207207207%)\n"
     ]
    }
   ],
   "source": [
    "print(\"Number of rows dropped: \" + str(shape[0] - after_dropping[0]) + \"(\" + str((shape[0] - after_dropping[0])*100/shape[0]) + \"%)\")\n",
    "print(\"Number of columns dropped: \" + str(shape[1] - after_dropping[1]) + \"(\" + str((shape[1] - after_dropping[1])*100/shape[1]) + \"%)\")\n"
   ]
  },
  {
   "cell_type": "code",
   "execution_count": 45,
   "id": "dc01a59c",
   "metadata": {},
   "outputs": [],
   "source": [
    "## saving the cleaned data to a csv for faster reading in future\n",
    "df.to_csv(\"Data/loan_cleaned.csv\")\n",
    "df = pd.read_csv(\"Data/loan_cleaned.csv\")"
   ]
  },
  {
   "cell_type": "markdown",
   "id": "02433e6b",
   "metadata": {},
   "source": [
    "# 2. UniVariate Analysis"
   ]
  },
  {
   "cell_type": "markdown",
   "id": "d33020ef",
   "metadata": {},
   "source": [
    "### i) loan_status"
   ]
  },
  {
   "cell_type": "code",
   "execution_count": 46,
   "id": "28ea185d",
   "metadata": {},
   "outputs": [
    {
     "data": {
      "text/plain": [
       "count          39469\n",
       "unique             3\n",
       "top       Fully Paid\n",
       "freq           32906\n",
       "Name: loan_status, dtype: object"
      ]
     },
     "execution_count": 46,
     "metadata": {},
     "output_type": "execute_result"
    }
   ],
   "source": [
    "## Checking loan_status variable\n",
    "df.loan_status.describe()"
   ]
  },
  {
   "cell_type": "code",
   "execution_count": 64,
   "id": "33e37681",
   "metadata": {},
   "outputs": [
    {
     "data": {
      "text/html": [
       "<div>\n",
       "<style scoped>\n",
       "    .dataframe tbody tr th:only-of-type {\n",
       "        vertical-align: middle;\n",
       "    }\n",
       "\n",
       "    .dataframe tbody tr th {\n",
       "        vertical-align: top;\n",
       "    }\n",
       "\n",
       "    .dataframe thead th {\n",
       "        text-align: right;\n",
       "    }\n",
       "</style>\n",
       "<table border=\"1\" class=\"dataframe\">\n",
       "  <thead>\n",
       "    <tr style=\"text-align: right;\">\n",
       "      <th></th>\n",
       "      <th>index</th>\n",
       "      <th>loan_status</th>\n",
       "    </tr>\n",
       "  </thead>\n",
       "  <tbody>\n",
       "    <tr>\n",
       "      <th>0</th>\n",
       "      <td>Fully Paid</td>\n",
       "      <td>83.371760</td>\n",
       "    </tr>\n",
       "    <tr>\n",
       "      <th>1</th>\n",
       "      <td>Charged Off</td>\n",
       "      <td>13.739897</td>\n",
       "    </tr>\n",
       "    <tr>\n",
       "      <th>2</th>\n",
       "      <td>Current</td>\n",
       "      <td>2.888343</td>\n",
       "    </tr>\n",
       "  </tbody>\n",
       "</table>\n",
       "</div>"
      ],
      "text/plain": [
       "         index  loan_status\n",
       "0   Fully Paid    83.371760\n",
       "1  Charged Off    13.739897\n",
       "2      Current     2.888343"
      ]
     },
     "execution_count": 64,
     "metadata": {},
     "output_type": "execute_result"
    }
   ],
   "source": [
    "##get percentage of loans which are defaulted\n",
    "loan_status_perc = (100*(df.loan_status.value_counts())/df.shape[0]).to_frame()\n",
    "loan_status_perc.reset_index(inplace=True)\n",
    "loan_status_perc"
   ]
  },
  {
   "cell_type": "code",
   "execution_count": 67,
   "id": "e94d44a8",
   "metadata": {},
   "outputs": [
    {
     "data": {
      "image/png": "[encoded data removed]",
      "text/plain": [
       "<Figure size 576x576 with 1 Axes>"
      ]
     },
     "metadata": {},
     "output_type": "display_data"
    }
   ],
   "source": [
    "# Defining the plot size\n",
    "plt.figure(figsize=(8,8))\n",
    "  \n",
    "# Defining the values for x-axis, y-axis\n",
    "# and from which datafarme the values are to be picked\n",
    "plots = sns.barplot(x=\"index\", y=\"loan_status\", data=loan_status_perc)\n",
    "  \n",
    "# Iterrating over the bars one-by-one\n",
    "for bar in plots.patches:\n",
    "    plots.annotate(format(bar.get_height(), '.2f'), \n",
    "                   (bar.get_x() + bar.get_width() / 2, \n",
    "                    bar.get_height()), ha='center', va='center',\n",
    "                   size=15, xytext=(0, 8),\n",
    "                   textcoords='offset points')\n",
    "  \n",
    "# Setting the label for x-axis\n",
    "plt.xlabel(\"Loan Status\", size=14)\n",
    "  \n",
    "# Setting the label for y-axis\n",
    "plt.ylabel(\"Percentage\", size=14)\n",
    "  \n",
    "# Setting the title for the graph\n",
    "plt.title(\"Loan Status\")\n",
    "  \n",
    "# Fianlly showing the plot\n",
    "plt.show()\n"
   ]
  },
  {
   "cell_type": "markdown",
   "id": "650b680a",
   "metadata": {},
   "source": [
    "Loan Status:\n",
    "- We see that only 13.7% of the given data points/members have been charged off"
   ]
  },
  {
   "cell_type": "markdown",
   "id": "d1c2186d",
   "metadata": {},
   "source": [
    "### ii) loan_amnt"
   ]
  },
  {
   "cell_type": "code",
   "execution_count": 71,
   "id": "cbc66870",
   "metadata": {},
   "outputs": [
    {
     "data": {
      "text/plain": [
       "dtype('int64')"
      ]
     },
     "execution_count": 71,
     "metadata": {},
     "output_type": "execute_result"
    }
   ],
   "source": [
    "#check datatype\n",
    "df.loan_amnt.dtype"
   ]
  },
  {
   "cell_type": "code",
   "execution_count": 74,
   "id": "20e21d53",
   "metadata": {},
   "outputs": [
    {
     "data": {
      "text/plain": [
       "count    39469.000000\n",
       "mean     11228.972738\n",
       "std       7455.425065\n",
       "min        500.000000\n",
       "25%       5500.000000\n",
       "50%      10000.000000\n",
       "75%      15000.000000\n",
       "max      35000.000000\n",
       "Name: loan_amnt, dtype: float64"
      ]
     },
     "execution_count": 74,
     "metadata": {},
     "output_type": "execute_result"
    }
   ],
   "source": [
    "df.loan_amnt.describe()"
   ]
  },
  {
   "cell_type": "code",
   "execution_count": 80,
   "id": "0b7570b0",
   "metadata": {},
   "outputs": [
    {
     "data": {
      "text/plain": [
       "<matplotlib.axes._subplots.AxesSubplot at 0x2393da13f98>"
      ]
     },
     "execution_count": 80,
     "metadata": {},
     "output_type": "execute_result"
    },
    {
     "data": {
      "image/png": "[encoded data removed]",
      "text/plain": [
       "<Figure size 432x720 with 1 Axes>"
      ]
     },
     "metadata": {},
     "output_type": "display_data"
    }
   ],
   "source": [
    "## draw a box  plot of loan_amount\n",
    "plt.figure(figsize=(6,10))\n",
    "sns.boxplot(data=df,y = \"loan_amnt\")"
   ]
  },
  {
   "cell_type": "code",
   "execution_count": 84,
   "id": "997ccc04",
   "metadata": {},
   "outputs": [
    {
     "name": "stderr",
     "output_type": "stream",
     "text": [
      "C:\\Users\\Sameer\\Anaconda3\\lib\\site-packages\\scipy\\stats\\stats.py:1713: FutureWarning: Using a non-tuple sequence for multidimensional indexing is deprecated; use `arr[tuple(seq)]` instead of `arr[seq]`. In the future this will be interpreted as an array index, `arr[np.array(seq)]`, which will result either in an error or a different result.\n",
      "  return np.add.reduce(sorted[indexer] * weights, axis=axis) / sumval\n",
      "C:\\Users\\Sameer\\Anaconda3\\lib\\site-packages\\matplotlib\\axes\\_axes.py:6462: UserWarning: The 'normed' kwarg is deprecated, and has been replaced by the 'density' kwarg.\n",
      "  warnings.warn(\"The 'normed' kwarg is deprecated, and has been \"\n"
     ]
    },
    {
     "data": {
      "text/plain": [
       "<matplotlib.axes._subplots.AxesSubplot at 0x2393d7ce4a8>"
      ]
     },
     "execution_count": 84,
     "metadata": {},
     "output_type": "execute_result"
    },
    {
     "data": {
      "image/png": "[encoded data removed]",
      "text/plain": [
       "<Figure size 432x288 with 1 Axes>"
      ]
     },
     "metadata": {},
     "output_type": "display_data"
    }
   ],
   "source": [
    "sns.distplot(df.loan_amnt)"
   ]
  },
  {
   "cell_type": "markdown",
   "id": "241ce2d5",
   "metadata": {},
   "source": [
    "- avg loan_amount is 11,200\n",
    "- std deviation doesn't matter, because loan amounts differ based on requirements. \n",
    "- Most of the loans are ranging in between 5500 to 15000\n",
    "- Its left skewed as post 15000 the number of loans is decreasing and the max value is 35000"
   ]
  },
  {
   "cell_type": "markdown",
   "id": "918168f2",
   "metadata": {},
   "source": [
    "### iii) funded_amnt"
   ]
  },
  {
   "cell_type": "code",
   "execution_count": 88,
   "id": "401ae789",
   "metadata": {},
   "outputs": [
    {
     "data": {
      "text/plain": [
       "dtype('int64')"
      ]
     },
     "execution_count": 88,
     "metadata": {},
     "output_type": "execute_result"
    }
   ],
   "source": [
    "#check datatype\n",
    "df.funded_amnt.dtype"
   ]
  },
  {
   "cell_type": "code",
   "execution_count": 89,
   "id": "6c937ed1",
   "metadata": {},
   "outputs": [
    {
     "data": {
      "text/plain": [
       "count    39469.000000\n",
       "mean     10956.396159\n",
       "std       7184.746851\n",
       "min        500.000000\n",
       "25%       5400.000000\n",
       "50%       9650.000000\n",
       "75%      15000.000000\n",
       "max      35000.000000\n",
       "Name: funded_amnt, dtype: float64"
      ]
     },
     "execution_count": 89,
     "metadata": {},
     "output_type": "execute_result"
    }
   ],
   "source": [
    "df.funded_amnt.describe()"
   ]
  },
  {
   "cell_type": "code",
   "execution_count": 90,
   "id": "8c135104",
   "metadata": {},
   "outputs": [
    {
     "data": {
      "text/plain": [
       "<matplotlib.axes._subplots.AxesSubplot at 0x2393d87a160>"
      ]
     },
     "execution_count": 90,
     "metadata": {},
     "output_type": "execute_result"
    },
    {
     "data": {
      "image/png": "[encoded data removed]",
      "text/plain": [
       "<Figure size 432x720 with 1 Axes>"
      ]
     },
     "metadata": {},
     "output_type": "display_data"
    }
   ],
   "source": [
    "## draw a box  plot of loan_amount\n",
    "plt.figure(figsize=(6,10))\n",
    "sns.boxplot(data=df,y = \"funded_amnt\")"
   ]
  },
  {
   "cell_type": "code",
   "execution_count": 91,
   "id": "943f9672",
   "metadata": {},
   "outputs": [
    {
     "name": "stderr",
     "output_type": "stream",
     "text": [
      "C:\\Users\\Sameer\\Anaconda3\\lib\\site-packages\\scipy\\stats\\stats.py:1713: FutureWarning: Using a non-tuple sequence for multidimensional indexing is deprecated; use `arr[tuple(seq)]` instead of `arr[seq]`. In the future this will be interpreted as an array index, `arr[np.array(seq)]`, which will result either in an error or a different result.\n",
      "  return np.add.reduce(sorted[indexer] * weights, axis=axis) / sumval\n",
      "C:\\Users\\Sameer\\Anaconda3\\lib\\site-packages\\matplotlib\\axes\\_axes.py:6462: UserWarning: The 'normed' kwarg is deprecated, and has been replaced by the 'density' kwarg.\n",
      "  warnings.warn(\"The 'normed' kwarg is deprecated, and has been \"\n"
     ]
    },
    {
     "data": {
      "text/plain": [
       "<matplotlib.axes._subplots.AxesSubplot at 0x2393dc5ebe0>"
      ]
     },
     "execution_count": 91,
     "metadata": {},
     "output_type": "execute_result"
    },
    {
     "data": {
      "image/png": "[encoded data removed]",
      "text/plain": [
       "<Figure size 432x288 with 1 Axes>"
      ]
     },
     "metadata": {},
     "output_type": "display_data"
    }
   ],
   "source": [
    "sns.distplot(df.funded_amnt)"
   ]
  },
  {
   "cell_type": "markdown",
   "id": "02b3e405",
   "metadata": {},
   "source": [
    "- We see similar behaviour as loan_amount because they are highly correlated in terms of commited loan v/s amount disbursed as usually close."
   ]
  },
  {
   "cell_type": "markdown",
   "id": "0d5d5d69",
   "metadata": {},
   "source": [
    "### iv) int_rate"
   ]
  },
  {
   "cell_type": "code",
   "execution_count": 98,
   "id": "881ca687",
   "metadata": {},
   "outputs": [
    {
     "data": {
      "text/plain": [
       "dtype('O')"
      ]
     },
     "execution_count": 98,
     "metadata": {},
     "output_type": "execute_result"
    }
   ],
   "source": [
    "##check the type of value for int_rate\n",
    "df.dtypes['int_rate']"
   ]
  },
  {
   "cell_type": "code",
   "execution_count": 101,
   "id": "68edd64d",
   "metadata": {},
   "outputs": [],
   "source": [
    "##convert to float\n",
    "df.int_rate = df.int_rate.apply(lambda x : float(x[:-1]))"
   ]
  },
  {
   "cell_type": "code",
   "execution_count": 102,
   "id": "267eec6b",
   "metadata": {},
   "outputs": [
    {
     "data": {
      "text/plain": [
       "count    39469.000000\n",
       "mean        12.014381\n",
       "std          3.728017\n",
       "min          5.420000\n",
       "25%          9.200000\n",
       "50%         11.830000\n",
       "75%         14.590000\n",
       "max         24.590000\n",
       "Name: int_rate, dtype: float64"
      ]
     },
     "execution_count": 102,
     "metadata": {},
     "output_type": "execute_result"
    }
   ],
   "source": [
    "##check the stats \n",
    "df.int_rate.describe()"
   ]
  },
  {
   "cell_type": "code",
   "execution_count": 105,
   "id": "e906e30f",
   "metadata": {},
   "outputs": [
    {
     "name": "stderr",
     "output_type": "stream",
     "text": [
      "C:\\Users\\Sameer\\Anaconda3\\lib\\site-packages\\matplotlib\\axes\\_axes.py:6462: UserWarning: The 'normed' kwarg is deprecated, and has been replaced by the 'density' kwarg.\n",
      "  warnings.warn(\"The 'normed' kwarg is deprecated, and has been \"\n",
      "C:\\Users\\Sameer\\Anaconda3\\lib\\site-packages\\scipy\\stats\\stats.py:1713: FutureWarning: Using a non-tuple sequence for multidimensional indexing is deprecated; use `arr[tuple(seq)]` instead of `arr[seq]`. In the future this will be interpreted as an array index, `arr[np.array(seq)]`, which will result either in an error or a different result.\n",
      "  return np.add.reduce(sorted[indexer] * weights, axis=axis) / sumval\n"
     ]
    },
    {
     "data": {
      "text/plain": [
       "<matplotlib.axes._subplots.AxesSubplot at 0x2393ddd3550>"
      ]
     },
     "execution_count": 105,
     "metadata": {},
     "output_type": "execute_result"
    },
    {
     "data": {
      "image/png": "[encoded data removed]",
      "text/plain": [
       "<Figure size 432x288 with 1 Axes>"
      ]
     },
     "metadata": {},
     "output_type": "display_data"
    }
   ],
   "source": [
    "sns.distplot(df.int_rate,bins=100)"
   ]
  },
  {
   "cell_type": "markdown",
   "id": "9f21fd58",
   "metadata": {},
   "source": [
    "- We see that mean rate is around 12% \n",
    "- We see more of a near to normal distribution of rates , which might be based on other factors like reason, amount_loan,policy of company etc..\n",
    "- Most of the loans in IQR are between 9% - 14.5% which is generally seen in most of the real life loans.\n",
    "- 50% loans are within 5% of interest ranging 9 - 14"
   ]
  },
  {
   "cell_type": "markdown",
   "id": "9da45894",
   "metadata": {},
   "source": [
    "### v) term"
   ]
  },
  {
   "cell_type": "code",
   "execution_count": 107,
   "id": "5e2913ab",
   "metadata": {},
   "outputs": [
    {
     "data": {
      "text/html": [
       "<div>\n",
       "<style scoped>\n",
       "    .dataframe tbody tr th:only-of-type {\n",
       "        vertical-align: middle;\n",
       "    }\n",
       "\n",
       "    .dataframe tbody tr th {\n",
       "        vertical-align: top;\n",
       "    }\n",
       "\n",
       "    .dataframe thead th {\n",
       "        text-align: right;\n",
       "    }\n",
       "</style>\n",
       "<table border=\"1\" class=\"dataframe\">\n",
       "  <thead>\n",
       "    <tr style=\"text-align: right;\">\n",
       "      <th></th>\n",
       "      <th>term</th>\n",
       "    </tr>\n",
       "  </thead>\n",
       "  <tbody>\n",
       "    <tr>\n",
       "      <th>36 months</th>\n",
       "      <td>28872</td>\n",
       "    </tr>\n",
       "    <tr>\n",
       "      <th>60 months</th>\n",
       "      <td>10597</td>\n",
       "    </tr>\n",
       "  </tbody>\n",
       "</table>\n",
       "</div>"
      ],
      "text/plain": [
       "             term\n",
       " 36 months  28872\n",
       " 60 months  10597"
      ]
     },
     "execution_count": 107,
     "metadata": {},
     "output_type": "execute_result"
    }
   ],
   "source": [
    "tenure = df.term.value_counts().to_frame()\n",
    "tenure"
   ]
  },
  {
   "cell_type": "code",
   "execution_count": 109,
   "id": "a87acaa8",
   "metadata": {},
   "outputs": [
    {
     "data": {
      "text/html": [
       "<div>\n",
       "<style scoped>\n",
       "    .dataframe tbody tr th:only-of-type {\n",
       "        vertical-align: middle;\n",
       "    }\n",
       "\n",
       "    .dataframe tbody tr th {\n",
       "        vertical-align: top;\n",
       "    }\n",
       "\n",
       "    .dataframe thead th {\n",
       "        text-align: right;\n",
       "    }\n",
       "</style>\n",
       "<table border=\"1\" class=\"dataframe\">\n",
       "  <thead>\n",
       "    <tr style=\"text-align: right;\">\n",
       "      <th></th>\n",
       "      <th>index</th>\n",
       "      <th>term</th>\n",
       "    </tr>\n",
       "  </thead>\n",
       "  <tbody>\n",
       "    <tr>\n",
       "      <th>0</th>\n",
       "      <td>36 months</td>\n",
       "      <td>73.151081</td>\n",
       "    </tr>\n",
       "    <tr>\n",
       "      <th>1</th>\n",
       "      <td>60 months</td>\n",
       "      <td>26.848919</td>\n",
       "    </tr>\n",
       "  </tbody>\n",
       "</table>\n",
       "</div>"
      ],
      "text/plain": [
       "        index       term\n",
       "0   36 months  73.151081\n",
       "1   60 months  26.848919"
      ]
     },
     "execution_count": 109,
     "metadata": {},
     "output_type": "execute_result"
    }
   ],
   "source": [
    "##get percentage of loans which are defaulted\n",
    "tenure_perc = (100*(df.term.value_counts())/df.shape[0]).to_frame()\n",
    "tenure_perc.reset_index(inplace=True)\n",
    "tenure_perc"
   ]
  },
  {
   "cell_type": "code",
   "execution_count": 113,
   "id": "34af7d3f",
   "metadata": {},
   "outputs": [
    {
     "data": {
      "image/png": "[encoded data removed]",
      "text/plain": [
       "<Figure size 360x432 with 1 Axes>"
      ]
     },
     "metadata": {},
     "output_type": "display_data"
    }
   ],
   "source": [
    "# Defining the plot size\n",
    "plt.figure(figsize=(5,6))\n",
    "  \n",
    "# Defining the values for x-axis, y-axis\n",
    "# and from which datafarme the values are to be picked\n",
    "plots = sns.barplot(x=\"index\", y=\"term\", data=tenure_perc)\n",
    "  \n",
    "# Iterrating over the bars one-by-one\n",
    "for bar in plots.patches:\n",
    "    plots.annotate(format(bar.get_height(), '.2f'), \n",
    "                   (bar.get_x() + bar.get_width() / 2, \n",
    "                    bar.get_height()), ha='center', va='center',\n",
    "                   size=10, xytext=(0, 8),\n",
    "                   textcoords='offset points')\n",
    "  \n",
    "# Setting the label for x-axis\n",
    "plt.xlabel(\"Loan Tenure\", size=14)\n",
    "  \n",
    "# Setting the label for y-axis\n",
    "plt.ylabel(\"Percentage\", size=14)\n",
    "  \n",
    "# Setting the title for the graph\n",
    "plt.title(\"Loan Tenure\")\n",
    "  \n",
    "# Fianlly showing the plot\n",
    "plt.show()\n"
   ]
  },
  {
   "cell_type": "markdown",
   "id": "65a1ac72",
   "metadata": {},
   "source": [
    "- Only two tenures being taken , either 3yrs or 5yrs\n",
    "- We see that 74% approx. are taking loans for 3 years and 26% of them for 5 years"
   ]
  },
  {
   "cell_type": "code",
   "execution_count": null,
   "id": "f930e346",
   "metadata": {},
   "outputs": [],
   "source": []
  }
 ],
 "metadata": {
  "kernelspec": {
   "display_name": "masters",
   "language": "python",
   "name": "masters"
  },
  "language_info": {
   "codemirror_mode": {
    "name": "ipython",
    "version": 3
   },
   "file_extension": ".py",
   "mimetype": "text/x-python",
   "name": "python",
   "nbconvert_exporter": "python",
   "pygments_lexer": "ipython3",
   "version": "3.6.5"
  }
 },
 "nbformat": 4,
 "nbformat_minor": 5
}
