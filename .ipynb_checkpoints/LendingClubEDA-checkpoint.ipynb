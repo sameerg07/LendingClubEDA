{
 "cells": [
  {
   "cell_type": "code",
   "execution_count": 1,
   "id": "2c02ca79",
   "metadata": {},
   "outputs": [],
   "source": [
    "import pandas as pd\n",
    "import numpy as np\n",
    "import seaborn as sns\n",
    "import matplotlib.pyplot as plt"
   ]
  },
  {
   "cell_type": "code",
   "execution_count": 2,
   "id": "e193bec4",
   "metadata": {},
   "outputs": [
    {
     "name": "stdout",
     "output_type": "stream",
     "text": [
      "Shape of the dataset is:  (39717, 111)\n"
     ]
    },
    {
     "name": "stderr",
     "output_type": "stream",
     "text": [
      "c:\\users\\sameer\\anaconda3\\envs\\masters\\lib\\site-packages\\IPython\\core\\interactiveshell.py:3072: DtypeWarning: Columns (47) have mixed types.Specify dtype option on import or set low_memory=False.\n",
      "  interactivity=interactivity, compiler=compiler, result=result)\n"
     ]
    },
    {
     "data": {
      "text/html": [
       "<div>\n",
       "<style scoped>\n",
       "    .dataframe tbody tr th:only-of-type {\n",
       "        vertical-align: middle;\n",
       "    }\n",
       "\n",
       "    .dataframe tbody tr th {\n",
       "        vertical-align: top;\n",
       "    }\n",
       "\n",
       "    .dataframe thead th {\n",
       "        text-align: right;\n",
       "    }\n",
       "</style>\n",
       "<table border=\"1\" class=\"dataframe\">\n",
       "  <thead>\n",
       "    <tr style=\"text-align: right;\">\n",
       "      <th></th>\n",
       "      <th>id</th>\n",
       "      <th>member_id</th>\n",
       "      <th>loan_amnt</th>\n",
       "      <th>funded_amnt</th>\n",
       "      <th>funded_amnt_inv</th>\n",
       "      <th>term</th>\n",
       "      <th>int_rate</th>\n",
       "      <th>installment</th>\n",
       "      <th>grade</th>\n",
       "      <th>sub_grade</th>\n",
       "      <th>...</th>\n",
       "      <th>num_tl_90g_dpd_24m</th>\n",
       "      <th>num_tl_op_past_12m</th>\n",
       "      <th>pct_tl_nvr_dlq</th>\n",
       "      <th>percent_bc_gt_75</th>\n",
       "      <th>pub_rec_bankruptcies</th>\n",
       "      <th>tax_liens</th>\n",
       "      <th>tot_hi_cred_lim</th>\n",
       "      <th>total_bal_ex_mort</th>\n",
       "      <th>total_bc_limit</th>\n",
       "      <th>total_il_high_credit_limit</th>\n",
       "    </tr>\n",
       "  </thead>\n",
       "  <tbody>\n",
       "    <tr>\n",
       "      <th>0</th>\n",
       "      <td>1077501</td>\n",
       "      <td>1296599</td>\n",
       "      <td>5000</td>\n",
       "      <td>5000</td>\n",
       "      <td>4975.0</td>\n",
       "      <td>36 months</td>\n",
       "      <td>10.65%</td>\n",
       "      <td>162.87</td>\n",
       "      <td>B</td>\n",
       "      <td>B2</td>\n",
       "      <td>...</td>\n",
       "      <td>NaN</td>\n",
       "      <td>NaN</td>\n",
       "      <td>NaN</td>\n",
       "      <td>NaN</td>\n",
       "      <td>0.0</td>\n",
       "      <td>0.0</td>\n",
       "      <td>NaN</td>\n",
       "      <td>NaN</td>\n",
       "      <td>NaN</td>\n",
       "      <td>NaN</td>\n",
       "    </tr>\n",
       "    <tr>\n",
       "      <th>1</th>\n",
       "      <td>1077430</td>\n",
       "      <td>1314167</td>\n",
       "      <td>2500</td>\n",
       "      <td>2500</td>\n",
       "      <td>2500.0</td>\n",
       "      <td>60 months</td>\n",
       "      <td>15.27%</td>\n",
       "      <td>59.83</td>\n",
       "      <td>C</td>\n",
       "      <td>C4</td>\n",
       "      <td>...</td>\n",
       "      <td>NaN</td>\n",
       "      <td>NaN</td>\n",
       "      <td>NaN</td>\n",
       "      <td>NaN</td>\n",
       "      <td>0.0</td>\n",
       "      <td>0.0</td>\n",
       "      <td>NaN</td>\n",
       "      <td>NaN</td>\n",
       "      <td>NaN</td>\n",
       "      <td>NaN</td>\n",
       "    </tr>\n",
       "    <tr>\n",
       "      <th>2</th>\n",
       "      <td>1077175</td>\n",
       "      <td>1313524</td>\n",
       "      <td>2400</td>\n",
       "      <td>2400</td>\n",
       "      <td>2400.0</td>\n",
       "      <td>36 months</td>\n",
       "      <td>15.96%</td>\n",
       "      <td>84.33</td>\n",
       "      <td>C</td>\n",
       "      <td>C5</td>\n",
       "      <td>...</td>\n",
       "      <td>NaN</td>\n",
       "      <td>NaN</td>\n",
       "      <td>NaN</td>\n",
       "      <td>NaN</td>\n",
       "      <td>0.0</td>\n",
       "      <td>0.0</td>\n",
       "      <td>NaN</td>\n",
       "      <td>NaN</td>\n",
       "      <td>NaN</td>\n",
       "      <td>NaN</td>\n",
       "    </tr>\n",
       "    <tr>\n",
       "      <th>3</th>\n",
       "      <td>1076863</td>\n",
       "      <td>1277178</td>\n",
       "      <td>10000</td>\n",
       "      <td>10000</td>\n",
       "      <td>10000.0</td>\n",
       "      <td>36 months</td>\n",
       "      <td>13.49%</td>\n",
       "      <td>339.31</td>\n",
       "      <td>C</td>\n",
       "      <td>C1</td>\n",
       "      <td>...</td>\n",
       "      <td>NaN</td>\n",
       "      <td>NaN</td>\n",
       "      <td>NaN</td>\n",
       "      <td>NaN</td>\n",
       "      <td>0.0</td>\n",
       "      <td>0.0</td>\n",
       "      <td>NaN</td>\n",
       "      <td>NaN</td>\n",
       "      <td>NaN</td>\n",
       "      <td>NaN</td>\n",
       "    </tr>\n",
       "    <tr>\n",
       "      <th>4</th>\n",
       "      <td>1075358</td>\n",
       "      <td>1311748</td>\n",
       "      <td>3000</td>\n",
       "      <td>3000</td>\n",
       "      <td>3000.0</td>\n",
       "      <td>60 months</td>\n",
       "      <td>12.69%</td>\n",
       "      <td>67.79</td>\n",
       "      <td>B</td>\n",
       "      <td>B5</td>\n",
       "      <td>...</td>\n",
       "      <td>NaN</td>\n",
       "      <td>NaN</td>\n",
       "      <td>NaN</td>\n",
       "      <td>NaN</td>\n",
       "      <td>0.0</td>\n",
       "      <td>0.0</td>\n",
       "      <td>NaN</td>\n",
       "      <td>NaN</td>\n",
       "      <td>NaN</td>\n",
       "      <td>NaN</td>\n",
       "    </tr>\n",
       "  </tbody>\n",
       "</table>\n",
       "<p>5 rows × 111 columns</p>\n",
       "</div>"
      ],
      "text/plain": [
       "        id  member_id  loan_amnt  funded_amnt  funded_amnt_inv        term  \\\n",
       "0  1077501    1296599       5000         5000           4975.0   36 months   \n",
       "1  1077430    1314167       2500         2500           2500.0   60 months   \n",
       "2  1077175    1313524       2400         2400           2400.0   36 months   \n",
       "3  1076863    1277178      10000        10000          10000.0   36 months   \n",
       "4  1075358    1311748       3000         3000           3000.0   60 months   \n",
       "\n",
       "  int_rate  installment grade sub_grade  ... num_tl_90g_dpd_24m  \\\n",
       "0   10.65%       162.87     B        B2  ...                NaN   \n",
       "1   15.27%        59.83     C        C4  ...                NaN   \n",
       "2   15.96%        84.33     C        C5  ...                NaN   \n",
       "3   13.49%       339.31     C        C1  ...                NaN   \n",
       "4   12.69%        67.79     B        B5  ...                NaN   \n",
       "\n",
       "  num_tl_op_past_12m pct_tl_nvr_dlq  percent_bc_gt_75 pub_rec_bankruptcies  \\\n",
       "0                NaN            NaN               NaN                  0.0   \n",
       "1                NaN            NaN               NaN                  0.0   \n",
       "2                NaN            NaN               NaN                  0.0   \n",
       "3                NaN            NaN               NaN                  0.0   \n",
       "4                NaN            NaN               NaN                  0.0   \n",
       "\n",
       "  tax_liens tot_hi_cred_lim total_bal_ex_mort total_bc_limit  \\\n",
       "0       0.0             NaN               NaN            NaN   \n",
       "1       0.0             NaN               NaN            NaN   \n",
       "2       0.0             NaN               NaN            NaN   \n",
       "3       0.0             NaN               NaN            NaN   \n",
       "4       0.0             NaN               NaN            NaN   \n",
       "\n",
       "  total_il_high_credit_limit  \n",
       "0                        NaN  \n",
       "1                        NaN  \n",
       "2                        NaN  \n",
       "3                        NaN  \n",
       "4                        NaN  \n",
       "\n",
       "[5 rows x 111 columns]"
      ]
     },
     "execution_count": 2,
     "metadata": {},
     "output_type": "execute_result"
    }
   ],
   "source": [
    "#load dataset\n",
    "df = pd.read_csv(\"Data/loan.csv\")\n",
    "shape = df.shape\n",
    "print(\"Shape of the dataset is: \", shape)\n",
    "df.head()"
   ]
  },
  {
   "cell_type": "markdown",
   "id": "63858563",
   "metadata": {},
   "source": [
    "- There are 111 columns in the given dataset"
   ]
  },
  {
   "cell_type": "markdown",
   "id": "14385d78",
   "metadata": {},
   "source": [
    "## 1. Data Cleaning"
   ]
  },
  {
   "cell_type": "code",
   "execution_count": 3,
   "id": "617a0629",
   "metadata": {},
   "outputs": [
    {
     "data": {
      "text/plain": [
       "(54, 1)"
      ]
     },
     "execution_count": 3,
     "metadata": {},
     "output_type": "execute_result"
    }
   ],
   "source": [
    "##find columns with 100% missing values\n",
    "missing = 100*(df.isnull().sum()/df.shape[0]).to_frame()\n",
    "missing = missing[missing[0]==100]\n",
    "missing.shape"
   ]
  },
  {
   "cell_type": "code",
   "execution_count": 4,
   "id": "8b419e64",
   "metadata": {},
   "outputs": [
    {
     "data": {
      "text/plain": [
       "['mths_since_last_major_derog',\n",
       " 'annual_inc_joint',\n",
       " 'dti_joint',\n",
       " 'verification_status_joint',\n",
       " 'tot_coll_amt',\n",
       " 'tot_cur_bal',\n",
       " 'open_acc_6m',\n",
       " 'open_il_6m',\n",
       " 'open_il_12m',\n",
       " 'open_il_24m',\n",
       " 'mths_since_rcnt_il',\n",
       " 'total_bal_il',\n",
       " 'il_util',\n",
       " 'open_rv_12m',\n",
       " 'open_rv_24m',\n",
       " 'max_bal_bc',\n",
       " 'all_util',\n",
       " 'total_rev_hi_lim',\n",
       " 'inq_fi',\n",
       " 'total_cu_tl',\n",
       " 'inq_last_12m',\n",
       " 'acc_open_past_24mths',\n",
       " 'avg_cur_bal',\n",
       " 'bc_open_to_buy',\n",
       " 'bc_util',\n",
       " 'mo_sin_old_il_acct',\n",
       " 'mo_sin_old_rev_tl_op',\n",
       " 'mo_sin_rcnt_rev_tl_op',\n",
       " 'mo_sin_rcnt_tl',\n",
       " 'mort_acc',\n",
       " 'mths_since_recent_bc',\n",
       " 'mths_since_recent_bc_dlq',\n",
       " 'mths_since_recent_inq',\n",
       " 'mths_since_recent_revol_delinq',\n",
       " 'num_accts_ever_120_pd',\n",
       " 'num_actv_bc_tl',\n",
       " 'num_actv_rev_tl',\n",
       " 'num_bc_sats',\n",
       " 'num_bc_tl',\n",
       " 'num_il_tl',\n",
       " 'num_op_rev_tl',\n",
       " 'num_rev_accts',\n",
       " 'num_rev_tl_bal_gt_0',\n",
       " 'num_sats',\n",
       " 'num_tl_120dpd_2m',\n",
       " 'num_tl_30dpd',\n",
       " 'num_tl_90g_dpd_24m',\n",
       " 'num_tl_op_past_12m',\n",
       " 'pct_tl_nvr_dlq',\n",
       " 'percent_bc_gt_75',\n",
       " 'tot_hi_cred_lim',\n",
       " 'total_bal_ex_mort',\n",
       " 'total_bc_limit',\n",
       " 'total_il_high_credit_limit']"
      ]
     },
     "execution_count": 4,
     "metadata": {},
     "output_type": "execute_result"
    }
   ],
   "source": [
    "## names of above 54 columns\n",
    "list(missing.index)"
   ]
  },
  {
   "cell_type": "code",
   "execution_count": 5,
   "id": "52e673eb",
   "metadata": {},
   "outputs": [],
   "source": [
    "#drop the above columns\n",
    "df.drop(columns=list(missing.index),inplace=True)"
   ]
  },
  {
   "cell_type": "code",
   "execution_count": 6,
   "id": "00e2e977",
   "metadata": {},
   "outputs": [
    {
     "data": {
      "text/plain": [
       "57"
      ]
     },
     "execution_count": 6,
     "metadata": {},
     "output_type": "execute_result"
    }
   ],
   "source": [
    "#remaining columns\n",
    "len(df.columns)"
   ]
  },
  {
   "cell_type": "markdown",
   "id": "47850194",
   "metadata": {},
   "source": [
    "- We are now left with 57 columns after dropping 54 of columns with no data"
   ]
  },
  {
   "cell_type": "code",
   "execution_count": 7,
   "id": "7af508db",
   "metadata": {},
   "outputs": [
    {
     "data": {
      "text/html": [
       "<div>\n",
       "<style scoped>\n",
       "    .dataframe tbody tr th:only-of-type {\n",
       "        vertical-align: middle;\n",
       "    }\n",
       "\n",
       "    .dataframe tbody tr th {\n",
       "        vertical-align: top;\n",
       "    }\n",
       "\n",
       "    .dataframe thead th {\n",
       "        text-align: right;\n",
       "    }\n",
       "</style>\n",
       "<table border=\"1\" class=\"dataframe\">\n",
       "  <thead>\n",
       "    <tr style=\"text-align: right;\">\n",
       "      <th></th>\n",
       "      <th>0</th>\n",
       "    </tr>\n",
       "  </thead>\n",
       "  <tbody>\n",
       "    <tr>\n",
       "      <th>next_pymnt_d</th>\n",
       "      <td>97.129693</td>\n",
       "    </tr>\n",
       "    <tr>\n",
       "      <th>mths_since_last_record</th>\n",
       "      <td>92.985372</td>\n",
       "    </tr>\n",
       "    <tr>\n",
       "      <th>mths_since_last_delinq</th>\n",
       "      <td>64.662487</td>\n",
       "    </tr>\n",
       "    <tr>\n",
       "      <th>desc</th>\n",
       "      <td>32.580507</td>\n",
       "    </tr>\n",
       "    <tr>\n",
       "      <th>emp_title</th>\n",
       "      <td>6.191303</td>\n",
       "    </tr>\n",
       "    <tr>\n",
       "      <th>emp_length</th>\n",
       "      <td>2.706650</td>\n",
       "    </tr>\n",
       "    <tr>\n",
       "      <th>pub_rec_bankruptcies</th>\n",
       "      <td>1.754916</td>\n",
       "    </tr>\n",
       "    <tr>\n",
       "      <th>last_pymnt_d</th>\n",
       "      <td>0.178765</td>\n",
       "    </tr>\n",
       "    <tr>\n",
       "      <th>chargeoff_within_12_mths</th>\n",
       "      <td>0.140998</td>\n",
       "    </tr>\n",
       "    <tr>\n",
       "      <th>collections_12_mths_ex_med</th>\n",
       "      <td>0.140998</td>\n",
       "    </tr>\n",
       "    <tr>\n",
       "      <th>revol_util</th>\n",
       "      <td>0.125891</td>\n",
       "    </tr>\n",
       "    <tr>\n",
       "      <th>tax_liens</th>\n",
       "      <td>0.098195</td>\n",
       "    </tr>\n",
       "    <tr>\n",
       "      <th>title</th>\n",
       "      <td>0.027696</td>\n",
       "    </tr>\n",
       "    <tr>\n",
       "      <th>last_credit_pull_d</th>\n",
       "      <td>0.005036</td>\n",
       "    </tr>\n",
       "    <tr>\n",
       "      <th>home_ownership</th>\n",
       "      <td>0.000000</td>\n",
       "    </tr>\n",
       "    <tr>\n",
       "      <th>int_rate</th>\n",
       "      <td>0.000000</td>\n",
       "    </tr>\n",
       "    <tr>\n",
       "      <th>out_prncp_inv</th>\n",
       "      <td>0.000000</td>\n",
       "    </tr>\n",
       "    <tr>\n",
       "      <th>total_pymnt</th>\n",
       "      <td>0.000000</td>\n",
       "    </tr>\n",
       "    <tr>\n",
       "      <th>total_pymnt_inv</th>\n",
       "      <td>0.000000</td>\n",
       "    </tr>\n",
       "    <tr>\n",
       "      <th>total_rec_prncp</th>\n",
       "      <td>0.000000</td>\n",
       "    </tr>\n",
       "    <tr>\n",
       "      <th>total_rec_int</th>\n",
       "      <td>0.000000</td>\n",
       "    </tr>\n",
       "    <tr>\n",
       "      <th>total_rec_late_fee</th>\n",
       "      <td>0.000000</td>\n",
       "    </tr>\n",
       "    <tr>\n",
       "      <th>recoveries</th>\n",
       "      <td>0.000000</td>\n",
       "    </tr>\n",
       "    <tr>\n",
       "      <th>collection_recovery_fee</th>\n",
       "      <td>0.000000</td>\n",
       "    </tr>\n",
       "    <tr>\n",
       "      <th>term</th>\n",
       "      <td>0.000000</td>\n",
       "    </tr>\n",
       "    <tr>\n",
       "      <th>last_pymnt_amnt</th>\n",
       "      <td>0.000000</td>\n",
       "    </tr>\n",
       "    <tr>\n",
       "      <th>initial_list_status</th>\n",
       "      <td>0.000000</td>\n",
       "    </tr>\n",
       "    <tr>\n",
       "      <th>funded_amnt_inv</th>\n",
       "      <td>0.000000</td>\n",
       "    </tr>\n",
       "    <tr>\n",
       "      <th>policy_code</th>\n",
       "      <td>0.000000</td>\n",
       "    </tr>\n",
       "    <tr>\n",
       "      <th>application_type</th>\n",
       "      <td>0.000000</td>\n",
       "    </tr>\n",
       "    <tr>\n",
       "      <th>acc_now_delinq</th>\n",
       "      <td>0.000000</td>\n",
       "    </tr>\n",
       "    <tr>\n",
       "      <th>funded_amnt</th>\n",
       "      <td>0.000000</td>\n",
       "    </tr>\n",
       "    <tr>\n",
       "      <th>delinq_amnt</th>\n",
       "      <td>0.000000</td>\n",
       "    </tr>\n",
       "    <tr>\n",
       "      <th>loan_amnt</th>\n",
       "      <td>0.000000</td>\n",
       "    </tr>\n",
       "    <tr>\n",
       "      <th>out_prncp</th>\n",
       "      <td>0.000000</td>\n",
       "    </tr>\n",
       "    <tr>\n",
       "      <th>total_acc</th>\n",
       "      <td>0.000000</td>\n",
       "    </tr>\n",
       "    <tr>\n",
       "      <th>annual_inc</th>\n",
       "      <td>0.000000</td>\n",
       "    </tr>\n",
       "    <tr>\n",
       "      <th>addr_state</th>\n",
       "      <td>0.000000</td>\n",
       "    </tr>\n",
       "    <tr>\n",
       "      <th>verification_status</th>\n",
       "      <td>0.000000</td>\n",
       "    </tr>\n",
       "    <tr>\n",
       "      <th>issue_d</th>\n",
       "      <td>0.000000</td>\n",
       "    </tr>\n",
       "    <tr>\n",
       "      <th>loan_status</th>\n",
       "      <td>0.000000</td>\n",
       "    </tr>\n",
       "    <tr>\n",
       "      <th>pymnt_plan</th>\n",
       "      <td>0.000000</td>\n",
       "    </tr>\n",
       "    <tr>\n",
       "      <th>url</th>\n",
       "      <td>0.000000</td>\n",
       "    </tr>\n",
       "    <tr>\n",
       "      <th>sub_grade</th>\n",
       "      <td>0.000000</td>\n",
       "    </tr>\n",
       "    <tr>\n",
       "      <th>purpose</th>\n",
       "      <td>0.000000</td>\n",
       "    </tr>\n",
       "    <tr>\n",
       "      <th>zip_code</th>\n",
       "      <td>0.000000</td>\n",
       "    </tr>\n",
       "    <tr>\n",
       "      <th>dti</th>\n",
       "      <td>0.000000</td>\n",
       "    </tr>\n",
       "    <tr>\n",
       "      <th>installment</th>\n",
       "      <td>0.000000</td>\n",
       "    </tr>\n",
       "    <tr>\n",
       "      <th>delinq_2yrs</th>\n",
       "      <td>0.000000</td>\n",
       "    </tr>\n",
       "    <tr>\n",
       "      <th>earliest_cr_line</th>\n",
       "      <td>0.000000</td>\n",
       "    </tr>\n",
       "    <tr>\n",
       "      <th>inq_last_6mths</th>\n",
       "      <td>0.000000</td>\n",
       "    </tr>\n",
       "    <tr>\n",
       "      <th>member_id</th>\n",
       "      <td>0.000000</td>\n",
       "    </tr>\n",
       "    <tr>\n",
       "      <th>grade</th>\n",
       "      <td>0.000000</td>\n",
       "    </tr>\n",
       "    <tr>\n",
       "      <th>open_acc</th>\n",
       "      <td>0.000000</td>\n",
       "    </tr>\n",
       "    <tr>\n",
       "      <th>pub_rec</th>\n",
       "      <td>0.000000</td>\n",
       "    </tr>\n",
       "    <tr>\n",
       "      <th>revol_bal</th>\n",
       "      <td>0.000000</td>\n",
       "    </tr>\n",
       "    <tr>\n",
       "      <th>id</th>\n",
       "      <td>0.000000</td>\n",
       "    </tr>\n",
       "  </tbody>\n",
       "</table>\n",
       "</div>"
      ],
      "text/plain": [
       "                                    0\n",
       "next_pymnt_d                97.129693\n",
       "mths_since_last_record      92.985372\n",
       "mths_since_last_delinq      64.662487\n",
       "desc                        32.580507\n",
       "emp_title                    6.191303\n",
       "emp_length                   2.706650\n",
       "pub_rec_bankruptcies         1.754916\n",
       "last_pymnt_d                 0.178765\n",
       "chargeoff_within_12_mths     0.140998\n",
       "collections_12_mths_ex_med   0.140998\n",
       "revol_util                   0.125891\n",
       "tax_liens                    0.098195\n",
       "title                        0.027696\n",
       "last_credit_pull_d           0.005036\n",
       "home_ownership               0.000000\n",
       "int_rate                     0.000000\n",
       "out_prncp_inv                0.000000\n",
       "total_pymnt                  0.000000\n",
       "total_pymnt_inv              0.000000\n",
       "total_rec_prncp              0.000000\n",
       "total_rec_int                0.000000\n",
       "total_rec_late_fee           0.000000\n",
       "recoveries                   0.000000\n",
       "collection_recovery_fee      0.000000\n",
       "term                         0.000000\n",
       "last_pymnt_amnt              0.000000\n",
       "initial_list_status          0.000000\n",
       "funded_amnt_inv              0.000000\n",
       "policy_code                  0.000000\n",
       "application_type             0.000000\n",
       "acc_now_delinq               0.000000\n",
       "funded_amnt                  0.000000\n",
       "delinq_amnt                  0.000000\n",
       "loan_amnt                    0.000000\n",
       "out_prncp                    0.000000\n",
       "total_acc                    0.000000\n",
       "annual_inc                   0.000000\n",
       "addr_state                   0.000000\n",
       "verification_status          0.000000\n",
       "issue_d                      0.000000\n",
       "loan_status                  0.000000\n",
       "pymnt_plan                   0.000000\n",
       "url                          0.000000\n",
       "sub_grade                    0.000000\n",
       "purpose                      0.000000\n",
       "zip_code                     0.000000\n",
       "dti                          0.000000\n",
       "installment                  0.000000\n",
       "delinq_2yrs                  0.000000\n",
       "earliest_cr_line             0.000000\n",
       "inq_last_6mths               0.000000\n",
       "member_id                    0.000000\n",
       "grade                        0.000000\n",
       "open_acc                     0.000000\n",
       "pub_rec                      0.000000\n",
       "revol_bal                    0.000000\n",
       "id                           0.000000"
      ]
     },
     "execution_count": 7,
     "metadata": {},
     "output_type": "execute_result"
    }
   ],
   "source": [
    "## lets see the missing values within the left out columns\n",
    "missing = (100* df.isnull().sum()/df.shape[0]).to_frame()\n",
    "missing.sort_values(0,ascending=False)"
   ]
  },
  {
   "cell_type": "markdown",
   "id": "c49ee8d6",
   "metadata": {},
   "source": [
    "### Dropping below columns:\n",
    "- Cannot predict next_payment_date, so it's better to drop the column which has 97.129693% of missing data\n",
    "- Months since last record, this field has 92.985372% of missing data. We do not know what NA means here. So dropping it.\n",
    "- mths_since_last_delinq has 65% of missing data, and this field isn't that relevant to work with only 35% available data.\n",
    "- desc, its just description/reason for the loan.\n",
    "- emp_title is not relevant here so dropping it"
   ]
  },
  {
   "cell_type": "code",
   "execution_count": 8,
   "id": "acc2bc14",
   "metadata": {},
   "outputs": [],
   "source": [
    "df.drop(columns=[\"next_pymnt_d\",\"mths_since_last_record\",\"mths_since_last_delinq\",\"mths_since_last_record\",\"desc\",\"emp_title\"],inplace=True)"
   ]
  },
  {
   "cell_type": "code",
   "execution_count": 9,
   "id": "40d7ec59",
   "metadata": {},
   "outputs": [
    {
     "data": {
      "text/html": [
       "<div>\n",
       "<style scoped>\n",
       "    .dataframe tbody tr th:only-of-type {\n",
       "        vertical-align: middle;\n",
       "    }\n",
       "\n",
       "    .dataframe tbody tr th {\n",
       "        vertical-align: top;\n",
       "    }\n",
       "\n",
       "    .dataframe thead th {\n",
       "        text-align: right;\n",
       "    }\n",
       "</style>\n",
       "<table border=\"1\" class=\"dataframe\">\n",
       "  <thead>\n",
       "    <tr style=\"text-align: right;\">\n",
       "      <th></th>\n",
       "      <th>0</th>\n",
       "    </tr>\n",
       "  </thead>\n",
       "  <tbody>\n",
       "    <tr>\n",
       "      <th>emp_length</th>\n",
       "      <td>2.706650</td>\n",
       "    </tr>\n",
       "    <tr>\n",
       "      <th>pub_rec_bankruptcies</th>\n",
       "      <td>1.754916</td>\n",
       "    </tr>\n",
       "    <tr>\n",
       "      <th>last_pymnt_d</th>\n",
       "      <td>0.178765</td>\n",
       "    </tr>\n",
       "    <tr>\n",
       "      <th>chargeoff_within_12_mths</th>\n",
       "      <td>0.140998</td>\n",
       "    </tr>\n",
       "    <tr>\n",
       "      <th>collections_12_mths_ex_med</th>\n",
       "      <td>0.140998</td>\n",
       "    </tr>\n",
       "    <tr>\n",
       "      <th>revol_util</th>\n",
       "      <td>0.125891</td>\n",
       "    </tr>\n",
       "    <tr>\n",
       "      <th>tax_liens</th>\n",
       "      <td>0.098195</td>\n",
       "    </tr>\n",
       "    <tr>\n",
       "      <th>title</th>\n",
       "      <td>0.027696</td>\n",
       "    </tr>\n",
       "    <tr>\n",
       "      <th>last_credit_pull_d</th>\n",
       "      <td>0.005036</td>\n",
       "    </tr>\n",
       "    <tr>\n",
       "      <th>total_rec_prncp</th>\n",
       "      <td>0.000000</td>\n",
       "    </tr>\n",
       "    <tr>\n",
       "      <th>total_acc</th>\n",
       "      <td>0.000000</td>\n",
       "    </tr>\n",
       "    <tr>\n",
       "      <th>initial_list_status</th>\n",
       "      <td>0.000000</td>\n",
       "    </tr>\n",
       "    <tr>\n",
       "      <th>out_prncp</th>\n",
       "      <td>0.000000</td>\n",
       "    </tr>\n",
       "    <tr>\n",
       "      <th>out_prncp_inv</th>\n",
       "      <td>0.000000</td>\n",
       "    </tr>\n",
       "    <tr>\n",
       "      <th>total_pymnt</th>\n",
       "      <td>0.000000</td>\n",
       "    </tr>\n",
       "    <tr>\n",
       "      <th>total_pymnt_inv</th>\n",
       "      <td>0.000000</td>\n",
       "    </tr>\n",
       "    <tr>\n",
       "      <th>collection_recovery_fee</th>\n",
       "      <td>0.000000</td>\n",
       "    </tr>\n",
       "    <tr>\n",
       "      <th>total_rec_int</th>\n",
       "      <td>0.000000</td>\n",
       "    </tr>\n",
       "    <tr>\n",
       "      <th>total_rec_late_fee</th>\n",
       "      <td>0.000000</td>\n",
       "    </tr>\n",
       "    <tr>\n",
       "      <th>recoveries</th>\n",
       "      <td>0.000000</td>\n",
       "    </tr>\n",
       "    <tr>\n",
       "      <th>pub_rec</th>\n",
       "      <td>0.000000</td>\n",
       "    </tr>\n",
       "    <tr>\n",
       "      <th>last_pymnt_amnt</th>\n",
       "      <td>0.000000</td>\n",
       "    </tr>\n",
       "    <tr>\n",
       "      <th>policy_code</th>\n",
       "      <td>0.000000</td>\n",
       "    </tr>\n",
       "    <tr>\n",
       "      <th>application_type</th>\n",
       "      <td>0.000000</td>\n",
       "    </tr>\n",
       "    <tr>\n",
       "      <th>acc_now_delinq</th>\n",
       "      <td>0.000000</td>\n",
       "    </tr>\n",
       "    <tr>\n",
       "      <th>delinq_amnt</th>\n",
       "      <td>0.000000</td>\n",
       "    </tr>\n",
       "    <tr>\n",
       "      <th>revol_bal</th>\n",
       "      <td>0.000000</td>\n",
       "    </tr>\n",
       "    <tr>\n",
       "      <th>id</th>\n",
       "      <td>0.000000</td>\n",
       "    </tr>\n",
       "    <tr>\n",
       "      <th>member_id</th>\n",
       "      <td>0.000000</td>\n",
       "    </tr>\n",
       "    <tr>\n",
       "      <th>inq_last_6mths</th>\n",
       "      <td>0.000000</td>\n",
       "    </tr>\n",
       "    <tr>\n",
       "      <th>loan_amnt</th>\n",
       "      <td>0.000000</td>\n",
       "    </tr>\n",
       "    <tr>\n",
       "      <th>funded_amnt</th>\n",
       "      <td>0.000000</td>\n",
       "    </tr>\n",
       "    <tr>\n",
       "      <th>funded_amnt_inv</th>\n",
       "      <td>0.000000</td>\n",
       "    </tr>\n",
       "    <tr>\n",
       "      <th>term</th>\n",
       "      <td>0.000000</td>\n",
       "    </tr>\n",
       "    <tr>\n",
       "      <th>int_rate</th>\n",
       "      <td>0.000000</td>\n",
       "    </tr>\n",
       "    <tr>\n",
       "      <th>installment</th>\n",
       "      <td>0.000000</td>\n",
       "    </tr>\n",
       "    <tr>\n",
       "      <th>grade</th>\n",
       "      <td>0.000000</td>\n",
       "    </tr>\n",
       "    <tr>\n",
       "      <th>sub_grade</th>\n",
       "      <td>0.000000</td>\n",
       "    </tr>\n",
       "    <tr>\n",
       "      <th>home_ownership</th>\n",
       "      <td>0.000000</td>\n",
       "    </tr>\n",
       "    <tr>\n",
       "      <th>annual_inc</th>\n",
       "      <td>0.000000</td>\n",
       "    </tr>\n",
       "    <tr>\n",
       "      <th>verification_status</th>\n",
       "      <td>0.000000</td>\n",
       "    </tr>\n",
       "    <tr>\n",
       "      <th>issue_d</th>\n",
       "      <td>0.000000</td>\n",
       "    </tr>\n",
       "    <tr>\n",
       "      <th>loan_status</th>\n",
       "      <td>0.000000</td>\n",
       "    </tr>\n",
       "    <tr>\n",
       "      <th>pymnt_plan</th>\n",
       "      <td>0.000000</td>\n",
       "    </tr>\n",
       "    <tr>\n",
       "      <th>url</th>\n",
       "      <td>0.000000</td>\n",
       "    </tr>\n",
       "    <tr>\n",
       "      <th>purpose</th>\n",
       "      <td>0.000000</td>\n",
       "    </tr>\n",
       "    <tr>\n",
       "      <th>zip_code</th>\n",
       "      <td>0.000000</td>\n",
       "    </tr>\n",
       "    <tr>\n",
       "      <th>addr_state</th>\n",
       "      <td>0.000000</td>\n",
       "    </tr>\n",
       "    <tr>\n",
       "      <th>dti</th>\n",
       "      <td>0.000000</td>\n",
       "    </tr>\n",
       "    <tr>\n",
       "      <th>delinq_2yrs</th>\n",
       "      <td>0.000000</td>\n",
       "    </tr>\n",
       "    <tr>\n",
       "      <th>earliest_cr_line</th>\n",
       "      <td>0.000000</td>\n",
       "    </tr>\n",
       "    <tr>\n",
       "      <th>open_acc</th>\n",
       "      <td>0.000000</td>\n",
       "    </tr>\n",
       "  </tbody>\n",
       "</table>\n",
       "</div>"
      ],
      "text/plain": [
       "                                   0\n",
       "emp_length                  2.706650\n",
       "pub_rec_bankruptcies        1.754916\n",
       "last_pymnt_d                0.178765\n",
       "chargeoff_within_12_mths    0.140998\n",
       "collections_12_mths_ex_med  0.140998\n",
       "revol_util                  0.125891\n",
       "tax_liens                   0.098195\n",
       "title                       0.027696\n",
       "last_credit_pull_d          0.005036\n",
       "total_rec_prncp             0.000000\n",
       "total_acc                   0.000000\n",
       "initial_list_status         0.000000\n",
       "out_prncp                   0.000000\n",
       "out_prncp_inv               0.000000\n",
       "total_pymnt                 0.000000\n",
       "total_pymnt_inv             0.000000\n",
       "collection_recovery_fee     0.000000\n",
       "total_rec_int               0.000000\n",
       "total_rec_late_fee          0.000000\n",
       "recoveries                  0.000000\n",
       "pub_rec                     0.000000\n",
       "last_pymnt_amnt             0.000000\n",
       "policy_code                 0.000000\n",
       "application_type            0.000000\n",
       "acc_now_delinq              0.000000\n",
       "delinq_amnt                 0.000000\n",
       "revol_bal                   0.000000\n",
       "id                          0.000000\n",
       "member_id                   0.000000\n",
       "inq_last_6mths              0.000000\n",
       "loan_amnt                   0.000000\n",
       "funded_amnt                 0.000000\n",
       "funded_amnt_inv             0.000000\n",
       "term                        0.000000\n",
       "int_rate                    0.000000\n",
       "installment                 0.000000\n",
       "grade                       0.000000\n",
       "sub_grade                   0.000000\n",
       "home_ownership              0.000000\n",
       "annual_inc                  0.000000\n",
       "verification_status         0.000000\n",
       "issue_d                     0.000000\n",
       "loan_status                 0.000000\n",
       "pymnt_plan                  0.000000\n",
       "url                         0.000000\n",
       "purpose                     0.000000\n",
       "zip_code                    0.000000\n",
       "addr_state                  0.000000\n",
       "dti                         0.000000\n",
       "delinq_2yrs                 0.000000\n",
       "earliest_cr_line            0.000000\n",
       "open_acc                    0.000000"
      ]
     },
     "execution_count": 9,
     "metadata": {},
     "output_type": "execute_result"
    }
   ],
   "source": [
    "## lets see the missing values within the left out columns\n",
    "missing = (100* df.isnull().sum()/df.shape[0]).to_frame()\n",
    "missing.sort_values(0,ascending=False)"
   ]
  },
  {
   "cell_type": "code",
   "execution_count": 10,
   "id": "09393185",
   "metadata": {},
   "outputs": [
    {
     "data": {
      "text/plain": [
       "10+ years    8879\n",
       "< 1 year     4583\n",
       "2 years      4388\n",
       "3 years      4095\n",
       "4 years      3436\n",
       "5 years      3282\n",
       "1 year       3240\n",
       "6 years      2229\n",
       "7 years      1773\n",
       "8 years      1479\n",
       "9 years      1258\n",
       "Name: emp_length, dtype: int64"
      ]
     },
     "execution_count": 10,
     "metadata": {},
     "output_type": "execute_result"
    }
   ],
   "source": [
    "df.emp_length.value_counts()"
   ]
  },
  {
   "cell_type": "code",
   "execution_count": 11,
   "id": "81281052",
   "metadata": {},
   "outputs": [],
   "source": [
    "## creating a new category for missing values of employment experience\n",
    "df.emp_length.fillna(\"Not Available\",inplace=True)"
   ]
  },
  {
   "cell_type": "code",
   "execution_count": 12,
   "id": "6d847c63",
   "metadata": {},
   "outputs": [
    {
     "data": {
      "text/html": [
       "<div>\n",
       "<style scoped>\n",
       "    .dataframe tbody tr th:only-of-type {\n",
       "        vertical-align: middle;\n",
       "    }\n",
       "\n",
       "    .dataframe tbody tr th {\n",
       "        vertical-align: top;\n",
       "    }\n",
       "\n",
       "    .dataframe thead th {\n",
       "        text-align: right;\n",
       "    }\n",
       "</style>\n",
       "<table border=\"1\" class=\"dataframe\">\n",
       "  <thead>\n",
       "    <tr style=\"text-align: right;\">\n",
       "      <th></th>\n",
       "      <th>pub_rec_bankruptcies</th>\n",
       "      <th>loan_status</th>\n",
       "    </tr>\n",
       "  </thead>\n",
       "  <tbody>\n",
       "    <tr>\n",
       "      <th>0</th>\n",
       "      <td>0.0</td>\n",
       "      <td>Fully Paid</td>\n",
       "    </tr>\n",
       "    <tr>\n",
       "      <th>1</th>\n",
       "      <td>0.0</td>\n",
       "      <td>Charged Off</td>\n",
       "    </tr>\n",
       "    <tr>\n",
       "      <th>2</th>\n",
       "      <td>0.0</td>\n",
       "      <td>Fully Paid</td>\n",
       "    </tr>\n",
       "    <tr>\n",
       "      <th>3</th>\n",
       "      <td>0.0</td>\n",
       "      <td>Fully Paid</td>\n",
       "    </tr>\n",
       "    <tr>\n",
       "      <th>4</th>\n",
       "      <td>0.0</td>\n",
       "      <td>Current</td>\n",
       "    </tr>\n",
       "  </tbody>\n",
       "</table>\n",
       "</div>"
      ],
      "text/plain": [
       "   pub_rec_bankruptcies  loan_status\n",
       "0                   0.0   Fully Paid\n",
       "1                   0.0  Charged Off\n",
       "2                   0.0   Fully Paid\n",
       "3                   0.0   Fully Paid\n",
       "4                   0.0      Current"
      ]
     },
     "execution_count": 12,
     "metadata": {},
     "output_type": "execute_result"
    }
   ],
   "source": [
    "## bankruptcies vs loan_status to impute missing values, we assume if NA in pub_rec_bankruptcies then we will check \n",
    "## if the person has fully paid the loan or is paying we replace with 0, else drop, because though he is a defaulter he can still have 0 bankruptcies\n",
    "temp = df.loc[:,[\"pub_rec_bankruptcies\",\"loan_status\"]]\n",
    "temp.head()"
   ]
  },
  {
   "cell_type": "code",
   "execution_count": 13,
   "id": "24d220c1",
   "metadata": {},
   "outputs": [
    {
     "data": {
      "text/plain": [
       "Fully Paid     579\n",
       "Charged Off    118\n",
       "Name: loan_status, dtype: int64"
      ]
     },
     "execution_count": 13,
     "metadata": {},
     "output_type": "execute_result"
    }
   ],
   "source": [
    "## checking the categories in missing bankrupties\n",
    "temp[temp.pub_rec_bankruptcies.isnull()].loan_status.value_counts()"
   ]
  },
  {
   "cell_type": "code",
   "execution_count": 14,
   "id": "f9792109",
   "metadata": {},
   "outputs": [
    {
     "data": {
      "text/plain": [
       "pub_rec_bankruptcies\n",
       "0.0    37339\n",
       "1.0     1674\n",
       "2.0        7\n",
       "Name: pub_rec_bankruptcies, dtype: int64"
      ]
     },
     "execution_count": 14,
     "metadata": {},
     "output_type": "execute_result"
    }
   ],
   "source": [
    "temp.groupby(\"pub_rec_bankruptcies\")[\"pub_rec_bankruptcies\"].count()"
   ]
  },
  {
   "cell_type": "code",
   "execution_count": 15,
   "id": "59af63d6",
   "metadata": {},
   "outputs": [
    {
     "data": {
      "text/plain": [
       "<AxesSubplot:xlabel='pub_rec_bankruptcies'>"
      ]
     },
     "execution_count": 15,
     "metadata": {},
     "output_type": "execute_result"
    },
    {
     "data": {
      "image/png": "[encoded data removed]",
      "text/plain": [
       "<Figure size 432x288 with 1 Axes>"
      ]
     },
     "metadata": {
      "needs_background": "light"
     },
     "output_type": "display_data"
    }
   ],
   "source": [
    "temp.groupby(\"pub_rec_bankruptcies\")[\"pub_rec_bankruptcies\"].count().plot.bar()"
   ]
  },
  {
   "cell_type": "code",
   "execution_count": 16,
   "id": "d6842556",
   "metadata": {},
   "outputs": [
    {
     "data": {
      "text/plain": [
       "Fully Paid     1274\n",
       "Charged Off     368\n",
       "Current          39\n",
       "Name: loan_status, dtype: int64"
      ]
     },
     "execution_count": 16,
     "metadata": {},
     "output_type": "execute_result"
    }
   ],
   "source": [
    "## checking the number of fully paid people with respect to their bankruptcies\n",
    "temp[(temp.pub_rec_bankruptcies == 1) | (temp.pub_rec_bankruptcies == 2)].loan_status.value_counts()"
   ]
  },
  {
   "cell_type": "code",
   "execution_count": 17,
   "id": "b014e368",
   "metadata": {},
   "outputs": [
    {
     "data": {
      "text/plain": [
       "Fully Paid     31097\n",
       "Charged Off     5141\n",
       "Current         1101\n",
       "Name: loan_status, dtype: int64"
      ]
     },
     "execution_count": 17,
     "metadata": {},
     "output_type": "execute_result"
    }
   ],
   "source": [
    "## can 0 be replaced for NAs if they have fully paid the loans? Get the count of majority\n",
    "temp[(temp.pub_rec_bankruptcies == 0)].loan_status.value_counts()"
   ]
  },
  {
   "cell_type": "markdown",
   "id": "f78aa5f7",
   "metadata": {},
   "source": [
    "- We will now replace NAs where they have fully paid , with 0 bankrupties as we saw above that majority of them with 0 bankrupties have paid their loans\n",
    "- We will drop the missing NAs in pub_rec_bankruptcies if they have been charged_off for their loans. This is because, we dont want to deal with such data as there are no evident proofs to impute right values in pub_rec_bankruptcies."
   ]
  },
  {
   "cell_type": "code",
   "execution_count": 18,
   "id": "3b8762b9",
   "metadata": {},
   "outputs": [
    {
     "name": "stdout",
     "output_type": "stream",
     "text": [
      "pub_rec_bankruptcies\n",
      "0.0    37918\n",
      "1.0     1674\n",
      "2.0        7\n",
      "Name: pub_rec_bankruptcies, dtype: int64\n"
     ]
    }
   ],
   "source": [
    "## Replace/Drop based on above assumptions\n",
    "def replace_na_pub_rec_bankruptcies(x,y):\n",
    "    if np.isnan(y):\n",
    "        if x == \"Fully Paid\":\n",
    "            return 0\n",
    "        else:\n",
    "            return y\n",
    "    else:\n",
    "        return y\n",
    "\n",
    "\n",
    "df_temp = df\n",
    "\n",
    "##replace values\n",
    "df_temp[\"pub_rec_bankruptcies\"] = df_temp.apply(lambda x: replace_na_pub_rec_bankruptcies(x.loan_status,x.pub_rec_bankruptcies),axis=1)\n",
    "print(df_temp.groupby(\"pub_rec_bankruptcies\")[\"pub_rec_bankruptcies\"].count())\n",
    "\n",
    "##drop remaining\n",
    "df_temp = df_temp[~df_temp.pub_rec_bankruptcies.isnull()]\n",
    "\n",
    "df = df_temp\n"
   ]
  },
  {
   "cell_type": "code",
   "execution_count": 19,
   "id": "9556df39",
   "metadata": {},
   "outputs": [
    {
     "data": {
      "text/html": [
       "<div>\n",
       "<style scoped>\n",
       "    .dataframe tbody tr th:only-of-type {\n",
       "        vertical-align: middle;\n",
       "    }\n",
       "\n",
       "    .dataframe tbody tr th {\n",
       "        vertical-align: top;\n",
       "    }\n",
       "\n",
       "    .dataframe thead th {\n",
       "        text-align: right;\n",
       "    }\n",
       "</style>\n",
       "<table border=\"1\" class=\"dataframe\">\n",
       "  <thead>\n",
       "    <tr style=\"text-align: right;\">\n",
       "      <th></th>\n",
       "      <th>0</th>\n",
       "    </tr>\n",
       "  </thead>\n",
       "  <tbody>\n",
       "    <tr>\n",
       "      <th>last_pymnt_d</th>\n",
       "      <td>0.179297</td>\n",
       "    </tr>\n",
       "    <tr>\n",
       "      <th>chargeoff_within_12_mths</th>\n",
       "      <td>0.128791</td>\n",
       "    </tr>\n",
       "    <tr>\n",
       "      <th>collections_12_mths_ex_med</th>\n",
       "      <td>0.128791</td>\n",
       "    </tr>\n",
       "    <tr>\n",
       "      <th>revol_util</th>\n",
       "      <td>0.126266</td>\n",
       "    </tr>\n",
       "    <tr>\n",
       "      <th>tax_liens</th>\n",
       "      <td>0.095962</td>\n",
       "    </tr>\n",
       "    <tr>\n",
       "      <th>title</th>\n",
       "      <td>0.027778</td>\n",
       "    </tr>\n",
       "    <tr>\n",
       "      <th>last_credit_pull_d</th>\n",
       "      <td>0.005051</td>\n",
       "    </tr>\n",
       "    <tr>\n",
       "      <th>total_rec_int</th>\n",
       "      <td>0.000000</td>\n",
       "    </tr>\n",
       "    <tr>\n",
       "      <th>total_acc</th>\n",
       "      <td>0.000000</td>\n",
       "    </tr>\n",
       "    <tr>\n",
       "      <th>initial_list_status</th>\n",
       "      <td>0.000000</td>\n",
       "    </tr>\n",
       "    <tr>\n",
       "      <th>out_prncp</th>\n",
       "      <td>0.000000</td>\n",
       "    </tr>\n",
       "    <tr>\n",
       "      <th>out_prncp_inv</th>\n",
       "      <td>0.000000</td>\n",
       "    </tr>\n",
       "    <tr>\n",
       "      <th>total_pymnt</th>\n",
       "      <td>0.000000</td>\n",
       "    </tr>\n",
       "    <tr>\n",
       "      <th>total_pymnt_inv</th>\n",
       "      <td>0.000000</td>\n",
       "    </tr>\n",
       "    <tr>\n",
       "      <th>total_rec_prncp</th>\n",
       "      <td>0.000000</td>\n",
       "    </tr>\n",
       "    <tr>\n",
       "      <th>recoveries</th>\n",
       "      <td>0.000000</td>\n",
       "    </tr>\n",
       "    <tr>\n",
       "      <th>total_rec_late_fee</th>\n",
       "      <td>0.000000</td>\n",
       "    </tr>\n",
       "    <tr>\n",
       "      <th>pub_rec</th>\n",
       "      <td>0.000000</td>\n",
       "    </tr>\n",
       "    <tr>\n",
       "      <th>collection_recovery_fee</th>\n",
       "      <td>0.000000</td>\n",
       "    </tr>\n",
       "    <tr>\n",
       "      <th>last_pymnt_amnt</th>\n",
       "      <td>0.000000</td>\n",
       "    </tr>\n",
       "    <tr>\n",
       "      <th>policy_code</th>\n",
       "      <td>0.000000</td>\n",
       "    </tr>\n",
       "    <tr>\n",
       "      <th>application_type</th>\n",
       "      <td>0.000000</td>\n",
       "    </tr>\n",
       "    <tr>\n",
       "      <th>acc_now_delinq</th>\n",
       "      <td>0.000000</td>\n",
       "    </tr>\n",
       "    <tr>\n",
       "      <th>delinq_amnt</th>\n",
       "      <td>0.000000</td>\n",
       "    </tr>\n",
       "    <tr>\n",
       "      <th>pub_rec_bankruptcies</th>\n",
       "      <td>0.000000</td>\n",
       "    </tr>\n",
       "    <tr>\n",
       "      <th>revol_bal</th>\n",
       "      <td>0.000000</td>\n",
       "    </tr>\n",
       "    <tr>\n",
       "      <th>id</th>\n",
       "      <td>0.000000</td>\n",
       "    </tr>\n",
       "    <tr>\n",
       "      <th>member_id</th>\n",
       "      <td>0.000000</td>\n",
       "    </tr>\n",
       "    <tr>\n",
       "      <th>annual_inc</th>\n",
       "      <td>0.000000</td>\n",
       "    </tr>\n",
       "    <tr>\n",
       "      <th>loan_amnt</th>\n",
       "      <td>0.000000</td>\n",
       "    </tr>\n",
       "    <tr>\n",
       "      <th>funded_amnt</th>\n",
       "      <td>0.000000</td>\n",
       "    </tr>\n",
       "    <tr>\n",
       "      <th>funded_amnt_inv</th>\n",
       "      <td>0.000000</td>\n",
       "    </tr>\n",
       "    <tr>\n",
       "      <th>term</th>\n",
       "      <td>0.000000</td>\n",
       "    </tr>\n",
       "    <tr>\n",
       "      <th>int_rate</th>\n",
       "      <td>0.000000</td>\n",
       "    </tr>\n",
       "    <tr>\n",
       "      <th>installment</th>\n",
       "      <td>0.000000</td>\n",
       "    </tr>\n",
       "    <tr>\n",
       "      <th>grade</th>\n",
       "      <td>0.000000</td>\n",
       "    </tr>\n",
       "    <tr>\n",
       "      <th>sub_grade</th>\n",
       "      <td>0.000000</td>\n",
       "    </tr>\n",
       "    <tr>\n",
       "      <th>emp_length</th>\n",
       "      <td>0.000000</td>\n",
       "    </tr>\n",
       "    <tr>\n",
       "      <th>home_ownership</th>\n",
       "      <td>0.000000</td>\n",
       "    </tr>\n",
       "    <tr>\n",
       "      <th>verification_status</th>\n",
       "      <td>0.000000</td>\n",
       "    </tr>\n",
       "    <tr>\n",
       "      <th>inq_last_6mths</th>\n",
       "      <td>0.000000</td>\n",
       "    </tr>\n",
       "    <tr>\n",
       "      <th>issue_d</th>\n",
       "      <td>0.000000</td>\n",
       "    </tr>\n",
       "    <tr>\n",
       "      <th>loan_status</th>\n",
       "      <td>0.000000</td>\n",
       "    </tr>\n",
       "    <tr>\n",
       "      <th>pymnt_plan</th>\n",
       "      <td>0.000000</td>\n",
       "    </tr>\n",
       "    <tr>\n",
       "      <th>url</th>\n",
       "      <td>0.000000</td>\n",
       "    </tr>\n",
       "    <tr>\n",
       "      <th>purpose</th>\n",
       "      <td>0.000000</td>\n",
       "    </tr>\n",
       "    <tr>\n",
       "      <th>zip_code</th>\n",
       "      <td>0.000000</td>\n",
       "    </tr>\n",
       "    <tr>\n",
       "      <th>addr_state</th>\n",
       "      <td>0.000000</td>\n",
       "    </tr>\n",
       "    <tr>\n",
       "      <th>dti</th>\n",
       "      <td>0.000000</td>\n",
       "    </tr>\n",
       "    <tr>\n",
       "      <th>delinq_2yrs</th>\n",
       "      <td>0.000000</td>\n",
       "    </tr>\n",
       "    <tr>\n",
       "      <th>earliest_cr_line</th>\n",
       "      <td>0.000000</td>\n",
       "    </tr>\n",
       "    <tr>\n",
       "      <th>open_acc</th>\n",
       "      <td>0.000000</td>\n",
       "    </tr>\n",
       "  </tbody>\n",
       "</table>\n",
       "</div>"
      ],
      "text/plain": [
       "                                   0\n",
       "last_pymnt_d                0.179297\n",
       "chargeoff_within_12_mths    0.128791\n",
       "collections_12_mths_ex_med  0.128791\n",
       "revol_util                  0.126266\n",
       "tax_liens                   0.095962\n",
       "title                       0.027778\n",
       "last_credit_pull_d          0.005051\n",
       "total_rec_int               0.000000\n",
       "total_acc                   0.000000\n",
       "initial_list_status         0.000000\n",
       "out_prncp                   0.000000\n",
       "out_prncp_inv               0.000000\n",
       "total_pymnt                 0.000000\n",
       "total_pymnt_inv             0.000000\n",
       "total_rec_prncp             0.000000\n",
       "recoveries                  0.000000\n",
       "total_rec_late_fee          0.000000\n",
       "pub_rec                     0.000000\n",
       "collection_recovery_fee     0.000000\n",
       "last_pymnt_amnt             0.000000\n",
       "policy_code                 0.000000\n",
       "application_type            0.000000\n",
       "acc_now_delinq              0.000000\n",
       "delinq_amnt                 0.000000\n",
       "pub_rec_bankruptcies        0.000000\n",
       "revol_bal                   0.000000\n",
       "id                          0.000000\n",
       "member_id                   0.000000\n",
       "annual_inc                  0.000000\n",
       "loan_amnt                   0.000000\n",
       "funded_amnt                 0.000000\n",
       "funded_amnt_inv             0.000000\n",
       "term                        0.000000\n",
       "int_rate                    0.000000\n",
       "installment                 0.000000\n",
       "grade                       0.000000\n",
       "sub_grade                   0.000000\n",
       "emp_length                  0.000000\n",
       "home_ownership              0.000000\n",
       "verification_status         0.000000\n",
       "inq_last_6mths              0.000000\n",
       "issue_d                     0.000000\n",
       "loan_status                 0.000000\n",
       "pymnt_plan                  0.000000\n",
       "url                         0.000000\n",
       "purpose                     0.000000\n",
       "zip_code                    0.000000\n",
       "addr_state                  0.000000\n",
       "dti                         0.000000\n",
       "delinq_2yrs                 0.000000\n",
       "earliest_cr_line            0.000000\n",
       "open_acc                    0.000000"
      ]
     },
     "execution_count": 19,
     "metadata": {},
     "output_type": "execute_result"
    }
   ],
   "source": [
    "## lets see the missing values within the left out columns\n",
    "missing = (100* df.isnull().sum()/df.shape[0]).to_frame()\n",
    "missing.sort_values(0,ascending=False)"
   ]
  },
  {
   "cell_type": "code",
   "execution_count": 20,
   "id": "31dad8ec",
   "metadata": {},
   "outputs": [],
   "source": [
    " #Remove all the rows with missing last payment due\n",
    "df = df[~df.last_pymnt_d.isnull()]"
   ]
  },
  {
   "cell_type": "code",
   "execution_count": 21,
   "id": "e772c6a5",
   "metadata": {},
   "outputs": [
    {
     "data": {
      "text/plain": [
       "0.0    39477\n",
       "Name: chargeoff_within_12_mths, dtype: int64"
      ]
     },
     "execution_count": 21,
     "metadata": {},
     "output_type": "execute_result"
    }
   ],
   "source": [
    "## types of values in chargeoff_within_12_mths \n",
    "df.chargeoff_within_12_mths.value_counts()"
   ]
  },
  {
   "cell_type": "code",
   "execution_count": 22,
   "id": "f81cd3a6",
   "metadata": {},
   "outputs": [
    {
     "data": {
      "text/plain": [
       "0.0    39477\n",
       "Name: collections_12_mths_ex_med, dtype: int64"
      ]
     },
     "execution_count": 22,
     "metadata": {},
     "output_type": "execute_result"
    }
   ],
   "source": [
    "## types of values in chargeoff_within_12_mths \n",
    "df.collections_12_mths_ex_med.value_counts()"
   ]
  },
  {
   "cell_type": "code",
   "execution_count": 23,
   "id": "937bc61d",
   "metadata": {},
   "outputs": [
    {
     "name": "stderr",
     "output_type": "stream",
     "text": [
      "c:\\users\\sameer\\anaconda3\\envs\\masters\\lib\\site-packages\\pandas\\core\\frame.py:4174: SettingWithCopyWarning: \n",
      "A value is trying to be set on a copy of a slice from a DataFrame\n",
      "\n",
      "See the caveats in the documentation: https://pandas.pydata.org/pandas-docs/stable/user_guide/indexing.html#returning-a-view-versus-a-copy\n",
      "  errors=errors,\n"
     ]
    }
   ],
   "source": [
    "#Dropping the above two column as it has only 0's \n",
    "df.drop(columns=[\"chargeoff_within_12_mths\"],inplace=True)"
   ]
  },
  {
   "cell_type": "code",
   "execution_count": 24,
   "id": "1a2adf25",
   "metadata": {},
   "outputs": [],
   "source": [
    "df.drop(columns=[\"collections_12_mths_ex_med\"],inplace=True)"
   ]
  },
  {
   "cell_type": "code",
   "execution_count": 25,
   "id": "ca1bfc85",
   "metadata": {},
   "outputs": [
    {
     "name": "stdout",
     "output_type": "stream",
     "text": [
      "Values in charged off:  0%        140\n",
      "66.60%     17\n",
      "63.70%     15\n",
      "89.40%     15\n",
      "77.60%     14\n",
      "         ... \n",
      "3.30%       1\n",
      "13.30%      1\n",
      "49.63%      1\n",
      "7.90%       1\n",
      "6.20%       1\n",
      "Name: revol_util, Length: 995, dtype: int64 \n",
      "\n",
      "Values in current:  0%        23\n",
      "88.20%     5\n",
      "73%        5\n",
      "66.10%     5\n",
      "35.70%     5\n",
      "          ..\n",
      "13.50%     1\n",
      "8.30%      1\n",
      "82.50%     1\n",
      "31.60%     1\n",
      "8.90%      1\n",
      "Name: revol_util, Length: 657, dtype: int64 \n",
      "\n",
      "values in fully paid: 0%        810\n",
      "63%        54\n",
      "40.70%     54\n",
      "37.60%     52\n",
      "0.20%      51\n",
      "         ... \n",
      "37.63%      1\n",
      "11.62%      1\n",
      "58.19%      1\n",
      "0.54%       1\n",
      "0.75%       1\n",
      "Name: revol_util, Length: 1077, dtype: int64 \n",
      "\n"
     ]
    }
   ],
   "source": [
    "charged_off = df[df.loan_status == \"Charged Off\" ]\n",
    "current = df[df.loan_status == \"Current\"]\n",
    "fully_paid = df[df.loan_status == \"Fully Paid\"]\n",
    "print(\"Values in charged off: \" , charged_off.revol_util.value_counts(),\"\\n\")\n",
    "print(\"Values in current: \", current.revol_util.value_counts(),\"\\n\")\n",
    "print(\"values in fully paid:\" , fully_paid.revol_util.value_counts(),\"\\n\")"
   ]
  },
  {
   "cell_type": "code",
   "execution_count": 26,
   "id": "cb92572e",
   "metadata": {},
   "outputs": [
    {
     "name": "stderr",
     "output_type": "stream",
     "text": [
      "c:\\users\\sameer\\anaconda3\\envs\\masters\\lib\\site-packages\\pandas\\core\\generic.py:5170: SettingWithCopyWarning: \n",
      "A value is trying to be set on a copy of a slice from a DataFrame.\n",
      "Try using .loc[row_indexer,col_indexer] = value instead\n",
      "\n",
      "See the caveats in the documentation: https://pandas.pydata.org/pandas-docs/stable/user_guide/indexing.html#returning-a-view-versus-a-copy\n",
      "  self[name] = value\n"
     ]
    }
   ],
   "source": [
    "temp = df[~df.revol_util.isnull()]\n",
    "temp.revol_util = temp.revol_util.apply(lambda x: float(x[:-1]))\n"
   ]
  },
  {
   "cell_type": "code",
   "execution_count": 27,
   "id": "96d7b193",
   "metadata": {},
   "outputs": [
    {
     "data": {
      "text/plain": [
       "count    39482.000000\n",
       "mean        48.831837\n",
       "std         28.330776\n",
       "min          0.000000\n",
       "25%         25.400000\n",
       "50%         49.300000\n",
       "75%         72.300000\n",
       "max         99.900000\n",
       "Name: revol_util, dtype: float64"
      ]
     },
     "execution_count": 27,
     "metadata": {},
     "output_type": "execute_result"
    }
   ],
   "source": [
    "temp.revol_util.describe()"
   ]
  },
  {
   "cell_type": "markdown",
   "id": "5b43076b",
   "metadata": {},
   "source": [
    "#### revol_util\n",
    "- AS we see above that the std is very high , we cannot replace the nulls with median\n",
    "- We can still replace the values with mean, but since its just 0.1% data we can choose drop those rows"
   ]
  },
  {
   "cell_type": "code",
   "execution_count": 28,
   "id": "6668a58d",
   "metadata": {},
   "outputs": [
    {
     "name": "stderr",
     "output_type": "stream",
     "text": [
      "c:\\users\\sameer\\anaconda3\\envs\\masters\\lib\\site-packages\\seaborn\\_decorators.py:43: FutureWarning: Pass the following variable as a keyword arg: x. From version 0.12, the only valid positional argument will be `data`, and passing other arguments without an explicit keyword will result in an error or misinterpretation.\n",
      "  FutureWarning\n"
     ]
    },
    {
     "data": {
      "text/plain": [
       "<AxesSubplot:xlabel='revol_util'>"
      ]
     },
     "execution_count": 28,
     "metadata": {},
     "output_type": "execute_result"
    },
    {
     "data": {
      "image/png": "[encoded data removed]",
      "text/plain": [
       "<Figure size 432x288 with 1 Axes>"
      ]
     },
     "metadata": {
      "needs_background": "light"
     },
     "output_type": "display_data"
    }
   ],
   "source": [
    "sns.boxplot(temp.revol_util)\n",
    "\n",
    "\n",
    "\n",
    "\n",
    "\n",
    "\n"
   ]
  },
  {
   "cell_type": "code",
   "execution_count": 29,
   "id": "d97f4d37",
   "metadata": {},
   "outputs": [],
   "source": [
    "##remove missing rows of revol_util\n",
    "df = df[~df.revol_util.isnull()]"
   ]
  },
  {
   "cell_type": "code",
   "execution_count": 30,
   "id": "1b2646a9",
   "metadata": {},
   "outputs": [
    {
     "data": {
      "text/plain": [
       "0.0    39444\n",
       "Name: tax_liens, dtype: int64"
      ]
     },
     "execution_count": 30,
     "metadata": {},
     "output_type": "execute_result"
    }
   ],
   "source": [
    "df.tax_liens.value_counts()"
   ]
  },
  {
   "cell_type": "markdown",
   "id": "f3c28ce8",
   "metadata": {},
   "source": [
    "- tax liens has only 0's and NAs, we can drop that column\n",
    "- Title and last_credit_pull_d missing valued rows are dropped as they are around 0.1% and 0.05%"
   ]
  },
  {
   "cell_type": "code",
   "execution_count": 31,
   "id": "aeebfa72",
   "metadata": {},
   "outputs": [],
   "source": [
    "##drop tax_liens column\n",
    "df.drop(columns=[\"tax_liens\"],inplace=True)\n",
    "\n",
    "## remove rows where title and last_credit_pull_d\n",
    "df = df[~df.title.isnull()]\n",
    "df = df[~df.last_credit_pull_d.isnull()]"
   ]
  },
  {
   "cell_type": "code",
   "execution_count": 32,
   "id": "d59deb0c",
   "metadata": {},
   "outputs": [
    {
     "data": {
      "text/html": [
       "<div>\n",
       "<style scoped>\n",
       "    .dataframe tbody tr th:only-of-type {\n",
       "        vertical-align: middle;\n",
       "    }\n",
       "\n",
       "    .dataframe tbody tr th {\n",
       "        vertical-align: top;\n",
       "    }\n",
       "\n",
       "    .dataframe thead th {\n",
       "        text-align: right;\n",
       "    }\n",
       "</style>\n",
       "<table border=\"1\" class=\"dataframe\">\n",
       "  <thead>\n",
       "    <tr style=\"text-align: right;\">\n",
       "      <th></th>\n",
       "      <th>0</th>\n",
       "    </tr>\n",
       "  </thead>\n",
       "  <tbody>\n",
       "    <tr>\n",
       "      <th>id</th>\n",
       "      <td>0.0</td>\n",
       "    </tr>\n",
       "    <tr>\n",
       "      <th>inq_last_6mths</th>\n",
       "      <td>0.0</td>\n",
       "    </tr>\n",
       "    <tr>\n",
       "      <th>pub_rec</th>\n",
       "      <td>0.0</td>\n",
       "    </tr>\n",
       "    <tr>\n",
       "      <th>revol_bal</th>\n",
       "      <td>0.0</td>\n",
       "    </tr>\n",
       "    <tr>\n",
       "      <th>revol_util</th>\n",
       "      <td>0.0</td>\n",
       "    </tr>\n",
       "    <tr>\n",
       "      <th>total_acc</th>\n",
       "      <td>0.0</td>\n",
       "    </tr>\n",
       "    <tr>\n",
       "      <th>initial_list_status</th>\n",
       "      <td>0.0</td>\n",
       "    </tr>\n",
       "    <tr>\n",
       "      <th>out_prncp</th>\n",
       "      <td>0.0</td>\n",
       "    </tr>\n",
       "    <tr>\n",
       "      <th>out_prncp_inv</th>\n",
       "      <td>0.0</td>\n",
       "    </tr>\n",
       "    <tr>\n",
       "      <th>total_pymnt</th>\n",
       "      <td>0.0</td>\n",
       "    </tr>\n",
       "    <tr>\n",
       "      <th>total_pymnt_inv</th>\n",
       "      <td>0.0</td>\n",
       "    </tr>\n",
       "    <tr>\n",
       "      <th>total_rec_prncp</th>\n",
       "      <td>0.0</td>\n",
       "    </tr>\n",
       "    <tr>\n",
       "      <th>total_rec_int</th>\n",
       "      <td>0.0</td>\n",
       "    </tr>\n",
       "    <tr>\n",
       "      <th>total_rec_late_fee</th>\n",
       "      <td>0.0</td>\n",
       "    </tr>\n",
       "    <tr>\n",
       "      <th>recoveries</th>\n",
       "      <td>0.0</td>\n",
       "    </tr>\n",
       "    <tr>\n",
       "      <th>collection_recovery_fee</th>\n",
       "      <td>0.0</td>\n",
       "    </tr>\n",
       "    <tr>\n",
       "      <th>last_pymnt_d</th>\n",
       "      <td>0.0</td>\n",
       "    </tr>\n",
       "    <tr>\n",
       "      <th>last_pymnt_amnt</th>\n",
       "      <td>0.0</td>\n",
       "    </tr>\n",
       "    <tr>\n",
       "      <th>last_credit_pull_d</th>\n",
       "      <td>0.0</td>\n",
       "    </tr>\n",
       "    <tr>\n",
       "      <th>policy_code</th>\n",
       "      <td>0.0</td>\n",
       "    </tr>\n",
       "    <tr>\n",
       "      <th>application_type</th>\n",
       "      <td>0.0</td>\n",
       "    </tr>\n",
       "    <tr>\n",
       "      <th>acc_now_delinq</th>\n",
       "      <td>0.0</td>\n",
       "    </tr>\n",
       "    <tr>\n",
       "      <th>delinq_amnt</th>\n",
       "      <td>0.0</td>\n",
       "    </tr>\n",
       "    <tr>\n",
       "      <th>open_acc</th>\n",
       "      <td>0.0</td>\n",
       "    </tr>\n",
       "    <tr>\n",
       "      <th>earliest_cr_line</th>\n",
       "      <td>0.0</td>\n",
       "    </tr>\n",
       "    <tr>\n",
       "      <th>member_id</th>\n",
       "      <td>0.0</td>\n",
       "    </tr>\n",
       "    <tr>\n",
       "      <th>delinq_2yrs</th>\n",
       "      <td>0.0</td>\n",
       "    </tr>\n",
       "    <tr>\n",
       "      <th>loan_amnt</th>\n",
       "      <td>0.0</td>\n",
       "    </tr>\n",
       "    <tr>\n",
       "      <th>funded_amnt</th>\n",
       "      <td>0.0</td>\n",
       "    </tr>\n",
       "    <tr>\n",
       "      <th>funded_amnt_inv</th>\n",
       "      <td>0.0</td>\n",
       "    </tr>\n",
       "    <tr>\n",
       "      <th>term</th>\n",
       "      <td>0.0</td>\n",
       "    </tr>\n",
       "    <tr>\n",
       "      <th>int_rate</th>\n",
       "      <td>0.0</td>\n",
       "    </tr>\n",
       "    <tr>\n",
       "      <th>installment</th>\n",
       "      <td>0.0</td>\n",
       "    </tr>\n",
       "    <tr>\n",
       "      <th>grade</th>\n",
       "      <td>0.0</td>\n",
       "    </tr>\n",
       "    <tr>\n",
       "      <th>sub_grade</th>\n",
       "      <td>0.0</td>\n",
       "    </tr>\n",
       "    <tr>\n",
       "      <th>emp_length</th>\n",
       "      <td>0.0</td>\n",
       "    </tr>\n",
       "    <tr>\n",
       "      <th>home_ownership</th>\n",
       "      <td>0.0</td>\n",
       "    </tr>\n",
       "    <tr>\n",
       "      <th>annual_inc</th>\n",
       "      <td>0.0</td>\n",
       "    </tr>\n",
       "    <tr>\n",
       "      <th>verification_status</th>\n",
       "      <td>0.0</td>\n",
       "    </tr>\n",
       "    <tr>\n",
       "      <th>issue_d</th>\n",
       "      <td>0.0</td>\n",
       "    </tr>\n",
       "    <tr>\n",
       "      <th>loan_status</th>\n",
       "      <td>0.0</td>\n",
       "    </tr>\n",
       "    <tr>\n",
       "      <th>pymnt_plan</th>\n",
       "      <td>0.0</td>\n",
       "    </tr>\n",
       "    <tr>\n",
       "      <th>url</th>\n",
       "      <td>0.0</td>\n",
       "    </tr>\n",
       "    <tr>\n",
       "      <th>purpose</th>\n",
       "      <td>0.0</td>\n",
       "    </tr>\n",
       "    <tr>\n",
       "      <th>title</th>\n",
       "      <td>0.0</td>\n",
       "    </tr>\n",
       "    <tr>\n",
       "      <th>zip_code</th>\n",
       "      <td>0.0</td>\n",
       "    </tr>\n",
       "    <tr>\n",
       "      <th>addr_state</th>\n",
       "      <td>0.0</td>\n",
       "    </tr>\n",
       "    <tr>\n",
       "      <th>dti</th>\n",
       "      <td>0.0</td>\n",
       "    </tr>\n",
       "    <tr>\n",
       "      <th>pub_rec_bankruptcies</th>\n",
       "      <td>0.0</td>\n",
       "    </tr>\n",
       "  </tbody>\n",
       "</table>\n",
       "</div>"
      ],
      "text/plain": [
       "                           0\n",
       "id                       0.0\n",
       "inq_last_6mths           0.0\n",
       "pub_rec                  0.0\n",
       "revol_bal                0.0\n",
       "revol_util               0.0\n",
       "total_acc                0.0\n",
       "initial_list_status      0.0\n",
       "out_prncp                0.0\n",
       "out_prncp_inv            0.0\n",
       "total_pymnt              0.0\n",
       "total_pymnt_inv          0.0\n",
       "total_rec_prncp          0.0\n",
       "total_rec_int            0.0\n",
       "total_rec_late_fee       0.0\n",
       "recoveries               0.0\n",
       "collection_recovery_fee  0.0\n",
       "last_pymnt_d             0.0\n",
       "last_pymnt_amnt          0.0\n",
       "last_credit_pull_d       0.0\n",
       "policy_code              0.0\n",
       "application_type         0.0\n",
       "acc_now_delinq           0.0\n",
       "delinq_amnt              0.0\n",
       "open_acc                 0.0\n",
       "earliest_cr_line         0.0\n",
       "member_id                0.0\n",
       "delinq_2yrs              0.0\n",
       "loan_amnt                0.0\n",
       "funded_amnt              0.0\n",
       "funded_amnt_inv          0.0\n",
       "term                     0.0\n",
       "int_rate                 0.0\n",
       "installment              0.0\n",
       "grade                    0.0\n",
       "sub_grade                0.0\n",
       "emp_length               0.0\n",
       "home_ownership           0.0\n",
       "annual_inc               0.0\n",
       "verification_status      0.0\n",
       "issue_d                  0.0\n",
       "loan_status              0.0\n",
       "pymnt_plan               0.0\n",
       "url                      0.0\n",
       "purpose                  0.0\n",
       "title                    0.0\n",
       "zip_code                 0.0\n",
       "addr_state               0.0\n",
       "dti                      0.0\n",
       "pub_rec_bankruptcies     0.0"
      ]
     },
     "execution_count": 32,
     "metadata": {},
     "output_type": "execute_result"
    }
   ],
   "source": [
    "## lets see the missing values within the left out columns\n",
    "missing = (100* df.isnull().sum()/df.shape[0]).to_frame()\n",
    "missing.sort_values(0,ascending=False)"
   ]
  },
  {
   "cell_type": "code",
   "execution_count": 33,
   "id": "ef403654",
   "metadata": {},
   "outputs": [
    {
     "data": {
      "text/plain": [
       "f    39469\n",
       "Name: initial_list_status, dtype: int64"
      ]
     },
     "execution_count": 33,
     "metadata": {},
     "output_type": "execute_result"
    }
   ],
   "source": [
    "#checking no. of value_counts for column\n",
    "df.initial_list_status.value_counts()"
   ]
  },
  {
   "cell_type": "code",
   "execution_count": 34,
   "id": "99538ac4",
   "metadata": {},
   "outputs": [
    {
     "data": {
      "text/plain": [
       "1    39469\n",
       "Name: policy_code, dtype: int64"
      ]
     },
     "execution_count": 34,
     "metadata": {},
     "output_type": "execute_result"
    }
   ],
   "source": [
    "#checking no. of value_counts for policy_code column\n",
    "df.policy_code.value_counts()"
   ]
  },
  {
   "cell_type": "code",
   "execution_count": 35,
   "id": "41dee3c1",
   "metadata": {},
   "outputs": [
    {
     "data": {
      "text/plain": [
       "INDIVIDUAL    39469\n",
       "Name: application_type, dtype: int64"
      ]
     },
     "execution_count": 35,
     "metadata": {},
     "output_type": "execute_result"
    }
   ],
   "source": [
    "#checking no. of value_counts for application_type column\n",
    "df.application_type.value_counts()"
   ]
  },
  {
   "cell_type": "code",
   "execution_count": 36,
   "id": "3b8a41f3",
   "metadata": {},
   "outputs": [
    {
     "data": {
      "text/plain": [
       "0    39469\n",
       "Name: acc_now_delinq, dtype: int64"
      ]
     },
     "execution_count": 36,
     "metadata": {},
     "output_type": "execute_result"
    }
   ],
   "source": [
    "#checking no. of value_counts for acc_now_delinq column\n",
    "df.acc_now_delinq.value_counts()"
   ]
  },
  {
   "cell_type": "code",
   "execution_count": 37,
   "id": "0c91152d",
   "metadata": {},
   "outputs": [
    {
     "data": {
      "text/plain": [
       "0    39469\n",
       "Name: delinq_amnt, dtype: int64"
      ]
     },
     "execution_count": 37,
     "metadata": {},
     "output_type": "execute_result"
    }
   ],
   "source": [
    "#checking no. of value_counts for delinq_amnt column\n",
    "df.delinq_amnt.value_counts()"
   ]
  },
  {
   "cell_type": "code",
   "execution_count": 38,
   "id": "113c9215",
   "metadata": {},
   "outputs": [
    {
     "data": {
      "text/plain": [
       "n    39469\n",
       "Name: pymnt_plan, dtype: int64"
      ]
     },
     "execution_count": 38,
     "metadata": {},
     "output_type": "execute_result"
    }
   ],
   "source": [
    "#checking no. of value_counts for pymnt_plan column\n",
    "df.pymnt_plan.value_counts()"
   ]
  },
  {
   "cell_type": "code",
   "execution_count": 39,
   "id": "3c4c0c19",
   "metadata": {},
   "outputs": [
    {
     "data": {
      "text/html": [
       "<div>\n",
       "<style scoped>\n",
       "    .dataframe tbody tr th:only-of-type {\n",
       "        vertical-align: middle;\n",
       "    }\n",
       "\n",
       "    .dataframe tbody tr th {\n",
       "        vertical-align: top;\n",
       "    }\n",
       "\n",
       "    .dataframe thead th {\n",
       "        text-align: right;\n",
       "    }\n",
       "</style>\n",
       "<table border=\"1\" class=\"dataframe\">\n",
       "  <thead>\n",
       "    <tr style=\"text-align: right;\">\n",
       "      <th></th>\n",
       "      <th>out_prncp</th>\n",
       "      <th>out_prncp_inv</th>\n",
       "    </tr>\n",
       "  </thead>\n",
       "  <tbody>\n",
       "    <tr>\n",
       "      <th>out_prncp</th>\n",
       "      <td>1.000000</td>\n",
       "      <td>0.999827</td>\n",
       "    </tr>\n",
       "    <tr>\n",
       "      <th>out_prncp_inv</th>\n",
       "      <td>0.999827</td>\n",
       "      <td>1.000000</td>\n",
       "    </tr>\n",
       "  </tbody>\n",
       "</table>\n",
       "</div>"
      ],
      "text/plain": [
       "               out_prncp  out_prncp_inv\n",
       "out_prncp       1.000000       0.999827\n",
       "out_prncp_inv   0.999827       1.000000"
      ]
     },
     "execution_count": 39,
     "metadata": {},
     "output_type": "execute_result"
    }
   ],
   "source": [
    "#lets find out co-relation between out_prncp and out_prncp_inv columns\n",
    "df[['out_prncp','out_prncp_inv']].corr(method='pearson')\n",
    "#we can see that these two columns are highly co-related with 99% positive co-relation. So we can drop any one column"
   ]
  },
  {
   "cell_type": "code",
   "execution_count": 40,
   "id": "b58a5395",
   "metadata": {},
   "outputs": [
    {
     "data": {
      "text/html": [
       "<div>\n",
       "<style scoped>\n",
       "    .dataframe tbody tr th:only-of-type {\n",
       "        vertical-align: middle;\n",
       "    }\n",
       "\n",
       "    .dataframe tbody tr th {\n",
       "        vertical-align: top;\n",
       "    }\n",
       "\n",
       "    .dataframe thead th {\n",
       "        text-align: right;\n",
       "    }\n",
       "</style>\n",
       "<table border=\"1\" class=\"dataframe\">\n",
       "  <thead>\n",
       "    <tr style=\"text-align: right;\">\n",
       "      <th></th>\n",
       "      <th>total_pymnt</th>\n",
       "      <th>total_pymnt_inv</th>\n",
       "    </tr>\n",
       "  </thead>\n",
       "  <tbody>\n",
       "    <tr>\n",
       "      <th>total_pymnt</th>\n",
       "      <td>1.000000</td>\n",
       "      <td>0.971624</td>\n",
       "    </tr>\n",
       "    <tr>\n",
       "      <th>total_pymnt_inv</th>\n",
       "      <td>0.971624</td>\n",
       "      <td>1.000000</td>\n",
       "    </tr>\n",
       "  </tbody>\n",
       "</table>\n",
       "</div>"
      ],
      "text/plain": [
       "                 total_pymnt  total_pymnt_inv\n",
       "total_pymnt         1.000000         0.971624\n",
       "total_pymnt_inv     0.971624         1.000000"
      ]
     },
     "execution_count": 40,
     "metadata": {},
     "output_type": "execute_result"
    }
   ],
   "source": [
    "#lets find out co-relation between total_pymnt and total_pymnt_inv columns\n",
    "df[['total_pymnt','total_pymnt_inv']].corr(method='pearson')\n",
    "#we can see that these two columns are highly co-related with 97% positive co-relation. So we can drop any one column\n",
    "\n"
   ]
  },
  {
   "cell_type": "code",
   "execution_count": 41,
   "id": "c25befd7",
   "metadata": {},
   "outputs": [
    {
     "data": {
      "text/html": [
       "<div>\n",
       "<style scoped>\n",
       "    .dataframe tbody tr th:only-of-type {\n",
       "        vertical-align: middle;\n",
       "    }\n",
       "\n",
       "    .dataframe tbody tr th {\n",
       "        vertical-align: top;\n",
       "    }\n",
       "\n",
       "    .dataframe thead th {\n",
       "        text-align: right;\n",
       "    }\n",
       "</style>\n",
       "<table border=\"1\" class=\"dataframe\">\n",
       "  <thead>\n",
       "    <tr style=\"text-align: right;\">\n",
       "      <th></th>\n",
       "      <th>funded_amnt</th>\n",
       "      <th>funded_amnt_inv</th>\n",
       "    </tr>\n",
       "  </thead>\n",
       "  <tbody>\n",
       "    <tr>\n",
       "      <th>funded_amnt</th>\n",
       "      <td>1.000000</td>\n",
       "      <td>0.962914</td>\n",
       "    </tr>\n",
       "    <tr>\n",
       "      <th>funded_amnt_inv</th>\n",
       "      <td>0.962914</td>\n",
       "      <td>1.000000</td>\n",
       "    </tr>\n",
       "  </tbody>\n",
       "</table>\n",
       "</div>"
      ],
      "text/plain": [
       "                 funded_amnt  funded_amnt_inv\n",
       "funded_amnt         1.000000         0.962914\n",
       "funded_amnt_inv     0.962914         1.000000"
      ]
     },
     "execution_count": 41,
     "metadata": {},
     "output_type": "execute_result"
    }
   ],
   "source": [
    "#lets find out co-relation between funded_amnt and funded_amnt_inv columns\n",
    "df[['funded_amnt','funded_amnt_inv']].corr(method='pearson')\n",
    "#we can see that these two columns are highly co-related with 96% positive co-relation. So we can drop any one column"
   ]
  },
  {
   "cell_type": "markdown",
   "id": "58581d96",
   "metadata": {},
   "source": [
    "#### list of columns to keep based on assumptions below\n",
    "- id : loan_id\n",
    "- pub_rec: We can analyze effect of loan status on derogatry public record.\n",
    "- revol_bal: we can check credit effect on loan_defaulters\n",
    "- revol_util: we can check whether deafulters behaviour toward credit utilization\n",
    "- total_acc: we are expecting positive co-relation between defaulting and  total number of credit lines\n",
    "- out_prncp : co-relation between out_prncp_inv and out_prncp is very high. So keeping out_prncp.\n",
    "- total_pymnt : co-relation between total_pymnt_inv and total_pymnt is very high. So keeping total_pymnt.\n",
    "- term : loans are given in two terms i.e. 3years or 5years. So, we can analyse effect of loan terms on defaulters\n",
    "- int_rate : it is key factor in any loans purchase.\n",
    "- installment : it is also key factor in any loan process\n",
    "- total_rec_int : it is also key factor in any loan process\n",
    "- total_rec_late_fee : it is also known key factor in any loan process\n",
    "- last_pymnt_d : we can derive another column using issue_d and last_pymnt_d to get probable time period of defaulting \n",
    "- issue_d : important for above requirement\n",
    "- open_acc : to check if credit lines are affecting default rate\n",
    "- earliest_cr_line : We can find how quick a person is to default after he is given a credit line\n",
    "- delinq_2yrs : We can see behaviour of a defaulter in the last two years over his alloted credit  \n",
    "- loan_amnt: Main criteria to decide the defaulting rate\n",
    "- grade: We can check the relation between level of loan given and the defaulting behaviour\n",
    "- sub_grade: We can check the relation between subgrade of LC and the defaulting behaviour. And also which subgrades within a grade are more susciptable for defaulting\n",
    "- emp_length : Will help in work experience v/s defaulting comparision\n",
    "- home_ownership: The home ownership usually gives confidence to get a loan. Good metric for comparision\n",
    "- annual_inc : Good metric to evaluate on this front.\n",
    "- verification_status : income verification plays a key role in defaulting behaviour usually.\n",
    "- loan_status: A kind of target variable for this EDA\n",
    "- purpose: good metric to see the reason of loan and eventual defaulting behavior if any.\n",
    "- state: origin state behaviour on defaulting can be checked\n",
    "- dti - debt to income is a ratio if more , chances of defaulting are more. But we will indulge later based on data for this.\n",
    "- pub_rec_bankruptcies: relation between this and defaulting is an intersting insight."
   ]
  },
  {
   "cell_type": "markdown",
   "id": "b1b20e9a",
   "metadata": {},
   "source": [
    "#### list of columns to drop\n",
    "- inq_last_6mths : Since person's enquiry process is what we are not concerned about.\n",
    "- initial_list_status : There is only one value in entire column.\n",
    "- out_prncp_inv : co-relation between out_prncp_inv and out_prncp is very high. So dropping out_prncp_inv.\n",
    "- total_pymnt_inv : co-relation between total_pymnt_inv and total_pymnt is very high. So dropping total_pymnt_inv\n",
    "- funded_amnt : amount of loan amount committed when approved at that time, we are focussing more on what is approved.\n",
    "- total_rec_prncp : its the difference of loan approved and outstanding principal. We are choosing out_prncp\n",
    "- recoveries : since this is post loan application process, we are not concerned about it.\n",
    "- collection_recovery_fee : this column values amount to recovery fees required for collection through third party agencies or any other means. So, we can ignore this column as it is post charge off process.\n",
    "- last_pymnt_amnt: As this amount refers to last month's payment, no insight can be drawn from this column. It is better to drop it.\n",
    "- last_credit_pull_d : This colum values are last month's credit line pulled for this loan. So, not much meaningful insight can be drawn from it.\n",
    "- policy_code : There is only one value throught column. Hence we can drop it.\n",
    "- application_type : There is only one value throught column. Hence we can drop it. \n",
    "- acc_now_delinq : There is only one value throught column. Hence we can drop it.\n",
    "- delinq_amnt : There is only one value throught column. Hence we can drop it.\n",
    "- member_id: we can eliminate, just keeping id is enough because both were unique\n",
    "- funded_amnt_inv : co-relation between funded_amnt_inv and funded_amnt is very high. So dropping funded_amnt_inv\n",
    "- pymnt_plan: There is only one value throught column. Hence we can drop it.\n",
    "- url: We can remove this as its the url of the loan which looks like https://lendingclub.com/browse/loanDetail.action?loan_id=1077501 and we are anyways keeping the id column.\n",
    "- title: we can ignore this column, as we are looking at purpose column. Going indepth for this column requires more processing like clustering etc..\n",
    "- zip_code :  Doesn't have significant value to decide defaulter behaviour based on his origin place, doing on state level is better\n",
    " \n",
    "    [\"inq_last_6mths\", \"initial_list_status\" , \"out_prncp_inv\" , \"total_pymnt_inv\" , \"recoveries\", \"collection_recovery_fee\" ,\"last_pymnt_amnt\", \"last_credit_pull_d\" , \"policy_code\" , \"application_type\",\"member_id\",\"funded_amnt_inv\",\"pymnt_plan\",\"url\",\"title\",\"zip_code\",\"acc_now_delinq\",\"delinq_amnt\",\"funded_amnt\",\"total_rec_prncp\"]"
   ]
  },
  {
   "cell_type": "code",
   "execution_count": 42,
   "id": "bd5f5b5a",
   "metadata": {},
   "outputs": [],
   "source": [
    "df = df.drop(columns = [\"inq_last_6mths\", \"initial_list_status\" , \"out_prncp_inv\" , \"total_pymnt_inv\" , \"recoveries\", \"collection_recovery_fee\" ,\"last_pymnt_amnt\", \"last_credit_pull_d\" , \"policy_code\" , \"application_type\",\"member_id\",\"funded_amnt_inv\",\"pymnt_plan\",\"url\",\"title\",\"zip_code\",\"acc_now_delinq\",\"delinq_amnt\",\"funded_amnt\",\"total_rec_prncp\"])"
   ]
  },
  {
   "cell_type": "code",
   "execution_count": 43,
   "id": "17e28883",
   "metadata": {},
   "outputs": [
    {
     "data": {
      "text/plain": [
       "(39469, 29)"
      ]
     },
     "execution_count": 43,
     "metadata": {},
     "output_type": "execute_result"
    }
   ],
   "source": [
    "after_dropping = df.shape\n",
    "after_dropping"
   ]
  },
  {
   "cell_type": "code",
   "execution_count": 44,
   "id": "da72f9a9",
   "metadata": {},
   "outputs": [
    {
     "name": "stdout",
     "output_type": "stream",
     "text": [
      "Number of rows dropped: 248(0.6244177556210188%)\n",
      "Number of columns dropped: 82(73.87387387387388%)\n"
     ]
    }
   ],
   "source": [
    "print(\"Number of rows dropped: \" + str(shape[0] - after_dropping[0]) + \"(\" + str((shape[0] - after_dropping[0])*100/shape[0]) + \"%)\")\n",
    "print(\"Number of columns dropped: \" + str(shape[1] - after_dropping[1]) + \"(\" + str((shape[1] - after_dropping[1])*100/shape[1]) + \"%)\")\n"
   ]
  },
  {
   "cell_type": "code",
   "execution_count": 45,
   "id": "3b84b295",
   "metadata": {},
   "outputs": [],
   "source": [
    "## saving the cleaned data to a csv for faster reading in future\n",
    "df.to_csv(\"Data/loan_cleaned.csv\")\n",
    "df = pd.read_csv(\"Data/loan_cleaned.csv\",index_col=[0])"
   ]
  },
  {
   "cell_type": "markdown",
   "id": "f702156d",
   "metadata": {},
   "source": [
    "# 2. UniVariate Analysis"
   ]
  },
  {
   "cell_type": "markdown",
   "id": "d7ee4b49",
   "metadata": {},
   "source": [
    "### i) loan_status"
   ]
  },
  {
   "cell_type": "code",
   "execution_count": 46,
   "id": "77e5acf1",
   "metadata": {},
   "outputs": [
    {
     "data": {
      "text/plain": [
       "count          39469\n",
       "unique             3\n",
       "top       Fully Paid\n",
       "freq           32906\n",
       "Name: loan_status, dtype: object"
      ]
     },
     "execution_count": 46,
     "metadata": {},
     "output_type": "execute_result"
    }
   ],
   "source": [
    "## Checking loan_status variable\n",
    "df.loan_status.describe()"
   ]
  },
  {
   "cell_type": "code",
   "execution_count": 47,
   "id": "ded68501",
   "metadata": {},
   "outputs": [
    {
     "data": {
      "text/html": [
       "<div>\n",
       "<style scoped>\n",
       "    .dataframe tbody tr th:only-of-type {\n",
       "        vertical-align: middle;\n",
       "    }\n",
       "\n",
       "    .dataframe tbody tr th {\n",
       "        vertical-align: top;\n",
       "    }\n",
       "\n",
       "    .dataframe thead th {\n",
       "        text-align: right;\n",
       "    }\n",
       "</style>\n",
       "<table border=\"1\" class=\"dataframe\">\n",
       "  <thead>\n",
       "    <tr style=\"text-align: right;\">\n",
       "      <th></th>\n",
       "      <th>index</th>\n",
       "      <th>loan_status</th>\n",
       "    </tr>\n",
       "  </thead>\n",
       "  <tbody>\n",
       "    <tr>\n",
       "      <th>0</th>\n",
       "      <td>Fully Paid</td>\n",
       "      <td>83.371760</td>\n",
       "    </tr>\n",
       "    <tr>\n",
       "      <th>1</th>\n",
       "      <td>Charged Off</td>\n",
       "      <td>13.739897</td>\n",
       "    </tr>\n",
       "    <tr>\n",
       "      <th>2</th>\n",
       "      <td>Current</td>\n",
       "      <td>2.888343</td>\n",
       "    </tr>\n",
       "  </tbody>\n",
       "</table>\n",
       "</div>"
      ],
      "text/plain": [
       "         index  loan_status\n",
       "0   Fully Paid    83.371760\n",
       "1  Charged Off    13.739897\n",
       "2      Current     2.888343"
      ]
     },
     "execution_count": 47,
     "metadata": {},
     "output_type": "execute_result"
    }
   ],
   "source": [
    "##get percentage of loans which are defaulted\n",
    "loan_status_perc = (100*(df.loan_status.value_counts())/df.shape[0]).to_frame()\n",
    "loan_status_perc.reset_index(inplace=True)\n",
    "loan_status_perc"
   ]
  },
  {
   "cell_type": "code",
   "execution_count": 48,
   "id": "dafe3213",
   "metadata": {},
   "outputs": [
    {
     "data": {
      "image/png": "[encoded data removed]",
      "text/plain": [
       "<Figure size 576x576 with 1 Axes>"
      ]
     },
     "metadata": {
      "needs_background": "light"
     },
     "output_type": "display_data"
    }
   ],
   "source": [
    "# Defining the plot size\n",
    "plt.figure(figsize=(8,8))\n",
    "  \n",
    "# Defining the values for x-axis, y-axis\n",
    "# and from which datafarme the values are to be picked\n",
    "plots = sns.barplot(x=\"index\", y=\"loan_status\", data=loan_status_perc)\n",
    "  \n",
    "# Iterrating over the bars one-by-one\n",
    "for bar in plots.patches:\n",
    "    plots.annotate(format(bar.get_height(), '.2f'), \n",
    "                   (bar.get_x() + bar.get_width() / 2, \n",
    "                    bar.get_height()), ha='center', va='center',\n",
    "                   size=15, xytext=(0, 8),\n",
    "                   textcoords='offset points')\n",
    "  \n",
    "# Setting the label for x-axis\n",
    "plt.xlabel(\"Loan Status\", size=14)\n",
    "  \n",
    "# Setting the label for y-axis\n",
    "plt.ylabel(\"Percentage\", size=14)\n",
    "  \n",
    "# Setting the title for the graph\n",
    "plt.title(\"Loan Status\")\n",
    "  \n",
    "# Fianlly showing the plot\n",
    "plt.show()\n"
   ]
  },
  {
   "cell_type": "markdown",
   "id": "83dcda81",
   "metadata": {},
   "source": [
    "Loan Status:\n",
    "- We see that only 13.7% of the given data points/members have been charged off"
   ]
  },
  {
   "cell_type": "markdown",
   "id": "63a5d4a0",
   "metadata": {},
   "source": [
    "### ii) loan_amnt"
   ]
  },
  {
   "cell_type": "code",
   "execution_count": 49,
   "id": "f4c85e38",
   "metadata": {},
   "outputs": [
    {
     "data": {
      "text/plain": [
       "dtype('int64')"
      ]
     },
     "execution_count": 49,
     "metadata": {},
     "output_type": "execute_result"
    }
   ],
   "source": [
    "#check datatype\n",
    "df.loan_amnt.dtype"
   ]
  },
  {
   "cell_type": "code",
   "execution_count": 50,
   "id": "3f6869dc",
   "metadata": {},
   "outputs": [
    {
     "data": {
      "text/plain": [
       "count    39469.000000\n",
       "mean     11228.972738\n",
       "std       7455.425065\n",
       "min        500.000000\n",
       "25%       5500.000000\n",
       "50%      10000.000000\n",
       "75%      15000.000000\n",
       "max      35000.000000\n",
       "Name: loan_amnt, dtype: float64"
      ]
     },
     "execution_count": 50,
     "metadata": {},
     "output_type": "execute_result"
    }
   ],
   "source": [
    "df.loan_amnt.describe()"
   ]
  },
  {
   "cell_type": "code",
   "execution_count": 51,
   "id": "20f56d25",
   "metadata": {},
   "outputs": [
    {
     "data": {
      "text/plain": [
       "<AxesSubplot:ylabel='loan_amnt'>"
      ]
     },
     "execution_count": 51,
     "metadata": {},
     "output_type": "execute_result"
    },
    {
     "data": {
      "image/png": "[encoded data removed]",
      "text/plain": [
       "<Figure size 432x720 with 1 Axes>"
      ]
     },
     "metadata": {
      "needs_background": "light"
     },
     "output_type": "display_data"
    }
   ],
   "source": [
    "## draw a box  plot of loan_amount\n",
    "plt.figure(figsize=(6,10))\n",
    "sns.boxplot(data=df,y = \"loan_amnt\")"
   ]
  },
  {
   "cell_type": "code",
   "execution_count": 52,
   "id": "1ca40c51",
   "metadata": {},
   "outputs": [
    {
     "name": "stderr",
     "output_type": "stream",
     "text": [
      "c:\\users\\sameer\\anaconda3\\envs\\masters\\lib\\site-packages\\seaborn\\distributions.py:2557: FutureWarning: `distplot` is a deprecated function and will be removed in a future version. Please adapt your code to use either `displot` (a figure-level function with similar flexibility) or `histplot` (an axes-level function for histograms).\n",
      "  warnings.warn(msg, FutureWarning)\n"
     ]
    },
    {
     "data": {
      "text/plain": [
       "<AxesSubplot:xlabel='loan_amnt', ylabel='Density'>"
      ]
     },
     "execution_count": 52,
     "metadata": {},
     "output_type": "execute_result"
    },
    {
     "data": {
      "image/png": "[encoded data removed]",
      "text/plain": [
       "<Figure size 432x288 with 1 Axes>"
      ]
     },
     "metadata": {
      "needs_background": "light"
     },
     "output_type": "display_data"
    }
   ],
   "source": [
    "sns.distplot(df.loan_amnt)"
   ]
  },
  {
   "cell_type": "markdown",
   "id": "e7a4534c",
   "metadata": {},
   "source": [
    "- avg loan_amount is 11,200\n",
    "- std deviation doesn't matter, because loan amounts differ based on requirements. \n",
    "- Most of the loans are ranging in between 5500 to 15000\n",
    "- Its left skewed as post 15000 the number of loans is decreasing and the max value is 35000"
   ]
  },
  {
   "cell_type": "markdown",
   "id": "f8ac1aab",
   "metadata": {},
   "source": [
    "### iii) total_rec_int"
   ]
  },
  {
   "cell_type": "markdown",
   "id": "eafa7d32",
   "metadata": {},
   "source": [
    "- Cannot analyze separately as it is dependent on \n",
    "    - Amount of principal paid till then\n",
    "    - Interest rate\n",
    "    - no of months paid"
   ]
  },
  {
   "cell_type": "markdown",
   "id": "596e69bb",
   "metadata": {},
   "source": [
    "### iv) int_rate"
   ]
  },
  {
   "cell_type": "code",
   "execution_count": 53,
   "id": "b5190c11",
   "metadata": {},
   "outputs": [
    {
     "data": {
      "text/plain": [
       "dtype('O')"
      ]
     },
     "execution_count": 53,
     "metadata": {},
     "output_type": "execute_result"
    }
   ],
   "source": [
    "##check the type of value for int_rate\n",
    "df.dtypes['int_rate']"
   ]
  },
  {
   "cell_type": "code",
   "execution_count": 54,
   "id": "b4d09539",
   "metadata": {},
   "outputs": [],
   "source": [
    "##convert to float\n",
    "df.int_rate = df.int_rate.apply(lambda x : float(x[:-1]))"
   ]
  },
  {
   "cell_type": "code",
   "execution_count": 55,
   "id": "cc9ccd90",
   "metadata": {},
   "outputs": [
    {
     "data": {
      "text/plain": [
       "count    39469.000000\n",
       "mean        12.014381\n",
       "std          3.728017\n",
       "min          5.420000\n",
       "25%          9.200000\n",
       "50%         11.830000\n",
       "75%         14.590000\n",
       "max         24.590000\n",
       "Name: int_rate, dtype: float64"
      ]
     },
     "execution_count": 55,
     "metadata": {},
     "output_type": "execute_result"
    }
   ],
   "source": [
    "##check the stats \n",
    "df.int_rate.describe()"
   ]
  },
  {
   "cell_type": "code",
   "execution_count": 56,
   "id": "188e3ca8",
   "metadata": {},
   "outputs": [
    {
     "name": "stderr",
     "output_type": "stream",
     "text": [
      "c:\\users\\sameer\\anaconda3\\envs\\masters\\lib\\site-packages\\seaborn\\distributions.py:2557: FutureWarning: `distplot` is a deprecated function and will be removed in a future version. Please adapt your code to use either `displot` (a figure-level function with similar flexibility) or `histplot` (an axes-level function for histograms).\n",
      "  warnings.warn(msg, FutureWarning)\n"
     ]
    },
    {
     "data": {
      "text/plain": [
       "<AxesSubplot:xlabel='int_rate', ylabel='Density'>"
      ]
     },
     "execution_count": 56,
     "metadata": {},
     "output_type": "execute_result"
    },
    {
     "data": {
      "image/png": "[encoded data removed]",
      "text/plain": [
       "<Figure size 432x288 with 1 Axes>"
      ]
     },
     "metadata": {
      "needs_background": "light"
     },
     "output_type": "display_data"
    }
   ],
   "source": [
    "sns.distplot(df.int_rate,bins=100)"
   ]
  },
  {
   "cell_type": "markdown",
   "id": "9527d4bd",
   "metadata": {},
   "source": [
    "- We see that mean rate is around 12% \n",
    "- We see more of a near to normal distribution of rates , which might be based on other factors like reason, amount_loan,policy of company etc..\n",
    "- Most of the loans in IQR are between 9% - 14.5% which is generally seen in most of the real life loans.\n",
    "- 50% loans are within 5% of interest ranging 9 - 14"
   ]
  },
  {
   "cell_type": "markdown",
   "id": "4c74f404",
   "metadata": {},
   "source": [
    "### v) term"
   ]
  },
  {
   "cell_type": "code",
   "execution_count": 57,
   "id": "50668a0d",
   "metadata": {},
   "outputs": [
    {
     "data": {
      "text/html": [
       "<div>\n",
       "<style scoped>\n",
       "    .dataframe tbody tr th:only-of-type {\n",
       "        vertical-align: middle;\n",
       "    }\n",
       "\n",
       "    .dataframe tbody tr th {\n",
       "        vertical-align: top;\n",
       "    }\n",
       "\n",
       "    .dataframe thead th {\n",
       "        text-align: right;\n",
       "    }\n",
       "</style>\n",
       "<table border=\"1\" class=\"dataframe\">\n",
       "  <thead>\n",
       "    <tr style=\"text-align: right;\">\n",
       "      <th></th>\n",
       "      <th>term</th>\n",
       "    </tr>\n",
       "  </thead>\n",
       "  <tbody>\n",
       "    <tr>\n",
       "      <th>36 months</th>\n",
       "      <td>28872</td>\n",
       "    </tr>\n",
       "    <tr>\n",
       "      <th>60 months</th>\n",
       "      <td>10597</td>\n",
       "    </tr>\n",
       "  </tbody>\n",
       "</table>\n",
       "</div>"
      ],
      "text/plain": [
       "             term\n",
       " 36 months  28872\n",
       " 60 months  10597"
      ]
     },
     "execution_count": 57,
     "metadata": {},
     "output_type": "execute_result"
    }
   ],
   "source": [
    "tenure = df.term.value_counts().to_frame()\n",
    "tenure"
   ]
  },
  {
   "cell_type": "code",
   "execution_count": 58,
   "id": "850f8cbe",
   "metadata": {},
   "outputs": [
    {
     "data": {
      "text/html": [
       "<div>\n",
       "<style scoped>\n",
       "    .dataframe tbody tr th:only-of-type {\n",
       "        vertical-align: middle;\n",
       "    }\n",
       "\n",
       "    .dataframe tbody tr th {\n",
       "        vertical-align: top;\n",
       "    }\n",
       "\n",
       "    .dataframe thead th {\n",
       "        text-align: right;\n",
       "    }\n",
       "</style>\n",
       "<table border=\"1\" class=\"dataframe\">\n",
       "  <thead>\n",
       "    <tr style=\"text-align: right;\">\n",
       "      <th></th>\n",
       "      <th>index</th>\n",
       "      <th>term</th>\n",
       "    </tr>\n",
       "  </thead>\n",
       "  <tbody>\n",
       "    <tr>\n",
       "      <th>0</th>\n",
       "      <td>36 months</td>\n",
       "      <td>73.151081</td>\n",
       "    </tr>\n",
       "    <tr>\n",
       "      <th>1</th>\n",
       "      <td>60 months</td>\n",
       "      <td>26.848919</td>\n",
       "    </tr>\n",
       "  </tbody>\n",
       "</table>\n",
       "</div>"
      ],
      "text/plain": [
       "        index       term\n",
       "0   36 months  73.151081\n",
       "1   60 months  26.848919"
      ]
     },
     "execution_count": 58,
     "metadata": {},
     "output_type": "execute_result"
    }
   ],
   "source": [
    "##get percentage of loans which are defaulted\n",
    "tenure_perc = (100*(df.term.value_counts())/df.shape[0]).to_frame()\n",
    "tenure_perc.reset_index(inplace=True)\n",
    "tenure_perc"
   ]
  },
  {
   "cell_type": "code",
   "execution_count": 59,
   "id": "b95c91b8",
   "metadata": {},
   "outputs": [
    {
     "data": {
      "image/png": "[encoded data removed]",
      "text/plain": [
       "<Figure size 360x432 with 1 Axes>"
      ]
     },
     "metadata": {
      "needs_background": "light"
     },
     "output_type": "display_data"
    }
   ],
   "source": [
    "# Defining the plot size\n",
    "plt.figure(figsize=(5,6))\n",
    "  \n",
    "# Defining the values for x-axis, y-axis\n",
    "# and from which datafarme the values are to be picked\n",
    "plots = sns.barplot(x=\"index\", y=\"term\", data=tenure_perc)\n",
    "  \n",
    "# Iterrating over the bars one-by-one\n",
    "for bar in plots.patches:\n",
    "    plots.annotate(format(bar.get_height(), '.2f'), \n",
    "                   (bar.get_x() + bar.get_width() / 2, \n",
    "                    bar.get_height()), ha='center', va='center',\n",
    "                   size=10, xytext=(0, 8),\n",
    "                   textcoords='offset points')\n",
    "  \n",
    "# Setting the label for x-axis\n",
    "plt.xlabel(\"Loan Tenure\", size=14)\n",
    "  \n",
    "# Setting the label for y-axis\n",
    "plt.ylabel(\"Percentage\", size=14)\n",
    "  \n",
    "# Setting the title for the graph\n",
    "plt.title(\"Loan Tenure\")\n",
    "  \n",
    "# Fianlly showing the plot\n",
    "plt.show()\n"
   ]
  },
  {
   "cell_type": "markdown",
   "id": "cd9411ed",
   "metadata": {},
   "source": [
    "- Only two tenures being taken , either 3yrs or 5yrs\n",
    "- We see that 74% approx. are taking loans for 3 years and 26% of them for 5 years"
   ]
  },
  {
   "cell_type": "markdown",
   "id": "a096547e",
   "metadata": {},
   "source": [
    "### vi) installment"
   ]
  },
  {
   "cell_type": "code",
   "execution_count": 60,
   "id": "c1233c6e",
   "metadata": {},
   "outputs": [
    {
     "data": {
      "text/plain": [
       "count    39469.000000\n",
       "mean       324.654007\n",
       "std        208.664471\n",
       "min         15.690000\n",
       "25%        167.210000\n",
       "50%        280.470000\n",
       "75%        430.750000\n",
       "max       1305.190000\n",
       "Name: installment, dtype: float64"
      ]
     },
     "execution_count": 60,
     "metadata": {},
     "output_type": "execute_result"
    }
   ],
   "source": [
    "#describing the installment column\n",
    "df.installment.describe()"
   ]
  },
  {
   "cell_type": "code",
   "execution_count": 61,
   "id": "3b4f09ea",
   "metadata": {},
   "outputs": [
    {
     "name": "stderr",
     "output_type": "stream",
     "text": [
      "c:\\users\\sameer\\anaconda3\\envs\\masters\\lib\\site-packages\\seaborn\\distributions.py:2557: FutureWarning: `distplot` is a deprecated function and will be removed in a future version. Please adapt your code to use either `displot` (a figure-level function with similar flexibility) or `histplot` (an axes-level function for histograms).\n",
      "  warnings.warn(msg, FutureWarning)\n"
     ]
    },
    {
     "data": {
      "image/png": "[encoded data removed]",
      "text/plain": [
       "<Figure size 432x288 with 1 Axes>"
      ]
     },
     "metadata": {
      "needs_background": "light"
     },
     "output_type": "display_data"
    }
   ],
   "source": [
    "#lets take histogram to know behaviour of installment\n",
    "sns.distplot(df.installment,bins=100)\n",
    "plt.show()"
   ]
  },
  {
   "cell_type": "markdown",
   "id": "ac884877",
   "metadata": {},
   "source": [
    "- Graph is left skewed.\n",
    "- There is high standard deviation and much difference between mean and median"
   ]
  },
  {
   "cell_type": "code",
   "execution_count": 62,
   "id": "1898df75",
   "metadata": {},
   "outputs": [
    {
     "data": {
      "image/png": "[encoded data removed]",
      "text/plain": [
       "<Figure size 432x720 with 1 Axes>"
      ]
     },
     "metadata": {
      "needs_background": "light"
     },
     "output_type": "display_data"
    }
   ],
   "source": [
    "#There is lot of difference between 3rd quartile and max value. \n",
    "#Lets see outliers in the installment column through boxplot\n",
    "plt.figure(figsize=(6,10))\n",
    "sns.boxplot(data=df,y = \"installment\")\n",
    "plt.show()"
   ]
  },
  {
   "cell_type": "markdown",
   "id": "1ec34116",
   "metadata": {},
   "source": [
    "- it contains lot of outliers above upper whisker.\n",
    "- IQR range is very less"
   ]
  },
  {
   "cell_type": "markdown",
   "id": "cc96f55d",
   "metadata": {},
   "source": [
    "### vii) annual_inc"
   ]
  },
  {
   "cell_type": "code",
   "execution_count": 63,
   "id": "3f48bd2f",
   "metadata": {},
   "outputs": [
    {
     "data": {
      "text/plain": [
       "count    3.946900e+04\n",
       "mean     6.903422e+04\n",
       "std      6.383580e+04\n",
       "min      4.000000e+03\n",
       "25%      4.079200e+04\n",
       "50%      5.900000e+04\n",
       "75%      8.250000e+04\n",
       "max      6.000000e+06\n",
       "Name: annual_inc, dtype: float64"
      ]
     },
     "execution_count": 63,
     "metadata": {},
     "output_type": "execute_result"
    }
   ],
   "source": [
    "#taking describe to understand the data better\n",
    "df.annual_inc.describe()"
   ]
  },
  {
   "cell_type": "code",
   "execution_count": 64,
   "id": "3bb55e03",
   "metadata": {},
   "outputs": [
    {
     "name": "stdout",
     "output_type": "stream",
     "text": [
      "upper extreme value = 145062.0\n",
      "lower extreme value = 0\n"
     ]
    }
   ],
   "source": [
    "q1=df.annual_inc.quantile(.25)\n",
    "q3=df.annual_inc.quantile(.75)\n",
    "iqr=q3-q1\n",
    "upper_extreme=q3+1.5*(iqr)\n",
    "lower_extreme=max(q1-1.5*(iqr),0)\n",
    "print(\"upper extreme value =\",upper_extreme)\n",
    "print(\"lower extreme value =\",lower_extreme)"
   ]
  },
  {
   "cell_type": "markdown",
   "id": "ea05bb7e",
   "metadata": {},
   "source": [
    "- since there are no outliers on the lower side we can focus on the outliers above upper extreme.\n",
    "- mean and standard deviation are very near to each other. It signifies there are lot of outliers on the upper side as seen above."
   ]
  },
  {
   "cell_type": "code",
   "execution_count": 65,
   "id": "a233ca63",
   "metadata": {},
   "outputs": [
    {
     "data": {
      "text/plain": [
       "<AxesSubplot:ylabel='annual_inc'>"
      ]
     },
     "execution_count": 65,
     "metadata": {},
     "output_type": "execute_result"
    },
    {
     "data": {
      "image/png": "[encoded data removed]",
      "text/plain": [
       "<Figure size 720x720 with 1 Axes>"
      ]
     },
     "metadata": {
      "needs_background": "light"
     },
     "output_type": "display_data"
    }
   ],
   "source": [
    "# lets plot boxplot to confirm outliers\n",
    "plt.figure(figsize=(10,10))\n",
    "sns.boxplot(data=df,y='annual_inc')"
   ]
  },
  {
   "cell_type": "code",
   "execution_count": 66,
   "id": "5c42af61",
   "metadata": {},
   "outputs": [
    {
     "name": "stderr",
     "output_type": "stream",
     "text": [
      "c:\\users\\sameer\\anaconda3\\envs\\masters\\lib\\site-packages\\seaborn\\distributions.py:2557: FutureWarning: `distplot` is a deprecated function and will be removed in a future version. Please adapt your code to use either `displot` (a figure-level function with similar flexibility) or `histplot` (an axes-level function for histograms).\n",
      "  warnings.warn(msg, FutureWarning)\n"
     ]
    },
    {
     "data": {
      "image/png": "[encoded data removed]",
      "text/plain": [
       "<Figure size 432x576 with 1 Axes>"
      ]
     },
     "metadata": {
      "needs_background": "light"
     },
     "output_type": "display_data"
    }
   ],
   "source": [
    "plt.figure(figsize=(6,8))\n",
    "sns.distplot(df.annual_inc)\n",
    "plt.show()"
   ]
  },
  {
   "cell_type": "markdown",
   "id": "5c36d894",
   "metadata": {},
   "source": [
    "- we can see that the distribution is highly left skewed."
   ]
  },
  {
   "cell_type": "code",
   "execution_count": 67,
   "id": "cc2f152f",
   "metadata": {},
   "outputs": [
    {
     "name": "stderr",
     "output_type": "stream",
     "text": [
      "c:\\users\\sameer\\anaconda3\\envs\\masters\\lib\\site-packages\\seaborn\\distributions.py:2557: FutureWarning: `distplot` is a deprecated function and will be removed in a future version. Please adapt your code to use either `displot` (a figure-level function with similar flexibility) or `histplot` (an axes-level function for histograms).\n",
      "  warnings.warn(msg, FutureWarning)\n"
     ]
    },
    {
     "data": {
      "image/png": "[encoded data removed]",
      "text/plain": [
       "<Figure size 432x576 with 1 Axes>"
      ]
     },
     "metadata": {
      "needs_background": "light"
     },
     "output_type": "display_data"
    }
   ],
   "source": [
    "#Lets analyse non outlier data histogram\n",
    "filter_inc_df=df[df.annual_inc<=145062]\n",
    "plt.figure(figsize=(6,8))\n",
    "sns.distplot(filter_inc_df.annual_inc)\n",
    "plt.show()"
   ]
  },
  {
   "cell_type": "markdown",
   "id": "ac96c492",
   "metadata": {},
   "source": [
    "- after filtering non outliers we have a normal distribution\n",
    "- There are income range upto 60 lakhs but we can see that most of the loans are taken by people whose annual income is less than 1,60,000 only."
   ]
  },
  {
   "cell_type": "code",
   "execution_count": 68,
   "id": "204e911f",
   "metadata": {},
   "outputs": [
    {
     "name": "stderr",
     "output_type": "stream",
     "text": [
      "c:\\users\\sameer\\anaconda3\\envs\\masters\\lib\\site-packages\\seaborn\\_core.py:1312: UserWarning: Horizontal orientation ignored with only `y` specified.\n",
      "  warnings.warn(single_var_warning.format(\"Horizontal\", \"y\"))\n"
     ]
    },
    {
     "data": {
      "text/plain": [
       "<AxesSubplot:ylabel='annual_inc'>"
      ]
     },
     "execution_count": 68,
     "metadata": {},
     "output_type": "execute_result"
    },
    {
     "data": {
      "image/png": "[encoded data removed]",
      "text/plain": [
       "<Figure size 1080x432 with 1 Axes>"
      ]
     },
     "metadata": {
      "needs_background": "light"
     },
     "output_type": "display_data"
    }
   ],
   "source": [
    "# lets plot boxplot to confirm outliers\n",
    "outliers_inc_df=df[df.annual_inc>=145062]\n",
    "plt.figure(figsize=(15,6))\n",
    "sns.boxplot(data=outliers_inc_df,y='annual_inc',orient='horizontal')"
   ]
  },
  {
   "cell_type": "markdown",
   "id": "5cb5bf00",
   "metadata": {},
   "source": [
    "- post 10 lakhs outliers are less crowded\n",
    "- we will eliminate values about 10 lakhs"
   ]
  },
  {
   "cell_type": "code",
   "execution_count": 69,
   "id": "4f401e6b",
   "metadata": {},
   "outputs": [],
   "source": [
    "#taking annual income less than 10 lakhs\n",
    "df=df[df.annual_inc<=1000000]"
   ]
  },
  {
   "cell_type": "markdown",
   "id": "a96aea2b",
   "metadata": {},
   "source": [
    "### viii) emp_length"
   ]
  },
  {
   "cell_type": "code",
   "execution_count": 70,
   "id": "ed248314",
   "metadata": {},
   "outputs": [
    {
     "data": {
      "text/plain": [
       "count         39455\n",
       "unique           12\n",
       "top       10+ years\n",
       "freq           8835\n",
       "Name: emp_length, dtype: object"
      ]
     },
     "execution_count": 70,
     "metadata": {},
     "output_type": "execute_result"
    }
   ],
   "source": [
    "df.emp_length.describe()"
   ]
  },
  {
   "cell_type": "code",
   "execution_count": 71,
   "id": "bdf2692f",
   "metadata": {},
   "outputs": [],
   "source": [
    "value_df=df.emp_length.value_counts().to_frame().reset_index()"
   ]
  },
  {
   "cell_type": "code",
   "execution_count": 72,
   "id": "52431d55",
   "metadata": {},
   "outputs": [
    {
     "data": {
      "text/plain": [
       "Index(['index', 'emp_length'], dtype='object')"
      ]
     },
     "execution_count": 72,
     "metadata": {},
     "output_type": "execute_result"
    }
   ],
   "source": [
    "value_df.columns"
   ]
  },
  {
   "cell_type": "code",
   "execution_count": 73,
   "id": "7b36e7f4",
   "metadata": {},
   "outputs": [
    {
     "data": {
      "image/png": "[encoded data removed]",
      "text/plain": [
       "<Figure size 1440x576 with 1 Axes>"
      ]
     },
     "metadata": {
      "needs_background": "light"
     },
     "output_type": "display_data"
    }
   ],
   "source": [
    "plt.figure(figsize=(20,8))\n",
    "plots=sns.barplot(data=value_df,y='emp_length',x='index')\n",
    "# Iterrating over the bars one-by-one\n",
    "for bar in plots.patches:\n",
    "    plots.annotate(format(bar.get_height(), '.2f'), \n",
    "                   (bar.get_x() + bar.get_width() / 2, \n",
    "                    bar.get_height()), ha='center', va='center',\n",
    "                   size=10, xytext=(0, 8),\n",
    "                   textcoords='offset points')\n",
    "  \n",
    "# Setting the label for x-axis\n",
    "plt.xlabel(\"Employment Experience\", size=14)\n",
    "  \n",
    "# Setting the label for y-axis\n",
    "plt.ylabel(\"Persons loan count\", size=14)\n",
    "  \n",
    "# Setting the title for the graph\n",
    "plt.title(\"Employment experience\")\n",
    "  \n",
    "# Fianlly showing the plot\n",
    "plt.show()\n"
   ]
  },
  {
   "cell_type": "markdown",
   "id": "1ec27e17",
   "metadata": {},
   "source": [
    "- we can infer that as experience is increasing number of people taking loans is decreasing\n",
    "- one anomally where most of people taking loans are having 10+ years of experience"
   ]
  },
  {
   "cell_type": "markdown",
   "id": "e806bbe2",
   "metadata": {},
   "source": [
    "### ix) total_pymnt\n",
    "- It is a dependent column on many columns such as loan_amount,last_pymnt_d,issue_d. So, we cannot infer it independently"
   ]
  },
  {
   "cell_type": "markdown",
   "id": "35a5f6ad",
   "metadata": {},
   "source": [
    "### x) verification_status \n"
   ]
  },
  {
   "cell_type": "code",
   "execution_count": 74,
   "id": "3a46e5e5",
   "metadata": {},
   "outputs": [
    {
     "data": {
      "text/plain": [
       "Not Verified       16725\n",
       "Verified           12776\n",
       "Source Verified     9954\n",
       "Name: verification_status, dtype: int64"
      ]
     },
     "execution_count": 74,
     "metadata": {},
     "output_type": "execute_result"
    }
   ],
   "source": [
    "#desribing total_pymnt column\n",
    "df.verification_status .value_counts()"
   ]
  },
  {
   "cell_type": "code",
   "execution_count": 75,
   "id": "ffcca864",
   "metadata": {},
   "outputs": [
    {
     "data": {
      "image/png": "[encoded data removed]",
      "text/plain": [
       "<Figure size 432x576 with 1 Axes>"
      ]
     },
     "metadata": {
      "needs_background": "light"
     },
     "output_type": "display_data"
    }
   ],
   "source": [
    "# lets look at data distribution of verification_status\n",
    "plt.figure(figsize=(6,8))\n",
    "plots=sns.countplot(data=df,x='verification_status')\n",
    "# Iterrating over the bars one-by-one\n",
    "for bar in plots.patches:\n",
    "    plots.annotate(format(bar.get_height(), '.2f'), \n",
    "                   (bar.get_x() + bar.get_width() / 2, \n",
    "                    bar.get_height()), ha='center', va='center',\n",
    "                   size=10, xytext=(0, 8),\n",
    "                   textcoords='offset points')\n",
    "  \n",
    "# Setting the label for x-axis\n",
    "plt.xlabel(\"Verification Type\", size=14)\n",
    "  \n",
    "# Setting the label for y-axis\n",
    "plt.ylabel(\"count of types\", size=14)\n",
    "  \n",
    "# Setting the title for the graph\n",
    "plt.title(\"Verification Status\")\n",
    "  \n",
    "# Fianlly showing the plot\n",
    "plt.show()\n"
   ]
  },
  {
   "cell_type": "markdown",
   "id": "9b9d52fb",
   "metadata": {},
   "source": [
    "- Non verified and verfied are close by. \n",
    "- There are 42% non verified loan borrowers which is quite significant from the graph.\n",
    "- If the correctness of income received by the borrower is important then there are 33% of verified borrowers."
   ]
  },
  {
   "cell_type": "markdown",
   "id": "5054d6e8",
   "metadata": {},
   "source": [
    "### xi) home_ownership\n"
   ]
  },
  {
   "cell_type": "code",
   "execution_count": 76,
   "id": "25f8fa9a",
   "metadata": {},
   "outputs": [
    {
     "data": {
      "image/png": "[encoded data removed]",
      "text/plain": [
       "<Figure size 432x576 with 1 Axes>"
      ]
     },
     "metadata": {
      "needs_background": "light"
     },
     "output_type": "display_data"
    }
   ],
   "source": [
    "# lets look at data distribution of verification_status\n",
    "plt.figure(figsize=(6,8))\n",
    "plots=sns.countplot(data=df,x='home_ownership')\n",
    "# Iterrating over the bars one-by-one\n",
    "for bar in plots.patches:\n",
    "    plots.annotate(format(bar.get_height(), '.2f'), \n",
    "                   (bar.get_x() + bar.get_width() / 2, \n",
    "                    bar.get_height()), ha='center', va='center',\n",
    "                   size=10, xytext=(0, 8),\n",
    "                   textcoords='offset points')\n",
    "  \n",
    "# Setting the label for x-axis\n",
    "plt.xlabel(\"House Ownership Type\", size=14)\n",
    "  \n",
    "# Setting the label for y-axis\n",
    "plt.ylabel(\"count of types\", size=14)\n",
    "  \n",
    "# Setting the title for the graph\n",
    "plt.title(\"House Ownership\")\n",
    "  \n",
    "# Fianlly showing the plot\n",
    "plt.show()\n"
   ]
  },
  {
   "cell_type": "markdown",
   "id": "44646820",
   "metadata": {},
   "source": [
    "- "
   ]
  },
  {
   "cell_type": "markdown",
   "id": "33799b7f",
   "metadata": {},
   "source": [
    "- we can see that most of loan borrowers data is of renterd persons and mortgage type borrowers.\n",
    "- only 8% of total borrowers are house owners. These people are more reliable to make timely payments."
   ]
  },
  {
   "cell_type": "markdown",
   "id": "8a265270",
   "metadata": {},
   "source": [
    "### xii) grade\n"
   ]
  },
  {
   "cell_type": "code",
   "execution_count": 77,
   "id": "8bbe4457",
   "metadata": {},
   "outputs": [
    {
     "data": {
      "image/png": "[encoded data removed]",
      "text/plain": [
       "<Figure size 432x576 with 1 Axes>"
      ]
     },
     "metadata": {
      "needs_background": "light"
     },
     "output_type": "display_data"
    }
   ],
   "source": [
    "# lets look at data distribution of grade\n",
    "plt.figure(figsize=(6,8))\n",
    "plots=sns.countplot(data=df,x='grade')\n",
    "# Iterrating over the bars one-by-one\n",
    "for bar in plots.patches:\n",
    "    plots.annotate(format(bar.get_height(), '.2f'), \n",
    "                   (bar.get_x() + bar.get_width() / 2, \n",
    "                    bar.get_height()), ha='center', va='center',\n",
    "                   size=10, xytext=(0, 8),\n",
    "                   textcoords='offset points')\n",
    "  \n",
    "# Setting the label for x-axis\n",
    "plt.xlabel(\"Grades\", size=14)\n",
    "  \n",
    "# Setting the label for y-axis\n",
    "plt.ylabel(\"count of grades\", size=14)\n",
    "  \n",
    "# Setting the title for the graph\n",
    "plt.title(\"Grades vs count_of_grades\")\n",
    "  \n",
    "# Fianlly showing the plot\n",
    "plt.show()\n"
   ]
  },
  {
   "cell_type": "code",
   "execution_count": 78,
   "id": "7b7691e1",
   "metadata": {},
   "outputs": [
    {
     "data": {
      "text/html": [
       "<div>\n",
       "<style scoped>\n",
       "    .dataframe tbody tr th:only-of-type {\n",
       "        vertical-align: middle;\n",
       "    }\n",
       "\n",
       "    .dataframe tbody tr th {\n",
       "        vertical-align: top;\n",
       "    }\n",
       "\n",
       "    .dataframe thead th {\n",
       "        text-align: right;\n",
       "    }\n",
       "</style>\n",
       "<table border=\"1\" class=\"dataframe\">\n",
       "  <thead>\n",
       "    <tr style=\"text-align: right;\">\n",
       "      <th></th>\n",
       "      <th>index</th>\n",
       "      <th>grade</th>\n",
       "    </tr>\n",
       "  </thead>\n",
       "  <tbody>\n",
       "    <tr>\n",
       "      <th>0</th>\n",
       "      <td>B</td>\n",
       "      <td>30.138228</td>\n",
       "    </tr>\n",
       "    <tr>\n",
       "      <th>1</th>\n",
       "      <td>A</td>\n",
       "      <td>25.339275</td>\n",
       "    </tr>\n",
       "    <tr>\n",
       "      <th>2</th>\n",
       "      <td>C</td>\n",
       "      <td>20.190347</td>\n",
       "    </tr>\n",
       "    <tr>\n",
       "      <th>3</th>\n",
       "      <td>D</td>\n",
       "      <td>13.195861</td>\n",
       "    </tr>\n",
       "    <tr>\n",
       "      <th>4</th>\n",
       "      <td>E</td>\n",
       "      <td>7.082609</td>\n",
       "    </tr>\n",
       "    <tr>\n",
       "      <th>5</th>\n",
       "      <td>F</td>\n",
       "      <td>2.608455</td>\n",
       "    </tr>\n",
       "    <tr>\n",
       "      <th>6</th>\n",
       "      <td>G</td>\n",
       "      <td>0.785558</td>\n",
       "    </tr>\n",
       "  </tbody>\n",
       "</table>\n",
       "</div>"
      ],
      "text/plain": [
       "  index      grade\n",
       "0     B  30.138228\n",
       "1     A  25.339275\n",
       "2     C  20.190347\n",
       "3     D  13.195861\n",
       "4     E   7.082609\n",
       "5     F   2.608455\n",
       "6     G   0.785558"
      ]
     },
     "execution_count": 78,
     "metadata": {},
     "output_type": "execute_result"
    }
   ],
   "source": [
    "perc_df=100*(df.grade.value_counts()/shape[0]).to_frame()\n",
    "perc_df.reset_index(inplace=True)\n",
    "perc_df"
   ]
  },
  {
   "cell_type": "code",
   "execution_count": 79,
   "id": "ea0a1854",
   "metadata": {},
   "outputs": [
    {
     "data": {
      "image/png": "[encoded data removed]",
      "text/plain": [
       "<Figure size 432x576 with 1 Axes>"
      ]
     },
     "metadata": {
      "needs_background": "light"
     },
     "output_type": "display_data"
    }
   ],
   "source": [
    "# lets look at data distribution of grade\n",
    "plt.figure(figsize=(6,8))\n",
    "plots=sns.barplot(data=perc_df,x='index',y='grade')\n",
    "# Iterrating over the bars one-by-one\n",
    "for bar in plots.patches:\n",
    "    plots.annotate(format(bar.get_height(), '.2f'), \n",
    "                   (bar.get_x() + bar.get_width() / 2, \n",
    "                    bar.get_height()), ha='center', va='center',\n",
    "                   size=10, xytext=(0, 8),\n",
    "                   textcoords='offset points')\n",
    "  \n",
    "# Setting the label for x-axis\n",
    "plt.xlabel(\"Grades\", size=14)\n",
    "  \n",
    "# Setting the label for y-axis\n",
    "plt.ylabel(\"count of grades\", size=14)\n",
    "  \n",
    "# Setting the title for the graph\n",
    "plt.title(\"Grades vs count_of_grades\")\n",
    "  \n",
    "# Fianlly showing the plot\n",
    "plt.show()"
   ]
  },
  {
   "cell_type": "code",
   "execution_count": 80,
   "id": "dca6478f",
   "metadata": {},
   "outputs": [
    {
     "data": {
      "image/png": "[encoded data removed]",
      "text/plain": [
       "<Figure size 1440x720 with 1 Axes>"
      ]
     },
     "metadata": {
      "needs_background": "light"
     },
     "output_type": "display_data"
    }
   ],
   "source": [
    "# lets look at data distribution of grade\n",
    "plt.figure(figsize=(20,10))\n",
    "plots=sns.countplot(data=df,x='grade',hue='sub_grade',hue_order=sorted(list(df.sub_grade.unique())))\n",
    "#df.groupby(['grade','sub_grade'])['grade','sub_grade'].count().plot.bar()\n",
    "\n",
    "# Fianlly showing the plot\n",
    "plt.show()"
   ]
  },
  {
   "cell_type": "markdown",
   "id": "be1eebca",
   "metadata": {},
   "source": [
    "### xiii) sub_grade"
   ]
  },
  {
   "cell_type": "code",
   "execution_count": 81,
   "id": "e79f2d15",
   "metadata": {},
   "outputs": [
    {
     "data": {
      "image/png": "[encoded data removed]",
      "text/plain": [
       "<Figure size 1440x720 with 1 Axes>"
      ]
     },
     "metadata": {
      "needs_background": "light"
     },
     "output_type": "display_data"
    }
   ],
   "source": [
    "# lets look at data distribution of sub_grade\n",
    "plt.figure(figsize=(20,10))\n",
    "plots=sns.countplot(data=df.sort_values(by='sub_grade'),x='sub_grade')\n",
    "# Iterrating over the bars one-by-one\n",
    "for bar in plots.patches:\n",
    "    plots.annotate(format(bar.get_height(), '.2f'), \n",
    "                   (bar.get_x() + bar.get_width() / 2, \n",
    "                    bar.get_height()), ha='center', va='center',\n",
    "                   size=10, xytext=(0, 8),\n",
    "                   textcoords='offset points')\n",
    "  \n",
    "# Setting the label for x-axis\n",
    "plt.xlabel(\"Sub Grades\", size=14)\n",
    "  \n",
    "# Setting the label for y-axis\n",
    "plt.ylabel(\"count of sub grades\", size=14)\n",
    "  \n",
    "# Setting the title for the graph\n",
    "plt.title(\"Grades vs count_of_grades\")\n",
    "  \n",
    "# Fianlly showing the plot\n",
    "plt.show()"
   ]
  },
  {
   "cell_type": "markdown",
   "id": "d376c370",
   "metadata": {},
   "source": [
    "- If we look at subgrades, A4,A5,B3,B4,B5 are the ones which have borrowers around 2500 and more\n",
    "- subgrades in F and G are very less opted"
   ]
  },
  {
   "cell_type": "markdown",
   "id": "8d61c062",
   "metadata": {},
   "source": [
    "### xiv) purpose"
   ]
  },
  {
   "cell_type": "code",
   "execution_count": 82,
   "id": "df4ea573",
   "metadata": {},
   "outputs": [
    {
     "data": {
      "text/html": [
       "<div>\n",
       "<style scoped>\n",
       "    .dataframe tbody tr th:only-of-type {\n",
       "        vertical-align: middle;\n",
       "    }\n",
       "\n",
       "    .dataframe tbody tr th {\n",
       "        vertical-align: top;\n",
       "    }\n",
       "\n",
       "    .dataframe thead th {\n",
       "        text-align: right;\n",
       "    }\n",
       "</style>\n",
       "<table border=\"1\" class=\"dataframe\">\n",
       "  <thead>\n",
       "    <tr style=\"text-align: right;\">\n",
       "      <th></th>\n",
       "      <th>purpose</th>\n",
       "      <th>count</th>\n",
       "    </tr>\n",
       "  </thead>\n",
       "  <tbody>\n",
       "    <tr>\n",
       "      <th>0</th>\n",
       "      <td>debt_consolidation</td>\n",
       "      <td>18540</td>\n",
       "    </tr>\n",
       "    <tr>\n",
       "      <th>1</th>\n",
       "      <td>credit_card</td>\n",
       "      <td>5115</td>\n",
       "    </tr>\n",
       "    <tr>\n",
       "      <th>2</th>\n",
       "      <td>other</td>\n",
       "      <td>3953</td>\n",
       "    </tr>\n",
       "    <tr>\n",
       "      <th>3</th>\n",
       "      <td>home_improvement</td>\n",
       "      <td>2957</td>\n",
       "    </tr>\n",
       "    <tr>\n",
       "      <th>4</th>\n",
       "      <td>major_purchase</td>\n",
       "      <td>2169</td>\n",
       "    </tr>\n",
       "    <tr>\n",
       "      <th>5</th>\n",
       "      <td>small_business</td>\n",
       "      <td>1798</td>\n",
       "    </tr>\n",
       "    <tr>\n",
       "      <th>6</th>\n",
       "      <td>car</td>\n",
       "      <td>1544</td>\n",
       "    </tr>\n",
       "    <tr>\n",
       "      <th>7</th>\n",
       "      <td>wedding</td>\n",
       "      <td>937</td>\n",
       "    </tr>\n",
       "    <tr>\n",
       "      <th>8</th>\n",
       "      <td>medical</td>\n",
       "      <td>690</td>\n",
       "    </tr>\n",
       "    <tr>\n",
       "      <th>9</th>\n",
       "      <td>moving</td>\n",
       "      <td>578</td>\n",
       "    </tr>\n",
       "    <tr>\n",
       "      <th>10</th>\n",
       "      <td>vacation</td>\n",
       "      <td>380</td>\n",
       "    </tr>\n",
       "    <tr>\n",
       "      <th>11</th>\n",
       "      <td>house</td>\n",
       "      <td>378</td>\n",
       "    </tr>\n",
       "    <tr>\n",
       "      <th>12</th>\n",
       "      <td>educational</td>\n",
       "      <td>314</td>\n",
       "    </tr>\n",
       "    <tr>\n",
       "      <th>13</th>\n",
       "      <td>renewable_energy</td>\n",
       "      <td>102</td>\n",
       "    </tr>\n",
       "  </tbody>\n",
       "</table>\n",
       "</div>"
      ],
      "text/plain": [
       "               purpose  count\n",
       "0   debt_consolidation  18540\n",
       "1          credit_card   5115\n",
       "2                other   3953\n",
       "3     home_improvement   2957\n",
       "4       major_purchase   2169\n",
       "5       small_business   1798\n",
       "6                  car   1544\n",
       "7              wedding    937\n",
       "8              medical    690\n",
       "9               moving    578\n",
       "10            vacation    380\n",
       "11               house    378\n",
       "12         educational    314\n",
       "13    renewable_energy    102"
      ]
     },
     "execution_count": 82,
     "metadata": {},
     "output_type": "execute_result"
    }
   ],
   "source": [
    "## lets check the types of purposes\n",
    "purpose = df.purpose.value_counts().to_frame()\n",
    "purpose.reset_index(inplace=True)\n",
    "purpose = purpose.rename(columns={'index':'purpose','purpose':'count'})\n",
    "purpose"
   ]
  },
  {
   "cell_type": "code",
   "execution_count": 83,
   "id": "01ecd564",
   "metadata": {},
   "outputs": [
    {
     "data": {
      "image/png": "[encoded data removed]",
      "text/plain": [
       "<Figure size 1440x720 with 1 Axes>"
      ]
     },
     "metadata": {
      "needs_background": "light"
     },
     "output_type": "display_data"
    }
   ],
   "source": [
    "# ploting the bar chart with count will give us more insight on which purpose is high amongst all\n",
    "\n",
    "plt.figure(figsize=(20,10))\n",
    "plots=sns.barplot(data=purpose,x='purpose',y='count')\n",
    "# Iterrating over the bars one-by-one\n",
    "for bar in plots.patches:\n",
    "    plots.annotate(format(bar.get_height(), '.2f'), \n",
    "                   (bar.get_x() + bar.get_width() / 2, \n",
    "                    bar.get_height()), ha='center', va='center',\n",
    "                   size=10, xytext=(0, 8),\n",
    "                   textcoords='offset points')\n",
    "  \n",
    "# Setting the label for x-axis\n",
    "plt.xlabel(\"purpose\", size=14)\n",
    "  \n",
    "# Setting the label for y-axis\n",
    "plt.ylabel(\"count of loans taken\", size=14)\n",
    "  \n",
    "# Setting the title for the graph\n",
    "plt.title(\"Counts of loans based on purpose\")\n",
    "  \n",
    "# Fianlly showing the plot\n",
    "plt.show()"
   ]
  },
  {
   "cell_type": "code",
   "execution_count": 84,
   "id": "561ea77a",
   "metadata": {},
   "outputs": [
    {
     "data": {
      "image/png": "[encoded data removed]",
      "text/plain": [
       "<Figure size 864x864 with 1 Axes>"
      ]
     },
     "metadata": {},
     "output_type": "display_data"
    }
   ],
   "source": [
    "#lets draw a pie chart to get the percentage proportions\n",
    "pie, ax = plt.subplots(figsize=[12,12])\n",
    "labels = list(purpose.purpose)\n",
    "# print(labels)\n",
    "plt.pie(x=purpose['count'], autopct=\"%.1f%%\", explode=[0.03]*len(labels), labels=labels, pctdistance=0.9)\n",
    "plt.title(\"Loan count prop based on purpose\", fontsize=14);\n",
    "pie.savefig(\"purposepie.png\")"
   ]
  },
  {
   "cell_type": "markdown",
   "id": "50cabeb4",
   "metadata": {},
   "source": [
    "- There are around 14 purposes recorded in the dataset\n",
    "- 47% (18,540 loans) of the loans are of debt_consolidation to clear their debts\n",
    "- Then 13% for people regarding credit_card\n",
    "- Just 1% around people take loans for home and education. This is kind of interesting insight."
   ]
  },
  {
   "cell_type": "markdown",
   "id": "ba7061a8",
   "metadata": {},
   "source": [
    "### xv) pub_rec_bankruptcies"
   ]
  },
  {
   "cell_type": "code",
   "execution_count": 85,
   "id": "46c124a6",
   "metadata": {},
   "outputs": [
    {
     "data": {
      "text/html": [
       "<div>\n",
       "<style scoped>\n",
       "    .dataframe tbody tr th:only-of-type {\n",
       "        vertical-align: middle;\n",
       "    }\n",
       "\n",
       "    .dataframe tbody tr th {\n",
       "        vertical-align: top;\n",
       "    }\n",
       "\n",
       "    .dataframe thead th {\n",
       "        text-align: right;\n",
       "    }\n",
       "</style>\n",
       "<table border=\"1\" class=\"dataframe\">\n",
       "  <thead>\n",
       "    <tr style=\"text-align: right;\">\n",
       "      <th></th>\n",
       "      <th>no_bankruptcies</th>\n",
       "      <th>count</th>\n",
       "    </tr>\n",
       "  </thead>\n",
       "  <tbody>\n",
       "    <tr>\n",
       "      <th>0</th>\n",
       "      <td>0.0</td>\n",
       "      <td>37781</td>\n",
       "    </tr>\n",
       "    <tr>\n",
       "      <th>1</th>\n",
       "      <td>1.0</td>\n",
       "      <td>1667</td>\n",
       "    </tr>\n",
       "    <tr>\n",
       "      <th>2</th>\n",
       "      <td>2.0</td>\n",
       "      <td>7</td>\n",
       "    </tr>\n",
       "  </tbody>\n",
       "</table>\n",
       "</div>"
      ],
      "text/plain": [
       "   no_bankruptcies  count\n",
       "0              0.0  37781\n",
       "1              1.0   1667\n",
       "2              2.0      7"
      ]
     },
     "execution_count": 85,
     "metadata": {},
     "output_type": "execute_result"
    }
   ],
   "source": [
    "## lets check the types of bankruptcies\n",
    "bankruptcies = df.pub_rec_bankruptcies.value_counts().to_frame()\n",
    "bankruptcies.reset_index(inplace=True)\n",
    "bankruptcies = bankruptcies.rename(columns={'index':'no_bankruptcies','pub_rec_bankruptcies':'count'})\n",
    "bankruptcies"
   ]
  },
  {
   "cell_type": "code",
   "execution_count": 86,
   "id": "2a75e13b",
   "metadata": {},
   "outputs": [
    {
     "data": {
      "image/png": "[encoded data removed]",
      "text/plain": [
       "<Figure size 576x576 with 1 Axes>"
      ]
     },
     "metadata": {
      "needs_background": "light"
     },
     "output_type": "display_data"
    }
   ],
   "source": [
    "# ploting the bar chart with count will give us more insight for no of bankruptcies\n",
    "\n",
    "plt.figure(figsize=(8,8))\n",
    "plots=sns.barplot(data=bankruptcies,x='no_bankruptcies',y='count')\n",
    "# Iterrating over the bars one-by-one\n",
    "for bar in plots.patches:\n",
    "    plots.annotate(format(bar.get_height(), '.2f'), \n",
    "                   (bar.get_x() + bar.get_width() / 2, \n",
    "                    bar.get_height()), ha='center', va='center',\n",
    "                   size=10, xytext=(0, 8),\n",
    "                   textcoords='offset points')\n",
    "  \n",
    "# Setting the label for x-axis\n",
    "plt.xlabel(\"no_bankruptcies\", size=14)\n",
    "  \n",
    "# Setting the label for y-axis\n",
    "plt.ylabel(\"count of loans taken\", size=14)\n",
    "  \n",
    "# Setting the title for the graph\n",
    "plt.title(\"Counts of loans based v/s no_bankruptcies\")\n",
    "  \n",
    "# Fianlly showing the plot\n",
    "plt.show()"
   ]
  },
  {
   "cell_type": "markdown",
   "id": "e5ac4c87",
   "metadata": {},
   "source": [
    "- We can see here that more than 95% (37781 out of 39455) have 0 bankruptcies. \n",
    "- Not much we can understand here\n",
    "- only 0.04% of them have 1 bankruptcy. \n",
    "- based on data, breach on bankruptcy level is very less from the customers"
   ]
  },
  {
   "cell_type": "markdown",
   "id": "db1e3327",
   "metadata": {},
   "source": [
    "### xvi) pub_rec\n",
    " - Number of public degrogatory records"
   ]
  },
  {
   "cell_type": "code",
   "execution_count": 87,
   "id": "c86a6ae9",
   "metadata": {},
   "outputs": [
    {
     "data": {
      "text/html": [
       "<div>\n",
       "<style scoped>\n",
       "    .dataframe tbody tr th:only-of-type {\n",
       "        vertical-align: middle;\n",
       "    }\n",
       "\n",
       "    .dataframe tbody tr th {\n",
       "        vertical-align: top;\n",
       "    }\n",
       "\n",
       "    .dataframe thead th {\n",
       "        text-align: right;\n",
       "    }\n",
       "</style>\n",
       "<table border=\"1\" class=\"dataframe\">\n",
       "  <thead>\n",
       "    <tr style=\"text-align: right;\">\n",
       "      <th></th>\n",
       "      <th>no_pub_rec</th>\n",
       "      <th>count</th>\n",
       "    </tr>\n",
       "  </thead>\n",
       "  <tbody>\n",
       "    <tr>\n",
       "      <th>0</th>\n",
       "      <td>0</td>\n",
       "      <td>37354</td>\n",
       "    </tr>\n",
       "    <tr>\n",
       "      <th>1</th>\n",
       "      <td>1</td>\n",
       "      <td>2041</td>\n",
       "    </tr>\n",
       "    <tr>\n",
       "      <th>2</th>\n",
       "      <td>2</td>\n",
       "      <td>51</td>\n",
       "    </tr>\n",
       "    <tr>\n",
       "      <th>3</th>\n",
       "      <td>3</td>\n",
       "      <td>7</td>\n",
       "    </tr>\n",
       "    <tr>\n",
       "      <th>4</th>\n",
       "      <td>4</td>\n",
       "      <td>2</td>\n",
       "    </tr>\n",
       "  </tbody>\n",
       "</table>\n",
       "</div>"
      ],
      "text/plain": [
       "   no_pub_rec  count\n",
       "0           0  37354\n",
       "1           1   2041\n",
       "2           2     51\n",
       "3           3      7\n",
       "4           4      2"
      ]
     },
     "execution_count": 87,
     "metadata": {},
     "output_type": "execute_result"
    }
   ],
   "source": [
    "## lets check the types of public degrogatories\n",
    "deg = df.pub_rec.value_counts().to_frame()\n",
    "deg.reset_index(inplace=True)\n",
    "deg = deg.rename(columns={'index':'no_pub_rec','pub_rec':'count'})\n",
    "deg"
   ]
  },
  {
   "cell_type": "code",
   "execution_count": 88,
   "id": "fc1d7a03",
   "metadata": {},
   "outputs": [
    {
     "data": {
      "image/png": "[encoded data removed]",
      "text/plain": [
       "<Figure size 576x576 with 1 Axes>"
      ]
     },
     "metadata": {},
     "output_type": "display_data"
    }
   ],
   "source": [
    "#lets draw a pie chart to get the percentage proportions\n",
    "pie, ax = plt.subplots(figsize=[8,8])\n",
    "labels = list(deg.no_pub_rec)\n",
    "# print(labels)\n",
    "plt.pie(x=deg['count'], autopct=\"%.01f%%\", explode=[0.07]*len(labels), labels=labels, pctdistance=0.5)\n",
    "plt.title(\"loan proportion based on pub_rec\", fontsize=14);\n",
    "pie.savefig(\"pubrecpie.png\")"
   ]
  },
  {
   "cell_type": "markdown",
   "id": "25740411",
   "metadata": {},
   "source": [
    "- Even pub_rec has similar behaviour like bankruptcies\n",
    "- We see almost 95% of them are not involved in bad behaviour before, thereby reducing lending risk"
   ]
  },
  {
   "cell_type": "code",
   "execution_count": 89,
   "id": "5a15fecb",
   "metadata": {},
   "outputs": [
    {
     "data": {
      "text/plain": [
       "(39455, 29)"
      ]
     },
     "execution_count": 89,
     "metadata": {},
     "output_type": "execute_result"
    }
   ],
   "source": [
    "df.shape"
   ]
  },
  {
   "cell_type": "markdown",
   "id": "69cad1d6",
   "metadata": {},
   "source": [
    "### xvii) delinq_2yrs"
   ]
  },
  {
   "cell_type": "code",
   "execution_count": 90,
   "id": "337b5b12",
   "metadata": {},
   "outputs": [
    {
     "data": {
      "text/html": [
       "<div>\n",
       "<style scoped>\n",
       "    .dataframe tbody tr th:only-of-type {\n",
       "        vertical-align: middle;\n",
       "    }\n",
       "\n",
       "    .dataframe tbody tr th {\n",
       "        vertical-align: top;\n",
       "    }\n",
       "\n",
       "    .dataframe thead th {\n",
       "        text-align: right;\n",
       "    }\n",
       "</style>\n",
       "<table border=\"1\" class=\"dataframe\">\n",
       "  <thead>\n",
       "    <tr style=\"text-align: right;\">\n",
       "      <th></th>\n",
       "      <th>no_delinq_2yrs</th>\n",
       "      <th>count</th>\n",
       "    </tr>\n",
       "  </thead>\n",
       "  <tbody>\n",
       "    <tr>\n",
       "      <th>0</th>\n",
       "      <td>0</td>\n",
       "      <td>35183</td>\n",
       "    </tr>\n",
       "    <tr>\n",
       "      <th>1</th>\n",
       "      <td>1</td>\n",
       "      <td>3276</td>\n",
       "    </tr>\n",
       "    <tr>\n",
       "      <th>2</th>\n",
       "      <td>2</td>\n",
       "      <td>682</td>\n",
       "    </tr>\n",
       "    <tr>\n",
       "      <th>3</th>\n",
       "      <td>3</td>\n",
       "      <td>214</td>\n",
       "    </tr>\n",
       "    <tr>\n",
       "      <th>4</th>\n",
       "      <td>4</td>\n",
       "      <td>60</td>\n",
       "    </tr>\n",
       "    <tr>\n",
       "      <th>5</th>\n",
       "      <td>5</td>\n",
       "      <td>22</td>\n",
       "    </tr>\n",
       "    <tr>\n",
       "      <th>6</th>\n",
       "      <td>6</td>\n",
       "      <td>10</td>\n",
       "    </tr>\n",
       "    <tr>\n",
       "      <th>7</th>\n",
       "      <td>7</td>\n",
       "      <td>4</td>\n",
       "    </tr>\n",
       "    <tr>\n",
       "      <th>8</th>\n",
       "      <td>8</td>\n",
       "      <td>2</td>\n",
       "    </tr>\n",
       "    <tr>\n",
       "      <th>9</th>\n",
       "      <td>11</td>\n",
       "      <td>1</td>\n",
       "    </tr>\n",
       "    <tr>\n",
       "      <th>10</th>\n",
       "      <td>9</td>\n",
       "      <td>1</td>\n",
       "    </tr>\n",
       "  </tbody>\n",
       "</table>\n",
       "</div>"
      ],
      "text/plain": [
       "    no_delinq_2yrs  count\n",
       "0                0  35183\n",
       "1                1   3276\n",
       "2                2    682\n",
       "3                3    214\n",
       "4                4     60\n",
       "5                5     22\n",
       "6                6     10\n",
       "7                7      4\n",
       "8                8      2\n",
       "9               11      1\n",
       "10               9      1"
      ]
     },
     "execution_count": 90,
     "metadata": {},
     "output_type": "execute_result"
    }
   ],
   "source": [
    "## lets check the types of public degrogatories\n",
    "delq = df.delinq_2yrs.value_counts().to_frame()\n",
    "delq.reset_index(inplace=True)\n",
    "delq = delq.rename(columns={'index':'no_delinq_2yrs','delinq_2yrs':'count'})\n",
    "delq"
   ]
  },
  {
   "cell_type": "code",
   "execution_count": 91,
   "id": "e86abd5e",
   "metadata": {},
   "outputs": [
    {
     "data": {
      "image/png": "[encoded data removed]",
      "text/plain": [
       "<Figure size 720x576 with 1 Axes>"
      ]
     },
     "metadata": {
      "needs_background": "light"
     },
     "output_type": "display_data"
    }
   ],
   "source": [
    "# ploting the bar chart with count will give us more insight for no of deliquecies in past 2 years\n",
    "\n",
    "plt.figure(figsize=(10,8))\n",
    "plots=sns.barplot(data=delq,x='no_delinq_2yrs',y='count')\n",
    "# Iterrating over the bars one-by-one\n",
    "for bar in plots.patches:\n",
    "    plots.annotate(format(bar.get_height(), '.2f'), \n",
    "                   (bar.get_x() + bar.get_width() / 2, \n",
    "                    bar.get_height()), ha='center', va='center',\n",
    "                   size=10, xytext=(0, 8),\n",
    "                   textcoords='offset points')\n",
    "  \n",
    "# Setting the label for x-axis\n",
    "plt.xlabel(\"no of delinquecies in 2 years\", size=14)\n",
    "  \n",
    "# Setting the label for y-axis\n",
    "plt.ylabel(\"count of loans taken\", size=14)\n",
    "  \n",
    "# Setting the title for the graph\n",
    "plt.title(\"Counts of loans based v/s no_delinquecies\")\n",
    "  \n",
    "# Fianlly showing the plot\n",
    "plt.show()"
   ]
  },
  {
   "cell_type": "markdown",
   "id": "2f931642",
   "metadata": {},
   "source": [
    "- we see that around 89% of the loans that are not involved in a delay of payment every month.\n",
    "- there are very less people who have done just once that too around 0.08% only"
   ]
  },
  {
   "cell_type": "markdown",
   "id": "884719c9",
   "metadata": {},
   "source": [
    "### xviii) open_acc\n",
    "\n",
    "- The number of open credit lines in the borrowers credit file"
   ]
  },
  {
   "cell_type": "code",
   "execution_count": 92,
   "id": "225fc4bb",
   "metadata": {},
   "outputs": [
    {
     "data": {
      "text/html": [
       "<div>\n",
       "<style scoped>\n",
       "    .dataframe tbody tr th:only-of-type {\n",
       "        vertical-align: middle;\n",
       "    }\n",
       "\n",
       "    .dataframe tbody tr th {\n",
       "        vertical-align: top;\n",
       "    }\n",
       "\n",
       "    .dataframe thead th {\n",
       "        text-align: right;\n",
       "    }\n",
       "</style>\n",
       "<table border=\"1\" class=\"dataframe\">\n",
       "  <thead>\n",
       "    <tr style=\"text-align: right;\">\n",
       "      <th></th>\n",
       "      <th>no_open_acc</th>\n",
       "      <th>count</th>\n",
       "    </tr>\n",
       "  </thead>\n",
       "  <tbody>\n",
       "    <tr>\n",
       "      <th>0</th>\n",
       "      <td>7</td>\n",
       "      <td>3989</td>\n",
       "    </tr>\n",
       "    <tr>\n",
       "      <th>1</th>\n",
       "      <td>6</td>\n",
       "      <td>3923</td>\n",
       "    </tr>\n",
       "    <tr>\n",
       "      <th>2</th>\n",
       "      <td>8</td>\n",
       "      <td>3917</td>\n",
       "    </tr>\n",
       "    <tr>\n",
       "      <th>3</th>\n",
       "      <td>9</td>\n",
       "      <td>3697</td>\n",
       "    </tr>\n",
       "    <tr>\n",
       "      <th>4</th>\n",
       "      <td>10</td>\n",
       "      <td>3211</td>\n",
       "    </tr>\n",
       "  </tbody>\n",
       "</table>\n",
       "</div>"
      ],
      "text/plain": [
       "   no_open_acc  count\n",
       "0            7   3989\n",
       "1            6   3923\n",
       "2            8   3917\n",
       "3            9   3697\n",
       "4           10   3211"
      ]
     },
     "execution_count": 92,
     "metadata": {},
     "output_type": "execute_result"
    }
   ],
   "source": [
    "## lets check no of open credit lines\n",
    "open_acc = df.open_acc.value_counts().to_frame()\n",
    "open_acc.reset_index(inplace=True)\n",
    "open_acc = open_acc.rename(columns={'index':'no_open_acc','open_acc':'count'})\n",
    "top5 = open_acc.head()\n",
    "top5"
   ]
  },
  {
   "cell_type": "code",
   "execution_count": 93,
   "id": "f2347044",
   "metadata": {},
   "outputs": [
    {
     "data": {
      "image/png": "[encoded data removed]",
      "text/plain": [
       "<Figure size 1440x720 with 1 Axes>"
      ]
     },
     "metadata": {
      "needs_background": "light"
     },
     "output_type": "display_data"
    }
   ],
   "source": [
    "# lets get the distribution of credit lines for all borrowers\n",
    "plt.figure(figsize=(20,10))\n",
    "plots=sns.barplot(data=open_acc,x='no_open_acc',y='count')\n",
    "# Iterrating over the bars one-by-one\n",
    "for bar in plots.patches:\n",
    "    plots.annotate(format(bar.get_height(), '.2f'), \n",
    "                   (bar.get_x() + bar.get_width() / 2, \n",
    "                    bar.get_height()), ha='center', va='center',\n",
    "                   size=10, xytext=(0, 8),\n",
    "                   textcoords='offset points')\n",
    "  \n",
    "# Setting the label for x-axis\n",
    "plt.xlabel(\"no of open credit lines\", size=14)\n",
    "  \n",
    "# Setting the label for y-axis\n",
    "plt.ylabel(\"count of loans taken\", size=14)\n",
    "  \n",
    "# Setting the title for the graph\n",
    "plt.title(\"Counts of loans based v/s no_open_acc\")\n",
    "  \n",
    "# Fianlly showing the plot\n",
    "plt.show()"
   ]
  },
  {
   "cell_type": "code",
   "execution_count": 94,
   "id": "9829fd16",
   "metadata": {},
   "outputs": [
    {
     "data": {
      "text/plain": [
       "count    39455.000000\n",
       "mean         9.303536\n",
       "std          4.395186\n",
       "min          2.000000\n",
       "25%          6.000000\n",
       "50%          9.000000\n",
       "75%         12.000000\n",
       "max         44.000000\n",
       "Name: open_acc, dtype: float64"
      ]
     },
     "execution_count": 94,
     "metadata": {},
     "output_type": "execute_result"
    }
   ],
   "source": [
    "## understanding the distribution\n",
    "df.open_acc.describe()"
   ]
  },
  {
   "cell_type": "code",
   "execution_count": 95,
   "id": "69ab6e0d",
   "metadata": {},
   "outputs": [
    {
     "data": {
      "text/plain": [
       "<AxesSubplot:xlabel='open_acc'>"
      ]
     },
     "execution_count": 95,
     "metadata": {},
     "output_type": "execute_result"
    },
    {
     "data": {
      "image/png": "[encoded data removed]",
      "text/plain": [
       "<Figure size 432x288 with 1 Axes>"
      ]
     },
     "metadata": {
      "needs_background": "light"
     },
     "output_type": "display_data"
    }
   ],
   "source": [
    "## drawing a box plot to understand the outliers\n",
    "sns.boxplot(data=df,x=\"open_acc\")"
   ]
  },
  {
   "cell_type": "markdown",
   "id": "1e55df6e",
   "metadata": {},
   "source": [
    "- We observe that the data is normally distributed when checked on credit lines\n",
    "- This field is a ordered categorical data as well as a numeric data\n",
    "- More the credit lines, worse the borrower is. So removal of outliers might damage good information, if he ends up a defaulter.\n",
    "- Mean/median is around 9 credit lines which is very actually little high when we have to lend."
   ]
  },
  {
   "cell_type": "markdown",
   "id": "9cfd808e",
   "metadata": {},
   "source": [
    "### xix) total_rec_late_fee"
   ]
  },
  {
   "cell_type": "markdown",
   "id": "3770e080",
   "metadata": {},
   "source": [
    "- Cannot be analyzed independently as it depends on \n",
    "    - interest rate\n",
    "    - loan amount\n",
    "- Ratio of latefee/loanamount will give how much % of additional money they are paying. This will be a good parameter for checking defaulting rate."
   ]
  },
  {
   "cell_type": "markdown",
   "id": "2bb9ff5e",
   "metadata": {},
   "source": [
    "### xx) issue_d"
   ]
  },
  {
   "cell_type": "markdown",
   "id": "4e64ba08",
   "metadata": {},
   "source": [
    "- This is just a month of loan issue\n",
    "- Nothing interesting when observed alone as a parameter"
   ]
  },
  {
   "cell_type": "markdown",
   "id": "7453bc56",
   "metadata": {},
   "source": [
    "### xxi) addr_state"
   ]
  },
  {
   "cell_type": "code",
   "execution_count": 96,
   "id": "704ba8dc",
   "metadata": {
    "scrolled": true
   },
   "outputs": [
    {
     "data": {
      "text/html": [
       "<div>\n",
       "<style scoped>\n",
       "    .dataframe tbody tr th:only-of-type {\n",
       "        vertical-align: middle;\n",
       "    }\n",
       "\n",
       "    .dataframe tbody tr th {\n",
       "        vertical-align: top;\n",
       "    }\n",
       "\n",
       "    .dataframe thead th {\n",
       "        text-align: right;\n",
       "    }\n",
       "</style>\n",
       "<table border=\"1\" class=\"dataframe\">\n",
       "  <thead>\n",
       "    <tr style=\"text-align: right;\">\n",
       "      <th></th>\n",
       "      <th>state</th>\n",
       "      <th>count</th>\n",
       "    </tr>\n",
       "  </thead>\n",
       "  <tbody>\n",
       "    <tr>\n",
       "      <th>0</th>\n",
       "      <td>CA</td>\n",
       "      <td>7045</td>\n",
       "    </tr>\n",
       "    <tr>\n",
       "      <th>1</th>\n",
       "      <td>NY</td>\n",
       "      <td>3786</td>\n",
       "    </tr>\n",
       "    <tr>\n",
       "      <th>2</th>\n",
       "      <td>FL</td>\n",
       "      <td>2840</td>\n",
       "    </tr>\n",
       "    <tr>\n",
       "      <th>3</th>\n",
       "      <td>TX</td>\n",
       "      <td>2709</td>\n",
       "    </tr>\n",
       "    <tr>\n",
       "      <th>4</th>\n",
       "      <td>NJ</td>\n",
       "      <td>1834</td>\n",
       "    </tr>\n",
       "    <tr>\n",
       "      <th>5</th>\n",
       "      <td>IL</td>\n",
       "      <td>1519</td>\n",
       "    </tr>\n",
       "    <tr>\n",
       "      <th>6</th>\n",
       "      <td>PA</td>\n",
       "      <td>1509</td>\n",
       "    </tr>\n",
       "    <tr>\n",
       "      <th>7</th>\n",
       "      <td>VA</td>\n",
       "      <td>1401</td>\n",
       "    </tr>\n",
       "    <tr>\n",
       "      <th>8</th>\n",
       "      <td>GA</td>\n",
       "      <td>1389</td>\n",
       "    </tr>\n",
       "    <tr>\n",
       "      <th>9</th>\n",
       "      <td>MA</td>\n",
       "      <td>1336</td>\n",
       "    </tr>\n",
       "  </tbody>\n",
       "</table>\n",
       "</div>"
      ],
      "text/plain": [
       "  state  count\n",
       "0    CA   7045\n",
       "1    NY   3786\n",
       "2    FL   2840\n",
       "3    TX   2709\n",
       "4    NJ   1834\n",
       "5    IL   1519\n",
       "6    PA   1509\n",
       "7    VA   1401\n",
       "8    GA   1389\n",
       "9    MA   1336"
      ]
     },
     "execution_count": 96,
     "metadata": {},
     "output_type": "execute_result"
    }
   ],
   "source": [
    "## lets check top 10 different states where borrowers come from\n",
    "state = df.addr_state.value_counts().to_frame()\n",
    "state.reset_index(inplace=True)\n",
    "state = state.rename(columns={'index':'state','addr_state':'count'})\n",
    "top10 = state.head(10)\n",
    "top10"
   ]
  },
  {
   "cell_type": "code",
   "execution_count": 97,
   "id": "41aa4b9e",
   "metadata": {},
   "outputs": [
    {
     "data": {
      "image/png": "[encoded data removed]",
      "text/plain": [
       "<Figure size 1440x720 with 1 Axes>"
      ]
     },
     "metadata": {
      "needs_background": "light"
     },
     "output_type": "display_data"
    }
   ],
   "source": [
    "# lets get the distribution of top 10 states where borrowers come from\n",
    "plt.figure(figsize=(20,10))\n",
    "plots=sns.barplot(data=top10,x='state',y='count')\n",
    "# Iterrating over the bars one-by-one\n",
    "for bar in plots.patches:\n",
    "    plots.annotate(format(bar.get_height(), '.2f'), \n",
    "                   (bar.get_x() + bar.get_width() / 2, \n",
    "                    bar.get_height()), ha='center', va='center',\n",
    "                   size=10, xytext=(0, 8),\n",
    "                   textcoords='offset points')\n",
    "  \n",
    "# Setting the label for x-axis\n",
    "plt.xlabel(\"state\", size=14)\n",
    "  \n",
    "# Setting the label for y-axis\n",
    "plt.ylabel(\"count of loans taken\", size=14)\n",
    "  \n",
    "# Setting the title for the graph\n",
    "plt.title(\"Counts of loans based v/s top 10 states\")\n",
    "  \n",
    "# Fianlly showing the plot\n",
    "plt.show()"
   ]
  },
  {
   "cell_type": "code",
   "execution_count": 98,
   "id": "60fc90c7",
   "metadata": {},
   "outputs": [
    {
     "data": {
      "image/png": "[encoded data removed]",
      "text/plain": [
       "<Figure size 576x576 with 1 Axes>"
      ]
     },
     "metadata": {},
     "output_type": "display_data"
    }
   ],
   "source": [
    "#lets draw a pie chart to get the percentage proportions\n",
    "pie, ax = plt.subplots(figsize=[8,8])\n",
    "labels = list(top10.state)\n",
    "# print(labels)\n",
    "plt.pie(x=top10['count'], autopct=\"%.01f%%\", explode=[0.07]*len(labels), labels=labels, pctdistance=0.5)\n",
    "plt.title(\"loan proportion based on state\", fontsize=14);\n",
    "pie.savefig(\"state.png\")"
   ]
  },
  {
   "cell_type": "markdown",
   "id": "d9d4f11e",
   "metadata": {},
   "source": [
    "- Among all CA,NY and FL are the top 3 states where borrowers hail from"
   ]
  },
  {
   "cell_type": "markdown",
   "id": "82481bd9",
   "metadata": {},
   "source": [
    "### xxii) dti\n",
    "- debt to income ratio.\n",
    "- less it is, more reliable a borrower will be"
   ]
  },
  {
   "cell_type": "code",
   "execution_count": 99,
   "id": "85a7747b",
   "metadata": {},
   "outputs": [
    {
     "data": {
      "text/plain": [
       "dtype('float64')"
      ]
     },
     "execution_count": 99,
     "metadata": {},
     "output_type": "execute_result"
    }
   ],
   "source": [
    "#checking the type of dtype\n",
    "df.dti.dtype"
   ]
  },
  {
   "cell_type": "code",
   "execution_count": 100,
   "id": "c9008c3d",
   "metadata": {},
   "outputs": [
    {
     "data": {
      "text/plain": [
       "count    39455.000000\n",
       "mean        13.329128\n",
       "std          6.672340\n",
       "min          0.000000\n",
       "25%          8.200000\n",
       "50%         13.410000\n",
       "75%         18.600000\n",
       "max         29.990000\n",
       "Name: dti, dtype: float64"
      ]
     },
     "execution_count": 100,
     "metadata": {},
     "output_type": "execute_result"
    }
   ],
   "source": [
    "df.dti.describe()"
   ]
  },
  {
   "cell_type": "code",
   "execution_count": 101,
   "id": "77675aa1",
   "metadata": {},
   "outputs": [
    {
     "name": "stderr",
     "output_type": "stream",
     "text": [
      "c:\\users\\sameer\\anaconda3\\envs\\masters\\lib\\site-packages\\seaborn\\distributions.py:2557: FutureWarning: `distplot` is a deprecated function and will be removed in a future version. Please adapt your code to use either `displot` (a figure-level function with similar flexibility) or `histplot` (an axes-level function for histograms).\n",
      "  warnings.warn(msg, FutureWarning)\n"
     ]
    },
    {
     "data": {
      "image/png": "[encoded data removed]",
      "text/plain": [
       "<Figure size 432x576 with 1 Axes>"
      ]
     },
     "metadata": {
      "needs_background": "light"
     },
     "output_type": "display_data"
    }
   ],
   "source": [
    "plt.figure(figsize=(6,8))\n",
    "sns.distplot(df.dti)\n",
    "plt.show()"
   ]
  },
  {
   "cell_type": "markdown",
   "id": "e34604d8",
   "metadata": {},
   "source": [
    "- we can see that graph is normally distributed and mean,median are almost equal.\n",
    "- we can say that there are equal number of borrowers in left and right of the mean. company's benefit will be if number of borrowers are to the left of mean"
   ]
  },
  {
   "cell_type": "markdown",
   "id": "ddc11c5e",
   "metadata": {},
   "source": [
    "### xxiii) revol_bal\n",
    "- If you don't pay the balance on your revolving credit account in full every month, the unpaid portion carries over to the next month. That's called a revolving balance.\n"
   ]
  },
  {
   "cell_type": "markdown",
   "id": "c0da4bba",
   "metadata": {},
   "source": [
    "- This cannot be analysed as a single variable because, it can be dependent on things like:\n",
    "   - Tenure of the loan\n",
    "   - EMI of the loan\n",
    "   - Type of credit line the borrower is on.\n",
    "   - Salary of the borrower"
   ]
  },
  {
   "cell_type": "markdown",
   "id": "3d13cc00",
   "metadata": {},
   "source": [
    "### xxiv) revol_util"
   ]
  },
  {
   "cell_type": "code",
   "execution_count": 102,
   "id": "4c29f4f1",
   "metadata": {},
   "outputs": [
    {
     "data": {
      "text/plain": [
       "0    83.70%\n",
       "1     9.40%\n",
       "2    98.50%\n",
       "3       21%\n",
       "4    53.90%\n",
       "Name: revol_util, dtype: object"
      ]
     },
     "execution_count": 102,
     "metadata": {},
     "output_type": "execute_result"
    }
   ],
   "source": [
    "#check the values\n",
    "df.revol_util.head()"
   ]
  },
  {
   "cell_type": "code",
   "execution_count": 103,
   "id": "c1a2244d",
   "metadata": {},
   "outputs": [
    {
     "data": {
      "text/plain": [
       "0    83.7\n",
       "1     9.4\n",
       "2    98.5\n",
       "3    21.0\n",
       "4    53.9\n",
       "Name: revol_util, dtype: float64"
      ]
     },
     "execution_count": 103,
     "metadata": {},
     "output_type": "execute_result"
    }
   ],
   "source": [
    "## lets convert it from percentage to float value for analysis\n",
    "df.revol_util = df.revol_util.apply(lambda x: float(x[:-1]))\n",
    "df.revol_util.head()"
   ]
  },
  {
   "cell_type": "code",
   "execution_count": 104,
   "id": "a55f0e30",
   "metadata": {},
   "outputs": [
    {
     "data": {
      "text/plain": [
       "count    39455.000000\n",
       "mean        48.835630\n",
       "std         28.328159\n",
       "min          0.000000\n",
       "25%         25.400000\n",
       "50%         49.300000\n",
       "75%         72.300000\n",
       "max         99.900000\n",
       "Name: revol_util, dtype: float64"
      ]
     },
     "execution_count": 104,
     "metadata": {},
     "output_type": "execute_result"
    }
   ],
   "source": [
    "df.revol_util.describe()"
   ]
  },
  {
   "cell_type": "code",
   "execution_count": 105,
   "id": "2a3b6ca2",
   "metadata": {},
   "outputs": [
    {
     "data": {
      "text/plain": [
       "<AxesSubplot:ylabel='revol_util'>"
      ]
     },
     "execution_count": 105,
     "metadata": {},
     "output_type": "execute_result"
    },
    {
     "data": {
      "image/png": "[encoded data removed]",
      "text/plain": [
       "<Figure size 432x288 with 1 Axes>"
      ]
     },
     "metadata": {
      "needs_background": "light"
     },
     "output_type": "display_data"
    }
   ],
   "source": [
    "sns.boxplot(data=df, y = \"revol_util\")"
   ]
  },
  {
   "cell_type": "markdown",
   "id": "cd682175",
   "metadata": {},
   "source": [
    "- This utilization percentage looks very risky to a lender.\n",
    "- Around 49% is the mean/median for the credit utilization\n",
    "- 50% of the borrowers are between 25% - 75% of utilization\n",
    "- Now its dependent on the lender, what is the threshold he has set, to tell if he is reliable or not\n",
    "- Based on boxplot we can see there are no outliers as well. The data here is very uniformly distributed."
   ]
  },
  {
   "cell_type": "markdown",
   "id": "edea4bd6",
   "metadata": {},
   "source": [
    "### xxv) total_acc"
   ]
  },
  {
   "cell_type": "code",
   "execution_count": 106,
   "id": "6c9ea8c7",
   "metadata": {},
   "outputs": [
    {
     "data": {
      "text/plain": [
       "dtype('int64')"
      ]
     },
     "execution_count": 106,
     "metadata": {},
     "output_type": "execute_result"
    }
   ],
   "source": [
    "## lets check no of total credit lines\n",
    "df.total_acc.dtype"
   ]
  },
  {
   "cell_type": "code",
   "execution_count": 107,
   "id": "df78eaeb",
   "metadata": {},
   "outputs": [
    {
     "data": {
      "text/plain": [
       "count    39455.000000\n",
       "mean        22.122469\n",
       "std         11.395061\n",
       "min          2.000000\n",
       "25%         14.000000\n",
       "50%         20.000000\n",
       "75%         29.000000\n",
       "max         90.000000\n",
       "Name: total_acc, dtype: float64"
      ]
     },
     "execution_count": 107,
     "metadata": {},
     "output_type": "execute_result"
    }
   ],
   "source": [
    "df.total_acc.describe()"
   ]
  },
  {
   "cell_type": "code",
   "execution_count": 108,
   "id": "dcba1ef5",
   "metadata": {},
   "outputs": [
    {
     "data": {
      "text/plain": [
       "<AxesSubplot:ylabel='Frequency'>"
      ]
     },
     "execution_count": 108,
     "metadata": {},
     "output_type": "execute_result"
    },
    {
     "data": {
      "image/png": "[encoded data removed]",
      "text/plain": [
       "<Figure size 432x288 with 1 Axes>"
      ]
     },
     "metadata": {
      "needs_background": "light"
     },
     "output_type": "display_data"
    }
   ],
   "source": [
    "##lets check how the distribution looks\n",
    "df.total_acc.plot.hist()"
   ]
  },
  {
   "cell_type": "code",
   "execution_count": 109,
   "id": "f6af9081",
   "metadata": {},
   "outputs": [
    {
     "data": {
      "text/plain": [
       "<AxesSubplot:xlabel='total_acc'>"
      ]
     },
     "execution_count": 109,
     "metadata": {},
     "output_type": "execute_result"
    },
    {
     "data": {
      "image/png": "[encoded data removed]",
      "text/plain": [
       "<Figure size 720x288 with 1 Axes>"
      ]
     },
     "metadata": {
      "needs_background": "light"
     },
     "output_type": "display_data"
    }
   ],
   "source": [
    "##lets also see at the box plot to understand the outliers\n",
    "plt.figure(figsize=(10,4))\n",
    "sns.boxplot(data = df, x = 'total_acc')"
   ]
  },
  {
   "cell_type": "markdown",
   "id": "e57944b5",
   "metadata": {},
   "source": [
    "- The more the credit accounts, high possibility of defaulting based on theory. Thereby we can keep the outliers.\n",
    "- We can see that median is 20 lines of credit, which is high actually. "
   ]
  },
  {
   "cell_type": "markdown",
   "id": "8b71075f",
   "metadata": {},
   "source": [
    "### xxvi) last_payment_d"
   ]
  },
  {
   "cell_type": "code",
   "execution_count": 110,
   "id": "46323854",
   "metadata": {},
   "outputs": [
    {
     "data": {
      "text/plain": [
       "0    Jan-15\n",
       "1    Apr-13\n",
       "2    Jun-14\n",
       "3    Jan-15\n",
       "4    May-16\n",
       "Name: last_pymnt_d, dtype: object"
      ]
     },
     "execution_count": 110,
     "metadata": {},
     "output_type": "execute_result"
    }
   ],
   "source": [
    "df.last_pymnt_d.head()"
   ]
  },
  {
   "cell_type": "markdown",
   "id": "97b8a08b",
   "metadata": {},
   "source": [
    "- Nothing insightful can be derived when analysed alone as its value is a month value\n",
    "- May be we will get more insights when we use this and issue_d to get the total no of months paid till now and when did the defaulting happen."
   ]
  },
  {
   "cell_type": "markdown",
   "id": "4d2b5605",
   "metadata": {},
   "source": [
    "### xxvii) out_prncp"
   ]
  },
  {
   "cell_type": "markdown",
   "id": "da8c353e",
   "metadata": {},
   "source": [
    "- Remaining outstanding principal for total amount funded\n",
    "- As the description says, this will make more sense when we get the ratio of out_prncp/loan_amnt\n",
    "- We can also check, how close is he/she to the deadline and how much amount is still left to pay."
   ]
  },
  {
   "cell_type": "markdown",
   "id": "218d48ed",
   "metadata": {},
   "source": [
    "### xxviii) earliest_cr_line"
   ]
  },
  {
   "cell_type": "markdown",
   "id": "be2c0f20",
   "metadata": {},
   "source": [
    "- This is just a month value\n",
    "- Nothing insghtful when looked as a single variable"
   ]
  },
  {
   "cell_type": "markdown",
   "id": "26308dde",
   "metadata": {},
   "source": [
    "## BiVariate Analysis"
   ]
  },
  {
   "cell_type": "markdown",
   "id": "d35b0c6b",
   "metadata": {},
   "source": [
    "### 1) loan_amnt v/s loan_status"
   ]
  },
  {
   "cell_type": "code",
   "execution_count": null,
   "id": "d24c429a",
   "metadata": {},
   "outputs": [],
   "source": []
  }
 ],
 "metadata": {
  "kernelspec": {
   "display_name": "Python 3",
   "language": "python",
   "name": "python3"
  },
  "language_info": {
   "codemirror_mode": {
    "name": "ipython",
    "version": 3
   },
   "file_extension": ".py",
   "mimetype": "text/x-python",
   "name": "python",
   "nbconvert_exporter": "python",
   "pygments_lexer": "ipython3",
   "version": "3.6.13"
  }
 },
 "nbformat": 4,
 "nbformat_minor": 5
}
